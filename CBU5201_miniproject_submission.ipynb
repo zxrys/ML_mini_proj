{
 "metadata": {
  "kernelspec": {
   "name": "python3",
   "display_name": "Python 3 (ipykernel)",
   "language": "python"
  },
  "language_info": {
   "codemirror_mode": {
    "name": "python",
    "version": 3
   },
   "file_extension": ".py",
   "mimetype": "text/x-python",
   "name": "python",
   "nbconvert_exporter": "python",
   "pygments_lexer": "ipython3",
   "version": "3.8"
  },
  "colab": {
   "provenance": []
  }
 },
 "nbformat_minor": 4,
 "nbformat": 4,
 "cells": [
  {
   "cell_type": "markdown",
   "source": "# CBU5201 mini-project submission\n\n\n## What is the problem?\n\nThis year's mini-project considers the problem of predicting whether a narrated story is true or not. Specifically, you will build a machine learning model that takes as an input an audio recording of **3-5 minutes** of duration and predicts whether the story being narrated is **true or not**. \n\n\n## Which dataset will I use?\n\nA total of 100 samples consisting of a complete audio recording, a *Language* attribute and a *Story Type* attribute have been made available for you to build your machine learning model. The audio recordings can be downloaded from:\n\nhttps://github.com/CBU5201Datasets/Deception\n\nA CSV file recording the *Language* attribute and *Story Type* of each audio file can be downloaded from:\n\nhttps://github.com/CBU5201Datasets/Deception/blob/main/CBU0521DD_stories_attributes.csv\n\n\n\n\n## What will I submit?\n\nYour submission will consist of **one single Jupyter notebook** that should include:\n\n*   **Text cells**, describing in your own words, rigorously and concisely your approach, each implemented step and the results that you obtain,\n*   **Code cells**, implementing each step,\n*   **Output cells**, i.e. the output from each code cell,\n\nYour notebook **should have the structure** outlined below. Please make sure that you **run all the cells** and that the **output cells are saved** before submission. \n\nPlease save your notebook as:\n\n* CBU5201_miniproject.ipynb\n\n\n## How will my submission be evaluated?\n\nThis submission is worth 16 marks. We will value:\n\n*   Conciseness in your writing.\n*   Correctness in your methodology.\n*   Correctness in your analysis and conclusions.\n*   Completeness.\n*   Originality and efforts to try something new.\n\n(4 marks are given based on your audio submission from stage 1.)\n\n**The final performance of your solutions will not influence your grade**. We will grade your understanding. If you have an good understanding, you will be using the right methodology, selecting the right approaches, assessing correctly the quality of your solutions, sometimes acknowledging that despite your attempts your solutions are not good enough, and critically reflecting on your work to suggest what you could have done differently. \n\nNote that **the problem that we are intending to solve is very difficult**. Do not despair if you do not get good results, **difficulty is precisely what makes it interesting** and **worth trying**. \n\n## Show the world what you can do \n\nWhy don't you use **GitHub** to manage your project? GitHub can be used as a presentation card that showcases what you have done and gives evidence of your data science skills, knowledge and experience. **Potential employers are always looking for this kind of evidence**. \n\n\n\n",
   "metadata": {
    "id": "91MsGMTna_P9"
   }
  },
  {
   "cell_type": "markdown",
   "source": "-------------------------------------- PLEASE USE THE STRUCTURE BELOW THIS LINE --------------------------------------------",
   "metadata": {}
  },
  {
   "cell_type": "markdown",
   "source": "# [Your title goes here]",
   "metadata": {}
  },
  {
   "cell_type": "markdown",
   "source": [
    "# 1 Author\n",
    "\n",
    "**Student Name**: Yao Shu \n",
    "**Student ID**:   2022213525\n",
    "\n"
   ],
   "metadata": {
    "id": "ZaGn4ICrfqXZ"
   }
  },
  {
   "cell_type": "markdown",
   "source": [
    "# 2 Problem formulation\n",
    "\n",
    "Describe the machine learning problem that you want to solve and explain what's interesting about it.\n",
    "\n",
    "### Machine Learning Problem\n",
    "\n",
    "The objective of this project is to develop a machine learning model capable of predicting the veracity of a narrated story based on its audio recording. Specifically, the model will classify each story as either **true** or **false** using audio data with a duration of **3-5 minutes**. This binary classification task involves processing and analyzing both the linguistic content and the acoustic features of the narration to discern patterns indicative of deception or authenticity.\n",
    "\n",
    "### Why This Problem is Interesting\n",
    "\n",
    "Deception detection in spoken narratives is a challenging and multifaceted problem that intersects fields such as natural language processing (NLP), speech processing, psychology, and behavioral analysis. Understanding whether a story is true or fabricated based solely on its audio recording has significant real-world applications, including:\n",
    "\n",
    "- **Security and Forensics**: Enhancing the capabilities of law enforcement agencies to assess the credibility of eyewitness accounts and testimonies.\n",
    "- **Media and Journalism**: Assisting in the verification of information disseminated through oral storytelling platforms.\n",
    "- **Social Media Monitoring**: Detecting misinformation and fake news propagated through audio formats like podcasts and voice messages.\n",
    "- **Human-Computer Interaction**: Improving the reliability of voice-based virtual assistants and customer service bots by identifying deceptive user inputs.\n",
    "\n",
    "The inherent complexity of this problem lies in the subtle cues that differentiate truthful narratives from deceptive ones, which may be embedded in both the content of the speech and the way it is delivered. This requires a sophisticated approach that leverages multiple modalities of data to capture a comprehensive set of features relevant to deception detection."
   ],
   "metadata": {
    "id": "o38VQkcdKd6k"
   }
  },
  {
   "cell_type": "markdown",
   "source": [
    "# 3 Methodology\n",
    "\n",
    "Describe your methodology. Specifically, describe your training task and validation task, and how model performance is defined (i.e. accuracy, confusion matrix, etc). Any other tasks that might help you build your model should also be described here.\n",
    "\n",
    "### Overview\n",
    "\n",
    "To address the problem of predicting the truthfulness of narrated stories, a **multimodal machine learning approach** will be employed. This approach integrates both **textual** and **audio** features extracted from the recordings to enhance the model's ability to detect deception. The methodology encompasses data preprocessing, feature extraction, feature fusion, model training, and evaluation.\n",
    "\n",
    "### Training Task and Validation Task\n",
    "\n",
    "- **Training Task**: The model will be trained to classify each audio recording into one of two categories: **True** or **False**. The training process involves learning patterns and features from both the transcribed text and the audio signal that correlate with the veracity of the story.\n",
    "  \n",
    "- **Validation Task**: The model's performance will be evaluated on a separate validation set to assess its generalization capability. Cross-validation techniques, such as k-fold cross-validation, will be employed to ensure robust performance metrics and to mitigate overfitting, especially given the limited dataset size.\n",
    "\n",
    "### Feature Extraction\n",
    "\n",
    "#### 1. Audio Feature Extraction\n",
    "\n",
    "To capture the acoustic characteristics of the narration, the following audio features will be extracted:\n",
    "\n",
    "- **MFCC (Mel-Frequency Cepstral Coefficients)**: These coefficients effectively represent the short-term power spectrum of the audio signal and are widely used in speech and speaker recognition tasks.\n",
    "  \n",
    "- **Prosodic Features**: Including pitch (fundamental frequency), energy (intensity), and speech rate (tempo), which can provide insights into the speaker's emotional state and stress levels, potentially indicative of deception.\n",
    "  \n",
    "- **Spectral Features**: Such as spectral centroid, bandwidth, and roll-off, which describe the distribution of energy across different frequency bands.\n",
    "  \n",
    "- **Pre-trained Audio Embeddings**: Utilizing models like **Wav2Vec 2.0** or **VGGish** to extract high-level, contextual audio features that capture complex patterns beyond traditional acoustic features.\n",
    "\n",
    "#### 2. Text Feature Extraction\n",
    "\n",
    "The audio recordings will first be transcribed into text using a reliable speech-to-text system. Subsequently, the following textual features will be extracted:\n",
    "\n",
    "- **BERT-based Embeddings**: Leveraging pre-trained language models like **BERT**, **RoBERTa**, or **ALBERT** to obtain rich, contextualized embeddings that encapsulate the semantic and syntactic nuances of the narrated story.\n",
    "  \n",
    "- **Linguistic Features**: Such as sentiment scores, keyword frequencies, and syntactic complexity, which may correlate with the truthfulness of the narrative.\n",
    "\n",
    "### Feature Fusion\n",
    "\n",
    "After extracting both audio and textual features, the next step is to **fuse** these multimodal features to create a comprehensive representation for each audio sample. The fusion process can be approached in the following ways:\n",
    "\n",
    "- **Feature Concatenation**: Simply concatenating the audio and text feature vectors to form a single combined feature vector, which is then fed into the classification model.\n",
    "  \n",
    "- **Attention Mechanisms**: Implementing attention layers that learn to weigh the importance of different features from each modality, allowing the model to focus on the most relevant aspects for deception detection.\n",
    "  \n",
    "- **Multimodal Transformers**: Utilizing transformer-based architectures designed to handle multiple data modalities, enabling the model to learn intricate interactions between audio and text features.\n",
    "\n",
    "### Model Training\n",
    "\n",
    "The fused features will be input into a classification model to perform the binary classification task. Potential models include:\n",
    "\n",
    "- **Fully Connected Neural Networks**: Simple architectures with dense layers to process the combined feature vector.\n",
    "  \n",
    "- **Ensemble Methods**: Combining predictions from separate audio and text classifiers to improve overall performance.\n",
    "  \n",
    "- **Multimodal Deep Learning Models**: Architectures specifically designed to handle and integrate multiple data types, potentially enhancing the model's ability to capture complex patterns indicative of deception.\n",
    "\n",
    "### Model Performance Definition\n",
    "\n",
    "The performance of the model will be assessed using the following evaluation metrics:\n",
    "\n",
    "- **Accuracy**: The proportion of correctly classified instances out of the total number of samples.\n",
    "  \n",
    "- **Confusion Matrix**: A detailed breakdown of true positives, true negatives, false positives, and false negatives to understand the types of errors the model makes.\n",
    "  \n",
    "- **Precision, Recall, and F1-Score**: To evaluate the model's ability to correctly identify true positives and minimize false positives and false negatives, especially important if there is class imbalance.\n",
    "  \n",
    "- **ROC-AUC (Receiver Operating Characteristic - Area Under Curve)**: To measure the model's ability to distinguish between the two classes across different threshold settings.\n",
    "\n",
    "### Additional Tasks\n",
    "\n",
    "- **Data Augmentation**: Implementing techniques such as adding background noise, varying speech speed, or performing synthetic transcription perturbations to artificially increase the size of the training dataset and improve model robustness.\n",
    "  \n",
    "- **Hyperparameter Tuning**: Optimizing model hyperparameters using techniques like grid search or Bayesian optimization to enhance performance.\n",
    "  \n",
    "- **Cross-Validation**: Employing k-fold cross-validation to ensure that the model's performance is consistent across different subsets of the data and to provide a more reliable estimate of its generalization ability.\n",
    "  \n",
    "- **Error Analysis**: Investigating misclassified samples to identify patterns or specific characteristics that the model struggles with, providing insights for further improvement.\n",
    "\n",
    "### Summary\n",
    "\n",
    "By integrating both audio and textual features through a multimodal approach, the methodology aims to leverage the complementary strengths of each data modality to enhance the model's ability to accurately predict the truthfulness of narrated stories. This comprehensive approach, combined with rigorous evaluation and validation techniques, is designed to address the complexities inherent in deception detection and to maximize the model's performance given the constraints of a limited dataset."
   ],
   "metadata": {
    "id": "bPTSuaB9L2jU"
   }
  },
  {
   "cell_type": "markdown",
   "source": [
    "# 4 Implemented ML prediction pipelines\n",
    "\n",
    "Describe the ML prediction pipelines that you will explore. Clearly identify their input and output, stages and format of the intermediate data structures moving from one stage to the next. It's up to you to decide which stages to include in your pipeline. After providing an overview, describe in more detail each one of the stages that you have included in their corresponding subsections (i.e. 4.1 Transformation stage, 4.2 Model stage, 4.3 Ensemble stage)."
   ],
   "metadata": {
    "id": "N3BwrtEdLDit"
   }
  },
  {
   "metadata": {
    "ExecuteTime": {
     "end_time": "2024-12-17T03:53:05.543694Z",
     "start_time": "2024-12-17T03:53:05.054915Z"
    }
   },
   "cell_type": "code",
   "source": [
    "from transformation.audio_feature.audio_feature_extract import (\n",
    "    load_features,\n",
    "    process_and_save_features)\n",
    "from sklearn.decomposition import PCA\n",
    "from sklearn.feature_selection import SelectKBest, f_classif\n",
    "from sklearn.preprocessing import StandardScaler\n",
    "from sklearn.model_selection import train_test_split\n",
    "import shap\n",
    "from sklearn.ensemble import RandomForestClassifier\n",
    "import matplotlib.pyplot as plt\n",
    "import numpy as np\n",
    "import joblib\n",
    "import os\n",
    "\n",
    "csv_path = 'data/raw/CBU0521DD_stories_attributes.csv'\n",
    "audio_directory = 'data/raw/CBU0521DD_stories'\n",
    "feature_path = 'data/processed/audio_feature/feature_matrix.joblib'\n",
    "label_path = 'data/processed/audio_feature/labels.joblib'\n",
    "\n",
    "if os.path.exists(feature_path) and os.path.exists(label_path):\n",
    "    feature_matrix, labels = load_features(feature_path, label_path)\n",
    "else:\n",
    "    # If not, process and save features\n",
    "    os.makedirs(\"data/processed/audio_feature/\", exist_ok=True)\n",
    "    process_and_save_features(audio_directory, feature_path, label_path, csv_path)\n",
    "    feature_matrix, labels = load_features(feature_path, label_path)\n",
    "\n",
    "print(f\"Feature matrix shape: {feature_matrix.shape}\")\n",
    "print(f\"Labels shape: {labels.shape}\")\n",
    "X = feature_matrix\n",
    "y = labels\n",
    "\n",
    "# Split the dataset\n",
    "X_train, X_test, y_train, y_test = train_test_split(\n",
    "    X, y, test_size=0.15, random_state=42, stratify=y\n",
    ")\n",
    "\n",
    "# Apply PCA\n",
    "pca = PCA(n_components=0.95, random_state=42)\n",
    "X_train_pca = pca.fit_transform(X_train)\n",
    "X_test_pca = pca.transform(X_test)\n",
    "\n",
    "print(f\"Training set shape after PCA: {X_train_pca.shape}\")\n",
    "print(f\"Test set shape after PCA: {X_test_pca.shape}\")\n",
    "\n",
    "# Feature selection\n",
    "selector = SelectKBest(score_func=f_classif, k=3)\n",
    "X_train_selected = selector.fit_transform(X_train_pca, y_train)\n",
    "X_test_selected = selector.transform(X_test_pca)\n",
    "\n",
    "print(f\"Training set shape after feature selection: {X_train_selected.shape}\")\n",
    "print(f\"Test set shape after feature selection: {X_test_selected.shape}\")\n",
    "\n",
    "scaler = StandardScaler()\n",
    "X_train_scaled = scaler.fit_transform(X_train_selected)\n",
    "X_test_scaled = scaler.transform(X_test_selected)\n",
    "\n",
    "# Define feature_names as a NumPy array\n",
    "feature_names = np.array([f'Feature {i}' for i in range(X_train_scaled.shape[1])])\n",
    "\n",
    "# Save preprocessing objects for future use\n",
    "preprocessing_dir = 'data/processed/audio_feature/preprocessing'\n",
    "os.makedirs(preprocessing_dir, exist_ok=True)\n",
    "joblib.dump(pca, os.path.join(preprocessing_dir, 'pca.joblib'))\n",
    "joblib.dump(selector, os.path.join(preprocessing_dir, 'selector.joblib'))\n",
    "joblib.dump(scaler, os.path.join(preprocessing_dir, 'scaler.joblib'))\n",
    "\n",
    "print(\"Preprocessing objects saved.\")\n",
    "\n",
    "# Train model\n",
    "retrain = True\n",
    "model_path = 'models/random_forest.joblib'\n",
    "if os.path.exists(model_path) and not retrain:\n",
    "    model = joblib.load(model_path)\n",
    "else:\n",
    "    model = RandomForestClassifier(n_estimators=100, random_state=42)\n",
    "    model.fit(X_train_scaled, y_train)\n",
    "    \n",
    "    # Save the trained model\n",
    "    os.makedirs(os.path.dirname(model_path), exist_ok=True)\n",
    "    joblib.dump(model, model_path)\n",
    "    print(f\"Model saved to {model_path}\")\n",
    "\n",
    "# Explainability analysis - SHAP\n",
    "explainer = shap.TreeExplainer(model)\n",
    "shap_values = explainer.shap_values(X_train_scaled)\n",
    "\n",
    "# Inspect SHAP values\n",
    "print(f\"Type of shap_values: {type(shap_values)}\")\n",
    "if isinstance(shap_values, list):\n",
    "    for i, sv in enumerate(shap_values):\n",
    "        print(f\"Shape of shap_values[{i}]: {sv.shape}\")\n",
    "else:\n",
    "    print(f\"Shape of shap_values: {shap_values.shape}\")\n",
    "\n",
    "print(f\"Shape of X_train_scaled: {X_train_scaled.shape}\")\n",
    "\n",
    "# Plot SHAP summary plot based on the structure of shap_values\n",
    "if isinstance(shap_values, list):\n",
    "    if len(shap_values) == 2:  # Binary classification\n",
    "        shap.summary_plot(\n",
    "            shap_values[1], \n",
    "            X_train_scaled,\n",
    "            feature_names=feature_names\n",
    "        )\n",
    "        plt.figure(figsize=(15,10))\n",
    "        plt.show()  # 显示图形\n",
    "        print(\"SHAP summary plot displayed.\")\n",
    "    else:  # Multiclass classification\n",
    "        for i, sv in enumerate(shap_values):\n",
    "            plt.figure(figsize=(15,10))\n",
    "            shap.summary_plot(\n",
    "                sv, \n",
    "                X_train_scaled,\n",
    "                feature_names=feature_names,\n",
    "                show=False\n",
    "            )\n",
    "            plt.title(f'SHAP Summary Plot for Class {model.classes_[i]}')\n",
    "            plt.show()\n",
    "            print(f\"SHAP summary plot for class {model.classes_[i]} displayed.\")\n",
    "else:\n",
    "    plt.figure(figsize=(15,10))\n",
    "    shap.summary_plot(\n",
    "        shap_values, \n",
    "        X_train_scaled,\n",
    "        feature_names=feature_names,\n",
    "        plot_size=(100, 100)\n",
    "    )\n",
    "    plt.show()\n",
    "    print(\"SHAP summary plot displayed.\")\n"
   ],
   "outputs": [
    {
     "name": "stdout",
     "output_type": "stream",
     "text": [
      "Features loaded from data/processed/audio_feature/feature_matrix.joblib\n",
      "Labels loaded from data/processed/audio_feature/labels.joblib\n",
      "Feature matrix shape: (100, 831)\n",
      "Labels shape: (100,)\n",
      "Training set shape after PCA: (85, 3)\n",
      "Test set shape after PCA: (15, 3)\n",
      "Training set shape after feature selection: (85, 3)\n",
      "Test set shape after feature selection: (15, 3)\n",
      "Preprocessing objects saved.\n",
      "Model saved to models/random_forest.joblib\n",
      "Type of shap_values: <class 'numpy.ndarray'>\n",
      "Shape of shap_values: (85, 3, 2)\n",
      "Shape of X_train_scaled: (85, 3)\n"
     ]
    },
    {
     "data": {
      "text/plain": [
       "<Figure size 1500x1000 with 0 Axes>"
      ]
     },
     "metadata": {},
     "output_type": "display_data"
    },
    {
     "data": {
      "text/plain": [
       "<Figure size 1150x660 with 2 Axes>"
      ],
      "image/png": "[encoded data removed]"
     },
     "metadata": {},
     "output_type": "display_data"
    },
    {
     "name": "stdout",
     "output_type": "stream",
     "text": [
      "SHAP summary plot displayed.\n"
     ]
    }
   ],
   "execution_count": 25
  },
  {
   "metadata": {
    "ExecuteTime": {
     "end_time": "2024-12-17T03:53:15.576074Z",
     "start_time": "2024-12-17T03:53:15.441356Z"
    }
   },
   "cell_type": "code",
   "source": [
    "from sklearn.metrics import accuracy_score, classification_report, confusion_matrix\n",
    "import seaborn as sns\n",
    "import matplotlib.pyplot as plt\n",
    "import joblib\n",
    "\n",
    "# load model\n",
    "model_path = 'models/random_forest.joblib'\n",
    "model = joblib.load(model_path)\n",
    "print(f\"Model loaded from {model_path}\")\n",
    "\n",
    "# predict on test dataset\n",
    "y_pred = model.predict(X_test_scaled)\n",
    "\n",
    "# evaluate\n",
    "accuracy = accuracy_score(y_test, y_pred)\n",
    "print(f\"Test Accuracy: {accuracy:.4f}\")\n",
    "\n",
    "print(\"Classification Report:\")\n",
    "print(classification_report(y_test, y_pred))\n",
    "\n",
    "# confusion matrix\n",
    "cm = confusion_matrix(y_test, y_pred)\n",
    "plt.figure(figsize=(8, 6))\n",
    "sns.heatmap(cm, annot=True, fmt='d', cmap='Blues', xticklabels=['Class 0', 'Class 1'], yticklabels=['Class 0', 'Class 1'])\n",
    "plt.title('Confusion Matrix')\n",
    "plt.xlabel('Predicted Label')\n",
    "plt.ylabel('True Label')\n",
    "plt.show()"
   ],
   "outputs": [
    {
     "name": "stdout",
     "output_type": "stream",
     "text": [
      "Model loaded from models/random_forest.joblib\n",
      "Test Accuracy: 0.6000\n",
      "Classification Report:\n",
      "              precision    recall  f1-score   support\n",
      "\n",
      "           0       0.62      0.62      0.62         8\n",
      "           1       0.57      0.57      0.57         7\n",
      "\n",
      "    accuracy                           0.60        15\n",
      "   macro avg       0.60      0.60      0.60        15\n",
      "weighted avg       0.60      0.60      0.60        15\n",
      "\n"
     ]
    },
    {
     "data": {
      "text/plain": [
       "<Figure size 800x600 with 2 Axes>"
      ],
      "image/png": "[encoded data removed]"
     },
     "metadata": {},
     "output_type": "display_data"
    }
   ],
   "execution_count": 26
  },
  {
   "cell_type": "markdown",
   "source": [
    "\n",
    "\n",
    "### 4.1.1 Text feature extraction"
   ],
   "metadata": {
    "id": "j1nDXnzYLLH6"
   }
  },
  {
   "metadata": {
    "ExecuteTime": {
     "end_time": "2024-12-16T13:10:03.229828Z",
     "start_time": "2024-12-16T13:01:22.811404Z"
    }
   },
   "cell_type": "code",
   "source": [
    "\n",
    "from transformation.text_feature import speech_to_text\n",
    "\n",
    "text_root_path = speech_to_text.convert_speech_to_text(\n",
    "    \"data/raw/CBU0521DD_stories\",\n",
    "    \"data/processed/text_feature\",\n",
    "    \"data/raw/CBU0521DD_stories_attributes.csv\",\n",
    "    model_type=\"whisper\",\n",
    "    whisper_model_size=\"base\"\n",
    ")"
   ],
   "outputs": [
    {
     "name": "stderr",
     "output_type": "stream",
     "text": [
      "/Users/shuyao/Code/in_class/ML_mini_proj/ML_mini_proj/.venv/lib/python3.12/site-packages/whisper/__init__.py:150: FutureWarning: You are using `torch.load` with `weights_only=False` (the current default value), which uses the default pickle module implicitly. It is possible to construct malicious pickle data which will execute arbitrary code during unpickling (See https://github.com/pytorch/pytorch/blob/main/SECURITY.md#untrusted-models for more details). In a future release, the default value for `weights_only` will be flipped to `True`. This limits the functions that could be executed during unpickling. Arbitrary objects will no longer be allowed to be loaded via this mode unless they are explicitly allowlisted by the user via `torch.serialization.add_safe_globals`. We recommend you start setting `weights_only=True` for any use case where you don't have full control of the loaded file. Please open an issue on GitHub for any issues related to this experimental feature.\n",
      "  checkpoint = torch.load(fp, map_location=device)\n",
      "Processing Audio Files:   0%|          | 0/100 [00:00<?, ?it/s]/Users/shuyao/Code/in_class/ML_mini_proj/ML_mini_proj/.venv/lib/python3.12/site-packages/whisper/transcribe.py:126: UserWarning: FP16 is not supported on CPU; using FP32 instead\n",
      "  warnings.warn(\"FP16 is not supported on CPU; using FP32 instead\")\n"
     ]
    },
    {
     "name": "stdout",
     "output_type": "stream",
     "text": [
      "Processing: 00001.wav (Language: Chinese)\n"
     ]
    },
    {
     "name": "stderr",
     "output_type": "stream",
     "text": [
      "Processing Audio Files:   1%|          | 1/100 [00:04<06:48,  4.12s/it]"
     ]
    },
    {
     "name": "stdout",
     "output_type": "stream",
     "text": [
      "Result: 2021年的冬天,我回了一趟老家探望外婆,那年她身體不好,住在離村子不遠的小鎮醫院裡。冬天的風特別刺鼓,我淚著一大兒她喜歡吃的水果,走進了醫院。外婆見到我時,臉上露出了久違的笑容。她說,你怎麼知道我最想吃的就是橙子。我們在病房裡聊了很多,我問她治療的怎麼樣,她卻總是查開話題,說家裡最近的事情,比如心甘的房子,重下的幾顆果樹。我能看出她在努力表現得很堅強,但也能感受到她眼中藏不住的疲憊。下午的時候,我推著她的輪椅到醫院後面的花園,冬天的陽光很淡,卻讓人覺得溫暖。外婆靜靜地看著那些哭黃的數顫,忽然開口問我,你是不是覺得時間過得太快了?我沒回答,因為我也有同樣的感受。她開始講起年輕時候的故事,說她當年如何背著我母親翻過一座山去找工作,又如何在最艱難的時候,重點養家。我聽著這些故事,心裡忽然覺得很愧疚。愧疚於自己平時總覺得工作忙,沒時間回來看她,而她卻從未抱怨我不常回家。離開醫院的時候,我回頭看了看到花園裡的她,陽光落在她的白髮上,我心裡想著,以後無論多忙,我都要經常回來看她,因為陪伴才是她最需要的東西。\n",
      "File saved to: data/processed/text_feature/whisper_base/00001.txt\n",
      "Processing: 00002.wav (Language: Chinese)\n"
     ]
    },
    {
     "name": "stderr",
     "output_type": "stream",
     "text": [
      "/Users/shuyao/Code/in_class/ML_mini_proj/ML_mini_proj/.venv/lib/python3.12/site-packages/whisper/transcribe.py:126: UserWarning: FP16 is not supported on CPU; using FP32 instead\n",
      "  warnings.warn(\"FP16 is not supported on CPU; using FP32 instead\")\n",
      "Processing Audio Files:   2%|▏         | 2/100 [00:08<06:49,  4.18s/it]"
     ]
    },
    {
     "name": "stdout",
     "output_type": "stream",
     "text": [
      "Result: 2022年属價,我終於實現了去雲南旅行的夢想雲南的美景和獨特文化一直是我向往的而這次旅行讓我深深感受到它的魅力最讓我難忘的是在R海邊騎行的一天那種自由和寧靜的感覺至今難忘清晨,我從大力古城租了一輛自行車沿著R海的湖邊小道騎行R海的水面在清晨十分如鏡子般平靜倒映著周圍的清晨和天上的白雲清風輕輕吹過湖面泛起點點連一陽光草帶水面上,整個畫面仿佛式從畫中走出來的我邊騎車邊拍照不時停下來欣賞眼前的美景一路上我遇到了許多同樣騎行的遊客有的來自南方,有的來自國外大家都被R海的寧靜之美所折腐中午我在湖邊的一家小餐廳挺下品嘗了地道的雲南美食特別是當地的烤爐扇外交里面奶香濃郁,讓人一口難忘下午我繼續騎行一路欣賞R海的不同角度有些地方可以看到魚船在湖面上緩緩滑過有些地方則被盜田和小村莊緩繞每一處風景都令人流連望返半晚十分我在R海邊的觀景台坐下西洋讓紅了整個湖面魚船歸行的景象安靜而美麗我感受到一種前所未有的寧靜與滿足這次旅行不僅讓我看到了R海的美也讓我更懂得如何在生活中找到內心的寧靜\n",
      "File saved to: data/processed/text_feature/whisper_base/00002.txt\n",
      "Processing: 00003.wav (Language: Chinese)\n"
     ]
    },
    {
     "name": "stderr",
     "output_type": "stream",
     "text": [
      "/Users/shuyao/Code/in_class/ML_mini_proj/ML_mini_proj/.venv/lib/python3.12/site-packages/whisper/transcribe.py:126: UserWarning: FP16 is not supported on CPU; using FP32 instead\n",
      "  warnings.warn(\"FP16 is not supported on CPU; using FP32 instead\")\n",
      "Processing Audio Files:   3%|▎         | 3/100 [00:13<07:41,  4.75s/it]"
     ]
    },
    {
     "name": "stdout",
     "output_type": "stream",
     "text": [
      "Result: 这是我的故事。我的旅程,从驻名的故宫开始,它是世界上最大,保存最完整的皇宫建筑群。到我踏入那巨大的红色公文时,仿佛穿越到了历史中。今美的雕刻,经编辉皇的污顶和广阔的停阅,展现了明清皇朝的灰红气势。在游览太和电和预花圆时,我对这里的建筑工艺和丰富历史着着着着着着着明。接着,我前往距离市区不远的,成长城墨域田断,这段长城以壮丽的景色和叫少游客温明。参能过程虽然辛苦,但占在顶端游望棉严的山领和沉的长城,所有的匹备都腰消雨散,在这做古老的防御工程上,我感受到了一种穿越千年的震撼。回到市中西,我参观了天安门广场,这是世界上最大的广场之一,广场的规模,壮观规模令人震撼,我花了一些时间,沉思他的文化和历史意义,不远处。我还参加了,我还参观了天谈,一座民带的建筑,节作,那原型的祈年电,即壮力又向着了天然合一的理念。北京的美食同样的言声客,我平常著名的北京烤鸦,这道传承百年的美味令我回味无穷,除时写熟的切片,宝粹的鸭皮和柔嫩的鸭肉,排拉搭配饱饼和铁面酱,解直是味觉的胜厌。晚上,我慢不在热闹的胡同里,这些狭窄的巷子展现了北京传统的一面,小院子接遍的小吃摊和特色小店让我感觉到,当地人的生活与优险,北京是一种充满对比的城市,古老的传统和现代的创新在这里交织,每一刻都向一段精彩的故事,我和心愈能成为他的一部分。\n",
      "File saved to: data/processed/text_feature/whisper_base/00003.txt\n",
      "Processing: 00004.wav (Language: Chinese)\n"
     ]
    },
    {
     "name": "stderr",
     "output_type": "stream",
     "text": [
      "/Users/shuyao/Code/in_class/ML_mini_proj/ML_mini_proj/.venv/lib/python3.12/site-packages/whisper/transcribe.py:126: UserWarning: FP16 is not supported on CPU; using FP32 instead\n",
      "  warnings.warn(\"FP16 is not supported on CPU; using FP32 instead\")\n",
      "Processing Audio Files:   4%|▍         | 4/100 [00:19<07:56,  4.96s/it]"
     ]
    },
    {
     "name": "stdout",
     "output_type": "stream",
     "text": [
      "Result: 在2020年,我報名參加了學校組織的美國嚴選活動我跟我的另外兩個同學以及許多老師同學們一起參加了這次美國旅行在1月15號文迪達的美國紐約之後的旅行都是乘坐大巴進行的我跟同學一起吃的一頓非常豐盛的早餐那是一家中式餐廳早餐有熟悉的包子、餃子、粥還有蠻頭之類的之後我一起乘坐大巴嚴的大巴看街上的美國的風景我在車上看到了美國本土的型發科以及一個哥特士的建築我還拍照紀念下來之後我跟我的同學一起來到哥倫比亞大學進行參觀遊覽大學的廣場非常廣闊、陽光灑在草坪上非常地非常賞心願望當時是冬天所以我們穿著羽翁浮漫步在哥倫比亞大學裡我看到了不同學院的各級特色的建築包括哲學院和法學院我還看到有個子在地面上散步非常和諧美好的一幕哥倫比亞大學智慧女神、雅典娜雕像非常的端端素在大學的參觀結束之後我跟我同學和老師們一起在這個雕像面前合影流面之後我穩坐大巴去到了華爾街我摸到了著名的金牛雕像聽說摸了他的牛角,他的魏國帶來財富也算是一個美好的利益了我也在這個金牛雕像面前合影流面了之後我跟我的團隊一起乘坐遊輪去寬魔自由女神像若不是親眼所見我是一定不會感受到他的壯觀很美麗的果然圖片帶給人的感覺跟親眼看的完全不一樣現場看到自由女神上那叫一個未為壯觀他高舉的火距像是在抗爭未的自由我總共在美國帶了七天就回國這真的是一次非常精彩而且很有意義的旅行\n",
      "File saved to: data/processed/text_feature/whisper_base/00004.txt\n",
      "Processing: 00005.wav (Language: Chinese)\n"
     ]
    },
    {
     "name": "stderr",
     "output_type": "stream",
     "text": [
      "/Users/shuyao/Code/in_class/ML_mini_proj/ML_mini_proj/.venv/lib/python3.12/site-packages/whisper/transcribe.py:126: UserWarning: FP16 is not supported on CPU; using FP32 instead\n",
      "  warnings.warn(\"FP16 is not supported on CPU; using FP32 instead\")\n",
      "Processing Audio Files:   5%|▌         | 5/100 [00:24<07:51,  4.96s/it]"
     ]
    },
    {
     "name": "stdout",
     "output_type": "stream",
     "text": [
      "Result: 今天我想和大家分享我去年的闪西之旅,当我踏上这片古老的土地,心中充满了期待与尽为。我在闪西之旅的第一站是西安,这座千年古度仿佛叔叔这历史的苍苍。外部在古城墙上,我仿佛等听到历史的回应,每一块专时都成在这后重的历史。走进冰王勇博物馆,那一列列徐徐如生的逃勇,让我感受到了秦始皇统一六国的霸气与徽皇。接着我来到了新华宫,这里曾是唐玄宗与杨贵妃的爱情见证地,外部在温泉庞,我仿佛看到他们当年在此息息的场景。感受到那份花月千年的浪漫,当然闪西美食也是不容易错过的。一碗热层层的羊肉泡膜,让我品尝到了当地地导的风味,那浓郁的汤汁鲜嫩的羊肉,还有那香脆的膜坏,每一口都让我回味无形。这次的闪西之旅,让我深刻感受到了中华文明的伯大金深,从古老的城墙到中华的冰马勇,从浪漫的秦华宫到每月的羊肉泡膜,每闪西的每一个地方都让我流连望返。在这闪西,在这片闪西的土地,不仅让我领略了历史的后终,更让我感受到了中华文化的魅力。我相信,每一个来到闪西的人都会被这里的魅力所遮服。每一个来到闪西的人,在他有生之间,那也都会再次希望来到闪西。这做历史有久的城市。\n",
      "File saved to: data/processed/text_feature/whisper_base/00005.txt\n",
      "Processing: 00006.wav (Language: Chinese)\n"
     ]
    },
    {
     "name": "stderr",
     "output_type": "stream",
     "text": [
      "/Users/shuyao/Code/in_class/ML_mini_proj/ML_mini_proj/.venv/lib/python3.12/site-packages/whisper/transcribe.py:126: UserWarning: FP16 is not supported on CPU; using FP32 instead\n",
      "  warnings.warn(\"FP16 is not supported on CPU; using FP32 instead\")\n",
      "Processing Audio Files:   6%|▌         | 6/100 [00:27<06:51,  4.38s/it]"
     ]
    },
    {
     "name": "stdout",
     "output_type": "stream",
     "text": [
      "Result: 我曾经在一年内数次去过南京真的是一个很美丽的城市我最好的哥们在那边上学我们一起在小门外小世界大快多一万不一和路之间起过无数野营的城墙下无论是景色气候还是文化南京都如此让我们出对一个北方炸弹人来说南京就是想象中南方城市最美好的样子在最美的季节就连于一和路请听阳光透过数月的风息把我的光影撒在石软上这些建筑来自民国时期一如路边忘不到镜头的无同数确实对得起一条一和路半五民国时的美艺南京是一座关通古今的城市身后的文化第一名被远好的保留了下来在七厕所一桌做万丈高楼八天二七八地二七高天起幼褪的现在都是天几千\n",
      "File saved to: data/processed/text_feature/whisper_base/00006.txt\n",
      "Processing: 00007.wav (Language: Chinese)\n"
     ]
    },
    {
     "name": "stderr",
     "output_type": "stream",
     "text": [
      "/Users/shuyao/Code/in_class/ML_mini_proj/ML_mini_proj/.venv/lib/python3.12/site-packages/whisper/transcribe.py:126: UserWarning: FP16 is not supported on CPU; using FP32 instead\n",
      "  warnings.warn(\"FP16 is not supported on CPU; using FP32 instead\")\n",
      "Processing Audio Files:   7%|▋         | 7/100 [00:34<08:06,  5.23s/it]"
     ]
    },
    {
     "name": "stdout",
     "output_type": "stream",
     "text": [
      "Result: 去年秋天在国星加级期间我去了航州开房了一个多年位建案的朋友这次旅程对我来说非常特别因为航州是我一直想去还没有去的地方而这位航州而这位朋友是我的高中同学我们自动上大学我就各自忙碌在没有见面那天我一早坐上去航州的高铁车中卖景色从房号的城市如今变成清沾利水一路上我充满期待到航州后朋友在车站接我我们见面的那一刻彼此都笑了房伏回到了高中时光他带我去了他推荐的条楼间拿去条非常安静和不清接两旁是老舅的房屋和小商部他说这里保留了他在大学172年级是他最喜欢地狂之一我们在街边首先坐下和里面肉糊的骨头糊糊把单单的铁铁没有给花香心然后感受到有一种加分的奔奔我们慢慢坐在老街上可是那些卖手工一面的小贪朋友给我讲述了他在这里两年在于自己发生的故事他说他没当难过时或有什么开心的事情都会来指教不清接三星就完我看他的笑容防复也看到了他当时在这条街的样子想不的时候我们去了西湖不便他留书已经被烦活呼吹在阳光下甩出金色的光芒我们坐了一只小船蔓延为了花老糊糊我们也让风很轻带着单单的良益朋友还不聊了很多过远他大学生活和心圈也好还有他对为了打算我们也了解了高中时停点滴滴那叫我密洗我也被用一处理由完整日时间过很快夕阳建议细神后面上被人让一片重用色那天晚上我们的湖边的小饭碗是这一份晚餐希望只是因为加上菜带来没有老朋友的陪伴请问各位美丽饭后我们三不在湖边看着远处的灯火当然在湖边上像是无数的星星躁落在水中我深吸一口气肯定这一刻的赢定和美好就很愿留在我记忆中\n",
      "File saved to: data/processed/text_feature/whisper_base/00007.txt\n",
      "Processing: 00008.wav (Language: Chinese)\n"
     ]
    },
    {
     "name": "stderr",
     "output_type": "stream",
     "text": [
      "/Users/shuyao/Code/in_class/ML_mini_proj/ML_mini_proj/.venv/lib/python3.12/site-packages/whisper/transcribe.py:126: UserWarning: FP16 is not supported on CPU; using FP32 instead\n",
      "  warnings.warn(\"FP16 is not supported on CPU; using FP32 instead\")\n",
      "Processing Audio Files:   8%|▊         | 8/100 [00:39<08:04,  5.27s/it]"
     ]
    },
    {
     "name": "stdout",
     "output_type": "stream",
     "text": [
      "Result: 在一个阳光明媚的周末,我决定去探望我小时候的好朋友小雨我们已经有好几年没有见面了,心中充满了期待和紧张还要就是可能也是对他的一种想念吧当我走进他家室,几乎感受到当年一块玩的气息我们这的人管这样从小玩到大的朋友就发现了这种感觉十分的起庙,当年从小一起看着对方,互相看着对方一起长大的然后抢上照片依旧定格着我们那个时候,我说快乐的瞬间然后我看他小雨从他的卧室里走出来,我们相识一笑不知为何,往日快乐瞬间有伤心头但同时也加砸着一丝丑唱,我们确实都长大了然后也回不去了,现在事情也不太那么简单了我们坐在洋台上聊起了小时候的去世他提起我们曾经一起在小河边捉雨,剩下的午后产生阵阵我忍不住笑出声,但那一刻我又感到一丝难过时间过去了,我们再也无法回到那个无业无虑的年纪我们现在有各自的学业、各自的事情要为之奔波我们现在接触的人和事也都不一样了然后感觉我们之间可能也隔着一层可悲的后仗币了我觉得这个是一个挺可悲的一件事,但是也毫无办法在告别的时候,我心中突然有一种很复杂的情感就重决的喜悦,但也有对市区随月的怀念这次探访让我明白了,虽然时间改变了一切但那些美好回忆其实依然有在我心中成为我生命中不可蒙灭的一部分\n",
      "File saved to: data/processed/text_feature/whisper_base/00008.txt\n",
      "Processing: 00009.wav (Language: Chinese)\n"
     ]
    },
    {
     "name": "stderr",
     "output_type": "stream",
     "text": [
      "/Users/shuyao/Code/in_class/ML_mini_proj/ML_mini_proj/.venv/lib/python3.12/site-packages/whisper/transcribe.py:126: UserWarning: FP16 is not supported on CPU; using FP32 instead\n",
      "  warnings.warn(\"FP16 is not supported on CPU; using FP32 instead\")\n",
      "Processing Audio Files:   9%|▉         | 9/100 [00:44<07:53,  5.20s/it]"
     ]
    },
    {
     "name": "stdout",
     "output_type": "stream",
     "text": [
      "Result: 去年,我去了義大利的維尼斯旅行,這是我夢幻一球的旅行,終於有機會親自改善我這座水上城市的魅力。我和幾個朋友一起踏成了這套旅程,剛到這座城市時,我們都會眼前的景色深深震撼。維尼斯的街道並不是傳統意義上街道,28年的水道。環繞著國爾的建築,關於進入歷史的話,我們不期待的做成共駁拉這種傳統的維尼斯小川。環繞的川現在水道上,傳統出現的華東之前,帶點我們川國那些有後中歷史感的階主權,學院上導遊的西洋的魚灰,給著文字景色增添了幾份金色的光灰,就和城市的寧靜而神秘。除了多古共駁拉之旅,我們還參觀了聖馬克工廠,這是維尼斯最著名的廣場之一,工廠上人生頂廢,成為全的歌詞在空中分享,不是落在地上,心有可能未適。工廠周圍是行為的建築,聖馬克教堂的金色五元頂在養工廠以升灰。在聖馬克教堂,自然和工廠上,我遇到了一位話有個小型的藝術家,我讓他被我畫的一幅消息,藝術家微笑的結果醒求,開始細緻的描繪。話是充滿咖啡的香氣和優洋的音樂,我在靜靜等待著,畫完後,藝術家第一個我那幅消下,畫中的我看起來比真實的我更加生動,而有趣。這次我為了給我留下了深刻的印象,在這所地史悠久的城市,所有的瞬間,所多帶神秘的色彩,尤其是那些不經意見發生的差距,它們讓理想變得更加真實,會難忘。\n",
      "File saved to: data/processed/text_feature/whisper_base/00009.txt\n",
      "Processing: 00010.wav (Language: Chinese)\n"
     ]
    },
    {
     "name": "stderr",
     "output_type": "stream",
     "text": [
      "/Users/shuyao/Code/in_class/ML_mini_proj/ML_mini_proj/.venv/lib/python3.12/site-packages/whisper/transcribe.py:126: UserWarning: FP16 is not supported on CPU; using FP32 instead\n",
      "  warnings.warn(\"FP16 is not supported on CPU; using FP32 instead\")\n",
      "Processing Audio Files:  10%|█         | 10/100 [00:50<07:53,  5.27s/it]"
     ]
    },
    {
     "name": "stdout",
     "output_type": "stream",
     "text": [
      "Result: 在2022年的秋天,我去探望了一位很久沒見的朋友小君小君是我大學時期最好的朋友我媒體都過了很多美好時光但那時我們常常一起聊夜夫妻討論人生一笑我想著畢業後能一起傳達事件然後逼後我們走上了各自走上了不同的道路慢慢的失去了聯繫每當我想到她總有些遺憾但我們都知道生活總是把人帶得越來越遠直到有一天我說到了她家人的消息說小賺得的重病很快非常不好那這個消息我內心充滿了我住和焦慮決定盡快去看她我到達小君家時看了她躺在病床上受個機會認出來雖然她沒想笑了笑但眼神裡脫出了深深疲憊我們坐在她的病床前聊起了我們以前一起度過那些時光她輕輕地說她一直在等過她看她因為她知道我不會碰一下她哪一顆我趕到心裡向上一塊石頭壓著我把呼吸小君敵給我一本筆記本說這是她這段時間寫裡面記住了她過去的回憶對我們的友誼以及她的未來的古難她說如果有一天她不記得離開了希望我能記住她也記住曾經難生美好聽到這些話我幾乎困住不住眼淚然後我只能盡力地表現經常強調地說你一定會好起來的那晚上我們冰天坐在院子裡聽著遠處的鐘聲和風聲風氣有些冷但她依然不想過走拉著我不放我當一趟下午後也回來再看她然後再見的時候我已經再沒有機會去她說那句你一定會好起來的話了幾個月後小君去世了我受到消息時心中空落落的反過失去了一個因為我們法家回家的朋友我打開她留任我的筆記本讀了那些文字保護她在我身邊以下的那種真實卻有那種遙遠每當我看到那些關於她的一些意識心中都會永傷症症痛楚也許我們總是在失去後她的能珍惜\n",
      "File saved to: data/processed/text_feature/whisper_base/00010.txt\n",
      "Processing: 00011.wav (Language: Chinese)\n"
     ]
    },
    {
     "name": "stderr",
     "output_type": "stream",
     "text": [
      "/Users/shuyao/Code/in_class/ML_mini_proj/ML_mini_proj/.venv/lib/python3.12/site-packages/whisper/transcribe.py:126: UserWarning: FP16 is not supported on CPU; using FP32 instead\n",
      "  warnings.warn(\"FP16 is not supported on CPU; using FP32 instead\")\n",
      "Processing Audio Files:  11%|█         | 11/100 [00:55<07:54,  5.33s/it]"
     ]
    },
    {
     "name": "stdout",
     "output_type": "stream",
     "text": [
      "Result: 小时候我一直生活在内陆城市那里群山缓绕和流碎多但从未见过真正的大海在我心中海是一个梦一个充满蓝色和浪花的世界去年属架我和朋友们计划了一次去海南的旅行终于有机会实现了这个梦当飞机降落在三亚机场时我迫不及待地想奔向海边第二天清晨我们早早起床去车前往三亚湾当车子接近海岸现实我看到一片深蓝色的海洋出现在眼前它的广阔与平静让我饼住了呼吸阳光撒在海面上像是铺了一层金粉我和朋友们迫不及待地下了车在柔软的沙灘上感受着沙子从纸份间滑过的吸引处感但在海灘边我第一次听到了真实的海浪声那种声音我一天记旁拨又轻柔像是大自然的交响乐朋友们一边欢呼一边出上海水我也远气哭回小心意义的走进去凉凉的海水进失了我的脚踝浪花轻轻拍打一体肤带来一种无法形容的快乐和心气感我们还租了一艘小船出海船长告诉我们海域附近经常能看到海豚果然在海面上行行了一会儿后远出跳跃的几只海豚吸引了我们的目光大家激动地跳了起来真先恐厚地拿起手机拍照那天我们还尝试了沙灘排球和抓旁线每一刻都充满了欢笑和兴奋夜幕降零时我们坐在沙灘上看日落举红色的西洋将海水染成了金黄景色每的让我不愿离开下次第一次见到海的经历给我的记忆花了一副永远不退色的画卷\n",
      "File saved to: data/processed/text_feature/whisper_base/00011.txt\n",
      "Processing: 00012.wav (Language: Chinese)\n"
     ]
    },
    {
     "name": "stderr",
     "output_type": "stream",
     "text": [
      "/Users/shuyao/Code/in_class/ML_mini_proj/ML_mini_proj/.venv/lib/python3.12/site-packages/whisper/transcribe.py:126: UserWarning: FP16 is not supported on CPU; using FP32 instead\n",
      "  warnings.warn(\"FP16 is not supported on CPU; using FP32 instead\")\n",
      "Processing Audio Files:  12%|█▏        | 12/100 [01:01<07:59,  5.45s/it]"
     ]
    },
    {
     "name": "stdout",
     "output_type": "stream",
     "text": [
      "Result: 今年夏天有举行了世界杯我支持的球队是德国德国最近几年的表现德国队最近几年的表现以一日不是很好所以外界普遍并不是看好他们但是我还是支持德国因为德国队有很多我喜欢的球员并且我从十年前就开始支持德国队了在今年小组赛中德国队第一场输掉了同组的非常强大的西班牙队这样德国队的球迷都盟上一层心里上都盟上一层阴影但是后续的两场德国队连课日本和比例十两支队伍最终成功以小组第二经济出现在八强他在赛上德国队的小组第二面对的是另一组的小组第一阿根廷德国队以四比零的底分最终结束的比赛这个比分唯一是打了很多不看好德国队这个人的球迷的脸因为德国队一场非常漂亮的胜利经济到了八强然后在四强比赛中德国队又二比一战胜了多官的热门八细队重攻停进了四强并且在半角赛中战胜了小组曾经输给过的在小组中在小组赛中曾经输给过的西班牙队最终停进了绝赛这让很多人都认为德国队是这次失业队的一支黑马但我认为德国队只是展现出了他正常的实力而已在绝赛上德国队面对的是曾经的世界被霸主一大力对但是一大力对这几年其实技术也也有所瞎花在面对德国队的猛烈进攻下一大力对最终是以另一三输掉的比赛德国队终于彭替了九位的大力审备获得了这次世界被的冠军这让我非常开心因为我支持的是德国队他获得了冠军我就非常开心所以这就是我的故事\n",
      "File saved to: data/processed/text_feature/whisper_base/00012.txt\n",
      "Processing: 00013.wav (Language: Chinese)\n"
     ]
    },
    {
     "name": "stderr",
     "output_type": "stream",
     "text": [
      "/Users/shuyao/Code/in_class/ML_mini_proj/ML_mini_proj/.venv/lib/python3.12/site-packages/whisper/transcribe.py:126: UserWarning: FP16 is not supported on CPU; using FP32 instead\n",
      "  warnings.warn(\"FP16 is not supported on CPU; using FP32 instead\")\n",
      "Processing Audio Files:  13%|█▎        | 13/100 [01:06<07:45,  5.35s/it]"
     ]
    },
    {
     "name": "stdout",
     "output_type": "stream",
     "text": [
      "Result: 幾年前我去了歐洲旅行特地選擇了法國巴黎巴黎是我一直向往的城市充滿浪漫的氣息和濃厚的藝術氛圍那是一個陽光明媚的下午我決定去探索市區享受這座城市的魅力然而由於沒有提前做好充足的路線規劃我在陌生的街道上迷路了手機也因為電量後進而無法使用更糟糕的是我一點也不懂法語所以不知道如何與當地人溝通我站在路邊有些荒張不知道該怎麼辦正當我心裡交集時一個中年藍子走到我面前他看起來非常友善穿著簡單的衣服 面帶微笑他看到我有些迷茫就主動走上前詢問我是否需要幫助看到他的笑容我感到一似安心於是我告訴他我迷路了手機也沒電了 根本找不到回酒店的路他聽火微笑指說 沒問題跟我來吧這個陌生人沒有4號猶豫好不猶豫的決定幫助他帶著我走到附近的一家咖啡館給我充電 並簡單的手勢和音語告訴我怎麼成地鐵回到酒店他甚至為了為我買了一杯咖啡陪我坐下來聊了一聊了起來雖然我們之間語言不通但通過知情言和微笑我們成功地建立了溝通這一刻我感覺自己不再是一個孤單的遊客而是受到了他人溫暖的光懷通過這次經歷我深刻體會到人與人之間的善意是跨越文化和語言的有時候一個陌生人的微笑和善舉可以讓我們感到無比的溫暖和踏實但為陌生人不僅幫助我解決了問題還讓我重新相信在陌生的環境中人與人之間的友好是可以輕鬆建立的\n",
      "File saved to: data/processed/text_feature/whisper_base/00013.txt\n",
      "Processing: 00014.wav (Language: Chinese)\n"
     ]
    },
    {
     "name": "stderr",
     "output_type": "stream",
     "text": [
      "/Users/shuyao/Code/in_class/ML_mini_proj/ML_mini_proj/.venv/lib/python3.12/site-packages/whisper/transcribe.py:126: UserWarning: FP16 is not supported on CPU; using FP32 instead\n",
      "  warnings.warn(\"FP16 is not supported on CPU; using FP32 instead\")\n",
      "Processing Audio Files:  14%|█▍        | 14/100 [01:11<07:33,  5.28s/it]"
     ]
    },
    {
     "name": "stdout",
     "output_type": "stream",
     "text": [
      "Result: 在2017年 我回了趟老家在第一天 我去了一个老爷家里做课在交堂中都是老爷的毛米字写的特别好我一听听到这个消息我便产生了极大的兴趣老爷见我如此感兴趣便兴趣不过得领着我去他的书房里面参观我一进去便看到 墙上有很多漂亮且灰火的自计挂在上面我被驾到张大的嘴并且不经发出了感慨我也想写出这么好看的字老爷随即便拿出一张宣纸写得起来指尖他气输如虎 下笔十分果断 千无论一路在哈哈大笑自传之后便写出了几个字了我仔细一看 发现 嘴上没写着学乌指尽四个大字这是老爷便与中心常地对我说到孩子 人生路上学乌指尽你应该在生活的各个方面包括对于知识的获取个人希望的提升等等等等都应该始终保持着迁讯后学的态度不能交自买应该持续地去追求更多的知识可更高的境界就像我写毛笔字一样我每天多写一句话都会对我带来多一种的感觉永远都会有新的东西等待你去学习会发现我现在能写成这么优秀的字体离不开我一天天的学习直到现在我仍在不断学习不断进步说吧 老爷便把那幅字送给了我这件事也让我感触十分深刻也让我下定了决心好好学习天天向上\n",
      "File saved to: data/processed/text_feature/whisper_base/00014.txt\n",
      "Processing: 00015.wav (Language: Chinese)\n"
     ]
    },
    {
     "name": "stderr",
     "output_type": "stream",
     "text": [
      "/Users/shuyao/Code/in_class/ML_mini_proj/ML_mini_proj/.venv/lib/python3.12/site-packages/whisper/transcribe.py:126: UserWarning: FP16 is not supported on CPU; using FP32 instead\n",
      "  warnings.warn(\"FP16 is not supported on CPU; using FP32 instead\")\n",
      "Processing Audio Files:  15%|█▌        | 15/100 [01:18<08:15,  5.83s/it]"
     ]
    },
    {
     "name": "stdout",
     "output_type": "stream",
     "text": [
      "Result: 在11场家的期间,我们一个宿舍,打算前往日本去旅行。集中完在的对立之世界的期待好奇。这也是我首次远行出国。护照作为我身份的象征,自然被我是为最重要的行李。小心翼的包挂着,当我们地大的东京成天机长后,我迅速就被这套城市的繁华与活力吸引了。从前早四的领境到色谷的宣消,每一处都出骂了探索的魅力。我曾经在购物的乐趣中,尤其是在秋夜远。那里的电子产品和动漫周边让我流列望返,尤其是我最喜欢的客栏。然而,就在我满载儿归,准备发回,为于心虚的离冠的时候,不幸来了。在回到举办的路上,我未曾察觉到背包的拉链已经被乔然拉开,直到准备巴黎入入的时候,在发现护照连同一些现金,还有随身物铁都已经丢失了。在那一刻,我的心简直被控聚和教练球完全的战灵。没有护照,那么就意味着我接下来的旅行,只要会陷入困境。我须自到冷静了下来,向前台进行求助,他们不仅提供了安慰,而且迅速帮我联系了当地的警察局。在解放的协助下,我开始了凡事的报案流程。同时,我也通过中国驻日本大使馆的紧急联系方式去救帮助。大使馆的工作领域非常专业,他们直到我如何准备相关材料,并告知我不办旅行政界的具体步骤。在等待西旅行政界的日子里,我不得不暂时中断了远定的旅行计划,留在东京。虽然这让我感到举掃,但我也因此有机会更加深入的体验,当地的生活。我又来自世界各地的旅行这么交流,分享彼此的故事。这道经历让我收获了不一样的友誼和感恩。经过几天的努力,我终于拿到了临时的护照,得已继续我的日本之语。虽然护照丢失的这件事让我非常的害怕,但是他也教会了我一个重要的教训,就是无论是在合处,安全意识完全不能放松。这次经历,虽然充满了剥夹,但也成为了我人生律徒中一段打望及保挥的记忆。最后,在跪定的时间内,回到了学校。\n",
      "File saved to: data/processed/text_feature/whisper_base/00015.txt\n",
      "Processing: 00016.wav (Language: Chinese)\n"
     ]
    },
    {
     "name": "stderr",
     "output_type": "stream",
     "text": [
      "/Users/shuyao/Code/in_class/ML_mini_proj/ML_mini_proj/.venv/lib/python3.12/site-packages/whisper/transcribe.py:126: UserWarning: FP16 is not supported on CPU; using FP32 instead\n",
      "  warnings.warn(\"FP16 is not supported on CPU; using FP32 instead\")\n",
      "Processing Audio Files:  16%|█▌        | 16/100 [01:27<09:15,  6.61s/it]"
     ]
    },
    {
     "name": "stdout",
     "output_type": "stream",
     "text": [
      "Result: 当我去上海的时候我正在上大学就是前年吧前年我刚上大学的时候我一个人独自去的上海当时我就是心就来朝向一个人去上海是一个大城市然后我也从来没有去过我想亲自去感受一下我是做卧布去的从北京当时我还在上学还在学期中所以我做卧布一个人去了上海然后我去参观了很多景点上海是一个大城市但它也有很多景点主要我还是想感受一下就是这种大城市的感觉对 就是大城市的感觉去了那里我发现真的是很不一样的感觉上海的建筑是特别的高也特别密集比北京都要高然后那里的人我感觉他们带给我带给我一种很潮流而且很有心事代的一种感觉然后在那里我还结实地被朋友他是一个年纪少比我大的人是一个女性他是一个他跟我说他是一个就是在时尚跟时尚杂志有关系他在那里工作的一个女性然后他大概二十几岁快到三十岁比我大几岁我们是在一个服装店认识的然后他就看见我的包因为我的包就是我小小的装饰了一下他觉得很棒然后我们就开始攀他然后那天他还带我去了一个上海的酒吧然后在那里我还跟他的他的很多朋友也结实地一下他们都是很潮的一些人很时尚的一些人在那里他请我喝了几杯酒然后我真的感觉很快乐因为就是让我感觉到一种很自由很多远的一种文化在上海但是之后我们也没有留下什么联系方式就是就这样子那天下午那天晚上喝完酒以后我就跟他告别了就又开始了我的一个人的女性我去了那儿就是两三天的样子大概三天就是包我做车的时间但是上海我感觉物价很贵我在那里想吃一个碗面条我得要三十块钱不像在我家里也不像在北京北北京还要贵那里的物价但是我很喜欢这种城市我一个人在这里度过了两三天女性这是一个很特别的经历我寄激动也有一种很自由的感觉很充实的感觉有一种别样的感觉\n",
      "File saved to: data/processed/text_feature/whisper_base/00016.txt\n",
      "Processing: 00017.wav (Language: English)\n"
     ]
    },
    {
     "name": "stderr",
     "output_type": "stream",
     "text": [
      "/Users/shuyao/Code/in_class/ML_mini_proj/ML_mini_proj/.venv/lib/python3.12/site-packages/whisper/transcribe.py:126: UserWarning: FP16 is not supported on CPU; using FP32 instead\n",
      "  warnings.warn(\"FP16 is not supported on CPU; using FP32 instead\")\n",
      "Processing Audio Files:  17%|█▋        | 17/100 [01:33<08:53,  6.43s/it]"
     ]
    },
    {
     "name": "stdout",
     "output_type": "stream",
     "text": [
      "Result:  Wuto-du, Gimondi-mondi, and John Uni had photos. In the corner of the hideout, there's a small load that looks original at first glance. This scary document and electronic device on the table were on sofa and a few float closing shortage combined, forming a single rest area. However, the bookshelf in the corner is actually a mobile security door. When my senior omensate, it rails a passage leading underground. When the hideout was lost, we see this as a more like a planning counter-covers for gargage than basements. In the center, are three wasteboats as approached and see them as a map of a long-drawn city deployed into various clothing zone, resembling a complex chasseball. So this is your operational center. So if it's not only a contact point for the island's outer hole, the computer and screen you see are two we use to collect and harness the information. Look these bar rides on our inner border host control, where they contact the nearest illegal activities. In two things, they own cybernights, enhancements, and slugging weapons. A fluency only order has an unverified every operation, where we strive to mount an order. I have never seen so many high-tech devices before. By the way, why is the Broadhold here too? What do you mean? Why is it here too? The Broadhold host hide courses right here. I heard that the prison security department recently crawled on a home or under. A rusty Monday key member severely waking there, but the leader of the broader innonjuan city is the company as slight champions in the Ducong. And I have heard that the Broadhold host president has been in heading for a long time, perhaps, they said that the profan the penis smoking to rise to poverty.\n",
      "File saved to: data/processed/text_feature/whisper_base/00017.txt\n",
      "Processing: 00018.wav (Language: English)\n"
     ]
    },
    {
     "name": "stderr",
     "output_type": "stream",
     "text": [
      "/Users/shuyao/Code/in_class/ML_mini_proj/ML_mini_proj/.venv/lib/python3.12/site-packages/whisper/transcribe.py:126: UserWarning: FP16 is not supported on CPU; using FP32 instead\n",
      "  warnings.warn(\"FP16 is not supported on CPU; using FP32 instead\")\n",
      "Processing Audio Files:  18%|█▊        | 18/100 [01:35<07:10,  5.25s/it]"
     ]
    },
    {
     "name": "stdout",
     "output_type": "stream",
     "text": [
      "Result:  last autumn I visited Hangzhou with my friends. It was my first time there and I was very excited. Hangzhou is famous for rest lake. So we went there on the first morning. The lake was very beautiful. With mountains in the distance and both floating on the water, the air was fresh and the view looked like a paint. We rented a small boat and enjoyed the peaceful scenery. The boatman told us stories about the lake, like the legends of the white snake. It was interesting to hear. And afternoon we visited the Lingyin Temple. The temple was quite a full of history. Tiaochui surrounded the area and the smell of incense filled the air. Inside, with many stale and older parrots, it was a peaceful place where we could rest and sing. The trip to Hangzhou was relaxing and fun. I will always remember its natural beauty and the delicious food.\n",
      "File saved to: data/processed/text_feature/whisper_base/00018.txt\n",
      "Processing: 00019.wav (Language: English)\n"
     ]
    },
    {
     "name": "stderr",
     "output_type": "stream",
     "text": [
      "/Users/shuyao/Code/in_class/ML_mini_proj/ML_mini_proj/.venv/lib/python3.12/site-packages/whisper/transcribe.py:126: UserWarning: FP16 is not supported on CPU; using FP32 instead\n",
      "  warnings.warn(\"FP16 is not supported on CPU; using FP32 instead\")\n",
      "Processing Audio Files:  19%|█▉        | 19/100 [01:38<06:19,  4.69s/it]"
     ]
    },
    {
     "name": "stdout",
     "output_type": "stream",
     "text": [
      "Result:  In May this year, a visit to Fragrant Hill with a friend. It's very hot in summer in Beijing, but luckily, it was cloudy that day. The clothes took part of the heat of us, so we didn't feel very hot. Fragrant Hill was very beautiful. We chose a steep pass in Stardigau, where mountains and glibing journey. Surrounded by many grain plans, I felt sufficient oxygen and my body seems to be lighter. On the way up to the mountain, we chatted and enjoyed the scenery and the singtime. Feeling the happiness brought by our aerobic exercise. When we reached at the top of the mountain, we found a place on a long, path-paveline and sat down to rest. Many little sparrows appeared in front of us. I was a little surprised. I didn't expect that there would be so many sparrows on such a high mountain. They didn't seem to be afraid of people either. One even landed beside me, shaking his little hand lightly. It was very cute. However, the way down to the mountain was not that easy. After walking for a while, I already felt my legs shaking. I couldn't help signing that I lacked exercise in my daily life. After going down to the mountain, we had a meal and then went back to the school. I felt that, although climbing the mountain was a little tire, it was very enjoyable.\n",
      "File saved to: data/processed/text_feature/whisper_base/00019.txt\n",
      "Processing: 00020.wav (Language: English)\n"
     ]
    },
    {
     "name": "stderr",
     "output_type": "stream",
     "text": [
      "/Users/shuyao/Code/in_class/ML_mini_proj/ML_mini_proj/.venv/lib/python3.12/site-packages/whisper/transcribe.py:126: UserWarning: FP16 is not supported on CPU; using FP32 instead\n",
      "  warnings.warn(\"FP16 is not supported on CPU; using FP32 instead\")\n",
      "Processing Audio Files:  20%|██        | 20/100 [01:42<05:37,  4.22s/it]"
     ]
    },
    {
     "name": "stdout",
     "output_type": "stream",
     "text": [
      "Result:  When I was in middle school, I joined a cultural exchange program that took me to the United States. It was my first time chowling abroad, and I was a boast-never and excited. Our trip lasted two weeks, and during that time we visited several cities, universities and famous landmarks. One of the most memorable experiences was visiting Harvard University. The campus was exactly like what I have seen in movies. Historic buildings surrounded by lush greenery. I remember standing in front of the Ironique Wanner Library, taking photos, and imagining what it would be like to study here. During our guide tour, the student guide shared fascinating stories of a life at Harvard, including the traditions and challenges students face. Another unforgettable moment was when we visited Times Square in New York City. The bright lights, giant billboards, and the sheer energy of the place were overwhelming. However, one of the funnest incidents happened at a local dinner when I tried to order a turkey sandwich. I accidentally said chicken instead, and when my order arrived, I was too embarrassed to correct it, so I just ate it critically. This trip was not only an opportunity to improve my English, but also a chance to learn about American culture. Meet new friends and step out of my comfort zone. It left a deep impression on me as sparked my interest in studying abroad in the future.\n",
      "File saved to: data/processed/text_feature/whisper_base/00020.txt\n",
      "Processing: 00021.wav (Language: English)\n"
     ]
    },
    {
     "name": "stderr",
     "output_type": "stream",
     "text": [
      "/Users/shuyao/Code/in_class/ML_mini_proj/ML_mini_proj/.venv/lib/python3.12/site-packages/whisper/transcribe.py:126: UserWarning: FP16 is not supported on CPU; using FP32 instead\n",
      "  warnings.warn(\"FP16 is not supported on CPU; using FP32 instead\")\n",
      "Processing Audio Files:  21%|██        | 21/100 [01:46<05:38,  4.28s/it]"
     ]
    },
    {
     "name": "stdout",
     "output_type": "stream",
     "text": [
      "Result:  I want to share a story about my daily life. I'm a college student and the way my days are simple. They are filled with my dream and the melody. My day begins with the alarm clock, the in my dorm room. I quickly get up fresh up and rush to the library. I love to the library. It's where my day of learning starts. Some add streams, so the windows and the players pass onto my desk as I open my books and immerse myself in the ocean of the knowledge. I know I meet up with friends in the cafeteria. We enjoy lunch together, we are sharing funny stories and learning experiences. These relaxed conversations are the source of joy in my day. In the afternoon, I usually participate in extreme circular activities. Sometimes it's a basketball game. Sometimes it's a student's console meeting. This activity has reached my college life. In the evening, I take a walk on the compass passes, enjoying the last bit of peace in the day. I use my phone to capture the beautiful sunset or newly blown flowers by the roadside. The simple moments are precious memories for me. At night, I return to my dorm, organized my notes, and prepared for the last day's classes. Before going to bed, I spend some time reading or writing in the imaginal, recording the details of the day. As the end of the story, I always look back on my memory moments of the day when it's the quiet at night. So each day seems ordinary. I know that this melody says of daily life or waving into the most beautiful, simple way of my life.\n",
      "File saved to: data/processed/text_feature/whisper_base/00021.txt\n",
      "Processing: 00022.wav (Language: English)\n"
     ]
    },
    {
     "name": "stderr",
     "output_type": "stream",
     "text": [
      "/Users/shuyao/Code/in_class/ML_mini_proj/ML_mini_proj/.venv/lib/python3.12/site-packages/whisper/transcribe.py:126: UserWarning: FP16 is not supported on CPU; using FP32 instead\n",
      "  warnings.warn(\"FP16 is not supported on CPU; using FP32 instead\")\n",
      "Processing Audio Files:  22%|██▏       | 22/100 [01:49<05:00,  3.85s/it]"
     ]
    },
    {
     "name": "stdout",
     "output_type": "stream",
     "text": [
      "Result:  The most crowded place ever being is Beijing Underground, especially in Linden, especially during the morning and even in rush hours. It was more torturous that I basically traveled by underground every day. Every morning and evening I squeezed into it underground with a carload of people. The metro is the fastest way to get here and still be on time. Beijing is a supermetropolis and its resident population was statistically less than 20 million years ago. It was a floating population of 20 million. So when you think about this way, there are definitely not enough seats in underground. Basically everyone goes back and grab a seat at the moment, the door is open. And it is interesting to know that in the morning and evening rush hours, if you try to get into a carriage, there's a funny way to say that all you have to do is close your eyes and you don't need to lift your legs before squeezing into the carriage. You don't have to worry about the lack of handrails because there are enough people for you to stand without falling down. Even if you are not holding to other handrails because others will push you and squeeze you in a firm place.\n",
      "File saved to: data/processed/text_feature/whisper_base/00022.txt\n",
      "Processing: 00023.wav (Language: English)\n"
     ]
    },
    {
     "name": "stderr",
     "output_type": "stream",
     "text": [
      "/Users/shuyao/Code/in_class/ML_mini_proj/ML_mini_proj/.venv/lib/python3.12/site-packages/whisper/transcribe.py:126: UserWarning: FP16 is not supported on CPU; using FP32 instead\n",
      "  warnings.warn(\"FP16 is not supported on CPU; using FP32 instead\")\n",
      "Processing Audio Files:  23%|██▎       | 23/100 [01:52<04:38,  3.62s/it]"
     ]
    },
    {
     "name": "stdout",
     "output_type": "stream",
     "text": [
      "Result:  Winter of 2022. It was Chinese New Year, and our family follows the Hong Kong tradition to visit my grandparents' house, which is also my mom's place. The day was bright and sunny. My mom thought my brother and I drove over to Grandmothers, which is a change in New Year greeting with each other. And after the greetings, mom's sleep sound rate even helps to relate to Grandmothers. I told them to start hard and work hard. Work hard in a small world. Meanwhile, my brother and I also got a radio in one of the private grandparents. Then we said in the courtyard, so I came in a sunshine chatting with each other. Suddenly someone suggested, hey let's play some poker cards. I jumped up right away and said yes I want to play. So I quickly got the poker card and then we all stepped into a game of poker. We were all having so much fun.\n",
      "File saved to: data/processed/text_feature/whisper_base/00023.txt\n",
      "Processing: 00024.wav (Language: English)\n"
     ]
    },
    {
     "name": "stderr",
     "output_type": "stream",
     "text": [
      "/Users/shuyao/Code/in_class/ML_mini_proj/ML_mini_proj/.venv/lib/python3.12/site-packages/whisper/transcribe.py:126: UserWarning: FP16 is not supported on CPU; using FP32 instead\n",
      "  warnings.warn(\"FP16 is not supported on CPU; using FP32 instead\")\n",
      "Processing Audio Files:  24%|██▍       | 24/100 [01:56<04:52,  3.84s/it]"
     ]
    },
    {
     "name": "stdout",
     "output_type": "stream",
     "text": [
      "Result:  This National holiday I want to Wuhan is the lake to join our stay over activity. Naturally, the plan revolved around the hagging. East Lake scenery is great. Perfect for relaxing walks and deep conversations. At least, at the beginning I thought the tree was designed to be so. We arrived at the guesthouse around noon on the first day. Some were straight going for a fairway sport to catch the sunset. That sounds beautiful, so we go. We completely miscalculated time and the route. On halfway, we realized that the navigation had led us into a dead end. Forcing us to take a lonely tour. By then, we were all running out of that energy. Also the clock was ticking. We walked along the road, but only finding one sharing shared back. But we have three people. So we let the most exhausted member to cycle ahead and bite the tickets. Fortunately, we arrived in time. The process was a little bit chaotic. But when we finally watched the sunset, all the efforts were worth it. After that little adventure, we come to a realization that now we actually cut out for all the physical efforts. We really wanted to sit down and talk. So the rest of our activity shifted to focus. Instead of ambitious plans, we spent most of the time in the guesthouse chatting from noon until midnight. Only when we fully talked out, did we finally head back.\n",
      "File saved to: data/processed/text_feature/whisper_base/00024.txt\n",
      "Processing: 00025.wav (Language: English)\n"
     ]
    },
    {
     "name": "stderr",
     "output_type": "stream",
     "text": [
      "/Users/shuyao/Code/in_class/ML_mini_proj/ML_mini_proj/.venv/lib/python3.12/site-packages/whisper/transcribe.py:126: UserWarning: FP16 is not supported on CPU; using FP32 instead\n",
      "  warnings.warn(\"FP16 is not supported on CPU; using FP32 instead\")\n",
      "Processing Audio Files:  25%|██▌       | 25/100 [02:00<04:52,  3.90s/it]"
     ]
    },
    {
     "name": "stdout",
     "output_type": "stream",
     "text": [
      "Result:  Back in 2020, I went to visit my cousin in New York. I had been so excited about this trip because I hadn't seen her in years, and I'd never been to New York before. I spent weeks planning everything from the places we'd visit to the restaurants we'd try, but from the moment I landed, things started to go wrong. First, my flight was delayed by almost six hours. I was stuck at the airport, feeling tired and annoyed, waiting with no clear idea of when I'd get to leave. When I finally arrived in New York, I discovered that my luggage had been lost. I had to spend over an hour at the airport, feeling out forms and talking to airline staff, but nobody could tell me when my bag would be found. When I finally got to my cousin's apartment, I was already in a bad mood. I thought we'd had a nice dinner and catch up, but she told me she had to work late that evening, so I was left on my own in a strange city. I ordered some take-out, but it wasn't very good, and I spent even the evening feeling lonely and frustrated. The next day, my cousin suggested we visit the central park. I thought this would be the highlight of the trip, but it wasn't. As soon as we got there, it started raining. We didn't have umbrellas, so we ended up getting soaked. The park, which I had always imagined as a beautiful and lively, just felt cold and empty. Then, we got into an argument because she thought I was being negative about everything, the tension between us ruined the rest of the day. By the time I flew back home, I was completely exhausted and disappointed. I had spent so much time and effort planning this trip, but nothing had gone the way I had hoped. I couldn't wait to leave and just forget about the whole thing.\n",
      "File saved to: data/processed/text_feature/whisper_base/00025.txt\n",
      "Processing: 00026.wav (Language: English)\n"
     ]
    },
    {
     "name": "stderr",
     "output_type": "stream",
     "text": [
      "/Users/shuyao/Code/in_class/ML_mini_proj/ML_mini_proj/.venv/lib/python3.12/site-packages/whisper/transcribe.py:126: UserWarning: FP16 is not supported on CPU; using FP32 instead\n",
      "  warnings.warn(\"FP16 is not supported on CPU; using FP32 instead\")\n",
      "Processing Audio Files:  26%|██▌       | 26/100 [02:04<04:40,  3.79s/it]"
     ]
    },
    {
     "name": "stdout",
     "output_type": "stream",
     "text": [
      "Result:  But neither the young child, Sam Brick, meant dancing above our eyes, a trip to migrant parents' farmhouse in the countryside. The anticipation of this visit always filled me with excitement, as I knew it promised a brick from the pressure of city life. The moment we crossed the threshold, I was greeted by the freshly baked bread. My grandmother raised her prone title around her waist. Would always have a plate of warm cookies waiting for me. My grandfather raised his wet hands and wet smile. Would take me on a tors of the farm, introducing me to the virus animals from the curious, chicken peaking at the ground to the gentle cows grazing in the middle. Days at the farm were filled with simple joys, I spent hours in the garden helping my grandmother plant flowers and vegetables, learning the names of each plant. In the afternoon, we often got around the old tree in the yard, where my grandfather would tell us the stories of his youngs, his voice carrying the weight of his appearance. Evening's were magical, as the sky transformed into a counter of stars, migrant parents would set up a makeshift telescope and gather with explore the wonders of the cosmos and dreaming of these tentacles. Those summer days, I met grandparents farmhouse where a time of poor happiness. They taught me the value of hard work, the beauty of nature and the importance of family bonds. Even now, as an idol, those memories continued to inspire and nourish my soul.\n",
      "File saved to: data/processed/text_feature/whisper_base/00026.txt\n",
      "Processing: 00027.wav (Language: English)\n"
     ]
    },
    {
     "name": "stderr",
     "output_type": "stream",
     "text": [
      "/Users/shuyao/Code/in_class/ML_mini_proj/ML_mini_proj/.venv/lib/python3.12/site-packages/whisper/transcribe.py:126: UserWarning: FP16 is not supported on CPU; using FP32 instead\n",
      "  warnings.warn(\"FP16 is not supported on CPU; using FP32 instead\")\n",
      "Processing Audio Files:  27%|██▋       | 27/100 [02:08<04:51,  3.99s/it]"
     ]
    },
    {
     "name": "stdout",
     "output_type": "stream",
     "text": [
      "Result:  In 2021, I visited my best friend Sarah. In 2021, I visited my best friend Sarah in San Francisco. We hadn't seen such each other in the early two years due to the pandemic. And finally, meeting her, being with all the incredible heartwarming. She greeted me as though airport was a huge mail. And I couldn't stop talking the whole red back to her place. Sarah had moved into a small bottle of cozy apartment, looking on one of those steep hills. San Francisco was famous for. From her window, we could see cable cars going by, and it felt like something out of our way. To remind me this, Sarah made it to her mission to show me all her favorite places in the city. We went to Golden Gate Park, where we spent hours working through gardens. Watching petal go on the lake, and even visiting the Japanese tea garden, the peacefulness and off the garden, with care for the gradually growing and flowing streams. It felt like I always used to miss the busy city life. We also took work across the Golden Gate Bridge, and it was over a day. I remember the event, talking at our tracks, as we took in the breath, breathtaking view of the bay. It felt surreal to be standing on such an echo, like an echo that marks while I had always homeless everything pictures. On our last evening together, we hugged our feet, picked just in time for the sunsides. The entire city lay below us, with the storm pending, the sky in beautiful shades of orange and pink. We sat there, reflecting our jets, looking at the trail. Talking about our dreams, and how much had changed in the past couple of years, it was a moment of reconnection, and I realized that despite the time and distance, our bond had been revealed, as the bond has sailed.\n",
      "File saved to: data/processed/text_feature/whisper_base/00027.txt\n",
      "Processing: 00028.wav (Language: English)\n"
     ]
    },
    {
     "name": "stderr",
     "output_type": "stream",
     "text": [
      "/Users/shuyao/Code/in_class/ML_mini_proj/ML_mini_proj/.venv/lib/python3.12/site-packages/whisper/transcribe.py:126: UserWarning: FP16 is not supported on CPU; using FP32 instead\n",
      "  warnings.warn(\"FP16 is not supported on CPU; using FP32 instead\")\n",
      "Processing Audio Files:  28%|██▊       | 28/100 [02:12<04:34,  3.82s/it]"
     ]
    },
    {
     "name": "stdout",
     "output_type": "stream",
     "text": [
      "Result:  In 2020, I went to Sydney to visit an old friend I hadn't seen in over 10 years. We had reconnected online during the pandemic and talked a lot about how much we missed hanging out in person. So as soon as it was safe to travel, I booked a trip. When I arrived, my friend met me at the airport with a huge hug. It felt like no time had passed. We started the day with breakfast at a small cafe near her apartment. The food and coffee were great, and we couldn't stop laughing while sharing stories about our lives. After breakfast, we decided to take a ferry across Sydney Harbor. The weather was perfect, and the view of the opera house was stunning. Seeing it in person was completely different from the pictures I had seen. My friend suggested we take a guided tour, and it was such a good idea. The guide shared lots of interesting facts, like how it took years to build and how its design was chosen in a global competition. We even got to hear a story happening in one of the halls. The sound of the orchestra was amazing. That evening, we were lucky enough to get tickets to a live show at the opera house. The mix of music and dance were incredible. And it was one of the best performances I had ever seen. After the show, we walked along the harbor, enjoying the city lights, and talking about old memories. It was a day full of happiness and unforgettable moments.\n",
      "File saved to: data/processed/text_feature/whisper_base/00028.txt\n",
      "Processing: 00029.wav (Language: English)\n"
     ]
    },
    {
     "name": "stderr",
     "output_type": "stream",
     "text": [
      "/Users/shuyao/Code/in_class/ML_mini_proj/ML_mini_proj/.venv/lib/python3.12/site-packages/whisper/transcribe.py:126: UserWarning: FP16 is not supported on CPU; using FP32 instead\n",
      "  warnings.warn(\"FP16 is not supported on CPU; using FP32 instead\")\n",
      "Processing Audio Files:  29%|██▉       | 29/100 [02:17<04:57,  4.20s/it]"
     ]
    },
    {
     "name": "stdout",
     "output_type": "stream",
     "text": [
      "Result:  A few years ago, I went on a trip to the United States, specifically to New York City. It was my first time visiting the city, and I was incredibly excited to explore the famous landmarks. Experience the culture and see the city that I had only ever seen in the movies. One afternoon, I decided to take a walk around Central Park, the iconic park in the heart of Manhattan. The sound was shining, and the park was busting with people enjoying their day. As I walked down one of the quarter past near the edge of the park, I noticed something out. A dog sitting by the sidewalk looking lost and confused. It was a medium sized dog with a scruffy coat, and it seemed like it was waiting for someone. The dog looked up at me when it sat, and I could say that it was trying to figure out what to do next. I approached the dog slowly, hoping not to scare it, and to my surprise, it didn't run away or back at me. It said it wagged its tail slightly, almost like it was asking for help. I looked around, but the street was empty, and there was no signs of anyone looking for it. My first instinct was to help, so I bent down and gently pated the dog. It was shaking a little, but as soon as I started patting it, the dog seemed to come down. A few minutes later, a woman appeared around the corner, calling the dog's name. The dog immediately cracked up and ran toward her. She looked incredibly relieved and explained that the dog had slipped out of her house earlier that day. And had been missing for hours, she thanked me profusely for staying with her dog and for keeping it calm until she arrived. I felt an overwhelming sense of worsen happiness, knowing that I had played a small role in reuniting the dog with his owner. It was such a simple act of kindness, but it made me realize how much of the difference more decisions can make in someone's life. That day I walked away with a sense of fulfillment, knowing that sometimes being kind and offering a little help can make the world a better place.\n",
      "File saved to: data/processed/text_feature/whisper_base/00029.txt\n",
      "Processing: 00030.wav (Language: English)\n"
     ]
    },
    {
     "name": "stderr",
     "output_type": "stream",
     "text": [
      "/Users/shuyao/Code/in_class/ML_mini_proj/ML_mini_proj/.venv/lib/python3.12/site-packages/whisper/transcribe.py:126: UserWarning: FP16 is not supported on CPU; using FP32 instead\n",
      "  warnings.warn(\"FP16 is not supported on CPU; using FP32 instead\")\n",
      "Processing Audio Files:  30%|███       | 30/100 [02:21<04:47,  4.11s/it]"
     ]
    },
    {
     "name": "stdout",
     "output_type": "stream",
     "text": [
      "Result:  In night of the day, I traveled to Chicago for a walk meeting. It was my first time visiting the United States and I felt both excited and the best, scared, scared. The flight was long, but I enjoyed looking out of the window and sinking about a venture ahead. When I landed at O'Hare Airport, I took a taxi to my hotel. The tap buildings and the bus and the bus street made me feel like I had started into a movie. On my second evening, I went for a walking along the Chicago River Walk, lies from the tap buildings, reflected on water. And it looked magical. And as I was walking, I noticed a smell, an Italian restaurant that didn't seem very busy. I felt curious, I decided to go into and have dinner there. The food was delicious and the place felt very noisy. Well, I was eating. I saw an old man sitting alone at the table near the window. He was catching something in notebook. I couldn't help but ask him about it. He smelled warm rain and invited me to join him. He told me he used to be a chair, a chair, and had walked on some Chicago's famous building. Like the well-tower, he showed me some of his sketches, which were amazing and should still respawn his life in the city. I ended up spending hours taking to him, learning about Chicago's history and his table. Being him made my trip so much more special. Although I didn't have time to explore everything in the city, the memories dealt with me, I hope I can return to Chicago one day to create more memories like this.\n",
      "File saved to: data/processed/text_feature/whisper_base/00030.txt\n",
      "Processing: 00031.wav (Language: English)\n"
     ]
    },
    {
     "name": "stderr",
     "output_type": "stream",
     "text": [
      "/Users/shuyao/Code/in_class/ML_mini_proj/ML_mini_proj/.venv/lib/python3.12/site-packages/whisper/transcribe.py:126: UserWarning: FP16 is not supported on CPU; using FP32 instead\n",
      "  warnings.warn(\"FP16 is not supported on CPU; using FP32 instead\")\n",
      "Processing Audio Files:  31%|███       | 31/100 [02:26<05:08,  4.48s/it]"
     ]
    },
    {
     "name": "stdout",
     "output_type": "stream",
     "text": [
      "Result:  In 2018, I finally had the chance to visit Tokyo, Japan, a city ahead of the dream of exploring for years. It was a weak long trip and every day was filled with excitement and new experiences. From the moment I landed, I was amazed by how clean and orderly everything was. The three were bustling with people. Yet, there was a sense of calm and that made the field city feel so unique. On my first day, I visited Shibuya Crossing, the world's busiest pedestrian intersection. It was incredible to see hundreds of people crossing the street from area direction at once. Yet everything moves so smoothly. I stood there for a while, just taking it all in and enjoying the crowd to cross the street myself. It felt like I was part of a movie scene. Later, I wandered through the nearby series filled my way to the straub and restaurants and tried some delicious street food, including takoyaki and flavor ice cream. The highlight of my trip was visiting the Ghibli Museum in Mitaka as a fan of studio Ghibli films, like British Re and my neighbor's hotel. It felt like stepping into the magical world. The museum was full of musical ex-hatsubes, like a life-size catapult and a famous beautiful hand-drawn sketches from the movies. There was even a small theater where I watched a short animated film, titled exclusive to the museum. It was an unforgettable experience that made me appreciate the creativity behind those movies even more. One day, I took a train to Asakusa to visit Sinsouji Temple. One of the Tokyo's oldest and most famous temples. The main gate with its giant red lantern was so impressive. I walked through the Nakamei shopping street lined with small shops that in souvenirs and traditional snacks. I bought a little charm for good luck and tried some freshly-made taoyaki, a fish-shaped cake filled with sweet red bean paste. Tokyo was everything I had hoped for and more. The mix of modern sky crackers and traditional temples, the traditional food, and the plant and friendly people made it a city like no other. When I left, I feel a little sad, but I knew I would come back one day to explore even more of what Tokyo had to offer.\n",
      "File saved to: data/processed/text_feature/whisper_base/00031.txt\n",
      "Processing: 00032.wav (Language: English)\n"
     ]
    },
    {
     "name": "stderr",
     "output_type": "stream",
     "text": [
      "/Users/shuyao/Code/in_class/ML_mini_proj/ML_mini_proj/.venv/lib/python3.12/site-packages/whisper/transcribe.py:126: UserWarning: FP16 is not supported on CPU; using FP32 instead\n",
      "  warnings.warn(\"FP16 is not supported on CPU; using FP32 instead\")\n",
      "Processing Audio Files:  32%|███▏      | 32/100 [02:29<04:42,  4.16s/it]"
     ]
    },
    {
     "name": "stdout",
     "output_type": "stream",
     "text": [
      "Result:  That's why I got a chance to visit Tokyo Japan during the cherry blossom season. I had always wanted to see the cherry blossom and it was even better than I imagined. I also told you to do a short break between Sanstas Drasinsan for the long since Tokyo as the first last day of the train station. I saw cherry trees every year on the streets in the past and over the years. On the first day I went to a few first pass. It is a stone pass next to a small kind of bullseye line. These turnfries, the postmars were in full bloom and some of the petals were falling into the water. Making it look like a stone pass and enjoying the view. There were many people there, some talking, taking pictures, some Drasinsan and other trees. Even though it was crowded, it felt very peaceful, I was also enjoying the flowers. In the evening I went to the Nader Park. This had been up the churches and it looked magical. The biggest trees in the park were full of pelping flowers and it's nice made it seem like some sea on over there. Many people with their samsi on the runkies, other walking slowly under the trees. I walked under the growing long suns feeling that it was a different world.\n",
      "File saved to: data/processed/text_feature/whisper_base/00032.txt\n",
      "Processing: 00033.wav (Language: English)\n"
     ]
    },
    {
     "name": "stderr",
     "output_type": "stream",
     "text": [
      "/Users/shuyao/Code/in_class/ML_mini_proj/ML_mini_proj/.venv/lib/python3.12/site-packages/whisper/transcribe.py:126: UserWarning: FP16 is not supported on CPU; using FP32 instead\n",
      "  warnings.warn(\"FP16 is not supported on CPU; using FP32 instead\")\n",
      "Processing Audio Files:  33%|███▎      | 33/100 [02:33<04:18,  3.85s/it]"
     ]
    },
    {
     "name": "stdout",
     "output_type": "stream",
     "text": [
      "Result:  Last year, I went on a trip to the Singapore. I was excited to explore the city and the city's history. My first stop was a famous center in Chinatown where I tried a variety of local dishes. I had the best, both of which incredible favourful and satisfying. I went to a delivery with people from all works of life and then driving their meals. I felt a sense of excitement and happiness, so I went to the unique test and to the Under-Dial of the Police. Next day, I went to visit another city known for its flower-dome walking through the gardens. I was missed by the design and the availability of plants. I felt a deep, high-peer for the beauty and the innovation of the urban plants. Later, I met local gradient who showed me around the neighbourhoods of Singapore. He shared stories about the city's past and is prepared to be welcomed. I felt a sense of a mention learning about the rich culture, heritage and modern achievements. The trip to Singapore was a wonderful blend of plants and culture exploration. I left with my memories and the high-peer of the world.\n",
      "File saved to: data/processed/text_feature/whisper_base/00033.txt\n",
      "Processing: 00034.wav (Language: English)\n"
     ]
    },
    {
     "name": "stderr",
     "output_type": "stream",
     "text": [
      "/Users/shuyao/Code/in_class/ML_mini_proj/ML_mini_proj/.venv/lib/python3.12/site-packages/whisper/transcribe.py:126: UserWarning: FP16 is not supported on CPU; using FP32 instead\n",
      "  warnings.warn(\"FP16 is not supported on CPU; using FP32 instead\")\n",
      "Processing Audio Files:  34%|███▍      | 34/100 [02:36<04:12,  3.82s/it]"
     ]
    },
    {
     "name": "stdout",
     "output_type": "stream",
     "text": [
      "Result:  Last year, I planned a trip to Paris to attend the opening of a renowned art gallery showcasing the work of my favorite artist. This was a once in a lifetime opportunity and I had been preparing for months. I had carefully saved up, purchased tickets well in advance, and planned every detail of the journey. The gallery was scheduled to open on a Saturday evening and my flight was set for Friday morning to ensure I had plenty of time. On the day of the flight, everything started to go wrong. I woke up later than planned because I had stayed up packing the night before. I rushed through my morning routine, keeping breakfast, sleeping breakfast, and hurriedly cold taxi to the airport. I were tried to navigate the morning traffic, but it seemed every road was congested. I nervously checked my watch every few minutes. My heart's seeking has the minutes ticket by. By the time we reached the airport, I had only 20 minutes left before take off. I sprinted to the checking counter only to be told that the gate had closed and my flight had already begun boarding. I stood there in disbelief, watching the departure board as my flight status changed to departed. His appointment was overwhelming. I had looked forward to this event for so long. Imagine myself walking through the gallery, surrounded by the works of an artist who had inspired me deeply. Missing the flight felt like I had let the dream slip through my fingers. His tight so tight to such an experience makes me appreciate the importance of preparation and timing. It's a reminder to never take opportunities for granted.\n",
      "File saved to: data/processed/text_feature/whisper_base/00034.txt\n",
      "Processing: 00035.wav (Language: Chinese)\n"
     ]
    },
    {
     "name": "stderr",
     "output_type": "stream",
     "text": [
      "/Users/shuyao/Code/in_class/ML_mini_proj/ML_mini_proj/.venv/lib/python3.12/site-packages/whisper/transcribe.py:126: UserWarning: FP16 is not supported on CPU; using FP32 instead\n",
      "  warnings.warn(\"FP16 is not supported on CPU; using FP32 instead\")\n",
      "Processing Audio Files:  35%|███▌      | 35/100 [02:41<04:22,  4.03s/it]"
     ]
    },
    {
     "name": "stdout",
     "output_type": "stream",
     "text": [
      "Result: 我记得是2023年的数价我上大二然后我第一刚刚刚刚高口玩然后所以我打算去福州去找他玩一段时间因为我高低因为高口的员工所以说韩家过年都没有聚一聚因为还要负习他的考试科末然后为高考试准备所以说我们也不能去打二跑然后就现在来看他高考试是考到了一个相当不错的成绩他在上海交代你真到实验吧学物里然后就那个数价的随口特别想念他毕竟他就没有见到面了去所以说去到他那玩的时候就把一些高中手没有玩的游戏全都玩了个变像什么英雄联盟无微气这些游戏就我们俩就双牌就一起打游戏就觉得特别有意思然后除了打游戏之外我们还会出去一些找一些当地的一些特色的美食像福州比较出名的鱼王肉业还有像什么牢花鲜面什么的都长了个变福州的美食是特别有意思但是像一些比较出名的一条就是叫三岚旗下的鱼特别多的小吃还有当地的一些纪念品杀的但我跟我弟们都是本地人所以说也就是去那边找家好吃的然后玩的那段时间我觉得特别快乐然后每天晚上都一两点就聊天聊天聊到一两点的时候才睡觉然后现在它也在不大学我也在不大学然后每次也只有等到一些还好处价值的可能见到面所以说我觉得这段时间特别的快乐\n",
      "File saved to: data/processed/text_feature/whisper_base/00035.txt\n",
      "Processing: 00036.wav (Language: English)\n"
     ]
    },
    {
     "name": "stderr",
     "output_type": "stream",
     "text": [
      "/Users/shuyao/Code/in_class/ML_mini_proj/ML_mini_proj/.venv/lib/python3.12/site-packages/whisper/transcribe.py:126: UserWarning: FP16 is not supported on CPU; using FP32 instead\n",
      "  warnings.warn(\"FP16 is not supported on CPU; using FP32 instead\")\n",
      "Processing Audio Files:  36%|███▌      | 36/100 [02:45<04:18,  4.04s/it]"
     ]
    },
    {
     "name": "stdout",
     "output_type": "stream",
     "text": [
      "Result:  my story. Well, I'm going to tell a story that happened recently just a work before. I went to Tenjin to which is my best friend which we have no child since nearly a turn years ago. Tenjin, you know, is a very good city and is very famous for the breakfast for the culture of Kim. So I'm very happy when I launched Tenjin at the first time because my friend came to take me away. So then we go to the very famous place of Tenjin, the Tenjin ice, just like the other ice. I will say I feel a bit disappointed when I see the Tenjin ice because it's far more smaller than the ice in the internet with more really shock than I see on TikTok and on the internet. But then I tasted some very delicious Tenjin breakfast like the Do-Jun and something else. It's very delicious and I make my mood feel better. And then my friend took me to his university. I see that the college student will obviously do that, take a different, to their college university. Well, I see their university is big, large and good. I'm speaking, I don't feel something about that because it's just a normal university. I don't feel very good or something. And then we have to go back to home because I just get to holidays and one day we have spent one day so I have to go back to Beijing. When we left, I feel a bit disappointed and a little bit sad because we haven't met a lot of time before and we just amounted nearly one and a half days time. But I do believe we can have more time to stay in the future. And when I see this story now, I don't feel the mood, I just feel happy. This is a very happy memory.\n",
      "File saved to: data/processed/text_feature/whisper_base/00036.txt\n",
      "Processing: 00037.wav (Language: English)\n"
     ]
    },
    {
     "name": "stderr",
     "output_type": "stream",
     "text": [
      "/Users/shuyao/Code/in_class/ML_mini_proj/ML_mini_proj/.venv/lib/python3.12/site-packages/whisper/transcribe.py:126: UserWarning: FP16 is not supported on CPU; using FP32 instead\n",
      "  warnings.warn(\"FP16 is not supported on CPU; using FP32 instead\")\n",
      "Processing Audio Files:  37%|███▋      | 37/100 [02:48<03:53,  3.70s/it]"
     ]
    },
    {
     "name": "stdout",
     "output_type": "stream",
     "text": [
      "Result:  and this is my story. A few years ago my sister and I went to Hong Kong and one of the highlights of our trip was visited in Lan Quay for a popular bar this trip this trip. It was our first time there and we were excited to experience the re-branded nightlife that we had the hard hurt so much about. The narrow streets were filled with people and the energy was the electric music layered from all directions and the last four and the latter approached down the alleys. That night there was some kind of event where people drive up as different characters. We saw superheroes cartoon figures and even some historical characteristic characters. Walking around it felt like we were in a movie or found a bar that looked interesting and went in. The atmosphere was lovely with people dancing, singing along to popular songs and just having a good night. My sister and I ordered some drinks and drawn in the form. We danced last and even made a few new friends who were also visited from other places.\n",
      "File saved to: data/processed/text_feature/whisper_base/00037.txt\n",
      "Processing: 00038.wav (Language: Chinese)\n"
     ]
    },
    {
     "name": "stderr",
     "output_type": "stream",
     "text": [
      "/Users/shuyao/Code/in_class/ML_mini_proj/ML_mini_proj/.venv/lib/python3.12/site-packages/whisper/transcribe.py:126: UserWarning: FP16 is not supported on CPU; using FP32 instead\n",
      "  warnings.warn(\"FP16 is not supported on CPU; using FP32 instead\")\n",
      "Processing Audio Files:  38%|███▊      | 38/100 [02:55<04:53,  4.73s/it]"
     ]
    },
    {
     "name": "stdout",
     "output_type": "stream",
     "text": [
      "Result: 我和这个同学在二人一七年的夏天自家去了唱卖山走的是公路随路途比较长延途的风景交错变化 幼数 铁路 草地是不是还能看到几条小河一路上有说有效 所以车程不算特别无聊底达集金是我们第一件事就是品尝当地的铁锅顿虽然铁锅顿冬天吃更有感觉 但去都去了夏天们的满头是喊也得尝一口那里金星搭配好的江泽将各种配彩都煮乱包括在一个大面秘密就至米饭现在想想都还以为敌最后没有去了长白山为那里比较凉床的天气让我们短暂陶寄的北京的增露顶色很优美 预许冲通的树林里面而且空气很清醒穿梳在融入之间感觉像在仙境里一样然后侧面还有山泉 游侠几只阴阴盘先飞过在那里仿佛接受了来自大自然的拥抱之后我们去吃了冬美烧烤那里的烤蒜是一大特色其说冬美人是没有不会烤蒜的然后肉量和菜品都特别适程火候掌火的刚刚好不像那些低摊小块儿做的又说又硬的肉蒜我们吃到的蒜都可以用鲜香肥美来形容就肥肉香鲜 冒着热气然后还能发出点滋辣滋辣的声音现在想起来还是会流口水然后我们还尝尝几大当地的特色菜咬比如说第三线 锅包肉还有柔柔断这些菜虽然各地外卖都能吃得到但真正到了冬美咱们才能吃到最正宗的味道现场上桌还能拿出糖色的锅包肉然后看起来黑胡胡谣爬的第三线但其中每一个菜块都展上了够好歉的酱汁然后又是一个下饭绝配那里的菜品价格比较便宜而且绝不吃尽少量老饭都特别热情在等菜期间还会给我们送自家烟织的小菜或者是开胃的两半菜也和我们老老老家长在于老饭的沟通交流中你看我们说话的口音都变得有点冬北味还是冬北对人口音的影响大这次旅行有旅逐上小达小闹又正在场面身上使得星空神移还有地道冬北菜带了极致小手算是一个小手或者至于的旅途吧\n",
      "File saved to: data/processed/text_feature/whisper_base/00038.txt\n",
      "Processing: 00039.wav (Language: Chinese)\n"
     ]
    },
    {
     "name": "stderr",
     "output_type": "stream",
     "text": [
      "/Users/shuyao/Code/in_class/ML_mini_proj/ML_mini_proj/.venv/lib/python3.12/site-packages/whisper/transcribe.py:126: UserWarning: FP16 is not supported on CPU; using FP32 instead\n",
      "  warnings.warn(\"FP16 is not supported on CPU; using FP32 instead\")\n",
      "Processing Audio Files:  39%|███▉      | 39/100 [03:01<05:06,  5.02s/it]"
     ]
    },
    {
     "name": "stdout",
     "output_type": "stream",
     "text": [
      "Result: 我记得在2023年的夏天我邀请我和我的家人一起来北京玩因为我在北京有点大学上学这次旅游和一万不同的是以前北京对我来说不算是一个故乡因为我每次得做高铁我都能到这里来但这次不一样的是我觉得在这上学所以我不需要做高铁我们大概玩了有一个星期左右的时间当初一开始准备的是跟团友但是后来我们想了一下因为照顾到团队的很多老人跟小孩所以最后我们决定是选择一个叫邪程的定制就是包车我记得当时一共花的差不多有几个好几万块感觉还是挺贵的但是体验的话其实也没有那么好因为跟团友当时发生了一些不太好的事情比如说因为一些交通的管制车辆我们当时包的车不能及时地到达我们这里还有就是司机可能有点偷懒不想来接我们所以虽然给他钱了但他没有给我们认真工作最后邪程也给我们一些补厂那你要问我开不开心吧其实一般因为虽然他给我补厂了但是感觉还是有点贵最后我们去了不少地方来的北京人大学还有一些穿成啊Google呀还有很多其他的地方然后我发现这个很多地方其实都不是很好抢票抢票的话都要平手术印象最深的地方应该是环球影城环球影城还是挺好玩的没有很多喜欢的定义角色小荒仁还有一些其他的东西感觉还是挺好玩的我记得最后一天的话我们去的那个是Google其实觉得最后一天去Google其实不太合适但是还是最后一天去了因为你知道抢票很难所以最后一天去Google的时候记得当上好像还有人穿皇帝的衣服进去拍照我觉得这个想法还挺兴趣的从来来说这是一次还不错的旅行但是也有一些不太好的事情嘛因为你知道鞋城它那边司机有点难所以这就是我的故事\n",
      "File saved to: data/processed/text_feature/whisper_base/00039.txt\n",
      "Processing: 00040.wav (Language: English)\n"
     ]
    },
    {
     "name": "stderr",
     "output_type": "stream",
     "text": [
      "/Users/shuyao/Code/in_class/ML_mini_proj/ML_mini_proj/.venv/lib/python3.12/site-packages/whisper/transcribe.py:126: UserWarning: FP16 is not supported on CPU; using FP32 instead\n",
      "  warnings.warn(\"FP16 is not supported on CPU; using FP32 instead\")\n",
      "Processing Audio Files:  40%|████      | 40/100 [03:04<04:23,  4.39s/it]"
     ]
    },
    {
     "name": "stdout",
     "output_type": "stream",
     "text": [
      "Result:  back in 2020. I want to visit my high school classmate Ji Jiang. He was in Zhou Jiang University so I want to Zhou Jiang Han Zhou to visit him. We planned to visit Wethelate to see the beautiful landscape but because of an accident the same canceled. My friend Ji Jiang made his leg hurt just yesterday before I went to Han Zhou. So we finally went to see our movie. It was a very happy time within because he was one of my best friends so no matter what we do we still have a good time. After that we went to our restaurant to taste some famous dishes in Han Zhou. I can still remember many dishes for example like Xi Hu Chu Yu and Dong Jing Xia Ren, Dong Po Ro and so on. There was very delicious until today I still count for guys the flavor. I enjoy a very good time in Han Zhou and I can't wait the next time I want to Han Zhou. Hope can experience more interesting scenes here again.\n",
      "File saved to: data/processed/text_feature/whisper_base/00040.txt\n",
      "Processing: 00041.wav (Language: English)\n"
     ]
    },
    {
     "name": "stderr",
     "output_type": "stream",
     "text": [
      "/Users/shuyao/Code/in_class/ML_mini_proj/ML_mini_proj/.venv/lib/python3.12/site-packages/whisper/transcribe.py:126: UserWarning: FP16 is not supported on CPU; using FP32 instead\n",
      "  warnings.warn(\"FP16 is not supported on CPU; using FP32 instead\")\n",
      "Processing Audio Files:  41%|████      | 41/100 [03:07<03:56,  4.00s/it]"
     ]
    },
    {
     "name": "stdout",
     "output_type": "stream",
     "text": [
      "Result:  I met my girlfriend when we sent up in the same group for the first time. She was pretty but silent. The other two talked about how to do our work later. We exchanged our rich had IDs. After all the works were done, I asked her to come out and hang around one day. I was excited when I sent that message. Even she said, yes, I still cannot believe that was real. Also, I was very nervous because that was my first time working around with a girl. We went around the school for a long time and talked about a lot of things. From study to dreaming future and so on. At the end of the day, I was so glad to hear that she said she likes going around with me and expects the next time we come out and chat with each other. After our few times hanging out, I bought flowers for her and gave her, which she did not even know. She was surprised. Then I declared my love for her. I asked whether she would like to be my girlfriend. She said yes. Until now, we had became together for almost 650 days. Yes, that was a quite long time, but I think the time we became together will be longer, longer and longer.\n",
      "File saved to: data/processed/text_feature/whisper_base/00041.txt\n",
      "Processing: 00042.wav (Language: Chinese)\n"
     ]
    },
    {
     "name": "stderr",
     "output_type": "stream",
     "text": [
      "/Users/shuyao/Code/in_class/ML_mini_proj/ML_mini_proj/.venv/lib/python3.12/site-packages/whisper/transcribe.py:126: UserWarning: FP16 is not supported on CPU; using FP32 instead\n",
      "  warnings.warn(\"FP16 is not supported on CPU; using FP32 instead\")\n",
      "Processing Audio Files:  42%|████▏     | 42/100 [03:16<05:17,  5.47s/it]"
     ]
    },
    {
     "name": "stdout",
     "output_type": "stream",
     "text": [
      "Result: 那是一个充满其他的日子我终于亲自去到了美国参加了一场NBA比赛不仅如此玩获得了一个与篮球巨星乐补党占武斯见面的机会这一切听起来像是一个梦但是当我站在洛杉磯的斯台普斯中心门前时我几乎不敢相信自己的眼睛我已经是占武斯的忠实损失从他刚进联盟的那个赛集开始我就一直关注了他的比赛见证了他从克里夫兰到麦阿密再到回到克里夫兰再到最终加入洛杉磯胡人获得多个总关键的辉皇历程能够亲眼见到他甚至与他面对面交流对我来说请的是屋与轮鼻的荣耀那天我早早的来到比赛场地攻击中迷万的兴奋与紧张的气氛胡人对将对这勇士求迷们聚集在门外面兴奋的讨论着比赛的预测和球员的表现终于工作人员也带我进入了专门为媒体和WNP加免准备的齐玉这里可以进举力更常到球员的准备过程当我走进球员更一世的走狼时突然听到了一阵沉重的表舞声我转身眼前就出现了那位同小就崇拜的篮球巨星乐卜朗战务资他穿着胡人对的续练服手上拿着一瓶水正走向训练场地虽然他看起来非常专注但当他看到我十倍位一笑似乎对我并不陌生我们开始逃了篮球也聊到了他个人的生活他告诉我除了安静场的挑战家庭和社会责任是他人生中最重要的部分他提到作为美女论员还有是有会面临巨大压力但他始终相信通过团队的支持和不限努力一些困难都能够克服我问他在你漫长的职业上压中什么时候让你觉得最美娇JRMZ 陈自路派一特未必笑得回答我最大的娇娇就是能够为我的家乡克里富兰待合那个总关键广碑那我们团队分担的结果也是我职业上压中最难忘的一刻赢得总告军不止是为了我自己而是为了那些一直支持我的求迷和家乡的人在短短交流中JRMZ 率给我了还了深刻的印象他的牵运讯专注他对篮球的热爱人员超出我的特认识他不仅是场上的超级进行场下他也充满智水和人情味放我与他告别时我感到一种难以言议的满足感能够与JRMZ 这样子伟大业能源面的面交流是我人生中最宝贵的经历之一尽管我知道像JRMZ 这样的人物可能一上只有那么一色我遇那他的一份专注和热情的精神将永远激励我不断追求自己的梦想比赛开始了我作为场边眼睛击击地震球上的每一刻JRMZ 在场上表现如同平常一样令人惊叹而在场外的那一刻的真诚和牵迅也深深地触动了我带走Thank you\n",
      "File saved to: data/processed/text_feature/whisper_base/00042.txt\n",
      "Processing: 00043.wav (Language: English)\n"
     ]
    },
    {
     "name": "stderr",
     "output_type": "stream",
     "text": [
      "/Users/shuyao/Code/in_class/ML_mini_proj/ML_mini_proj/.venv/lib/python3.12/site-packages/whisper/transcribe.py:126: UserWarning: FP16 is not supported on CPU; using FP32 instead\n",
      "  warnings.warn(\"FP16 is not supported on CPU; using FP32 instead\")\n",
      "Processing Audio Files:  43%|████▎     | 43/100 [03:18<04:19,  4.56s/it]"
     ]
    },
    {
     "name": "stdout",
     "output_type": "stream",
     "text": [
      "Result:  I listened to a live house several weeks ago and for meeting my idol she and that was the first time for her to start a live house in Beijing so I changed the opportunity and bought my ticket instantly and when I finally arrived there I saw a lot of things just like me they said that many little gifts were free and that was really really happy for me however, because there are too many people so when I get going to the house my place is a little bit far from the stage but it doesn't affect my passion of listening to the beautiful amazing music all these more fantastic things were selected as a lucky one to go on to the stage and take a shot with my idol I was really excited at that time and I couldn't suddenly describe the mood at that time however, it's just so happy\n",
      "File saved to: data/processed/text_feature/whisper_base/00043.txt\n",
      "Processing: 00044.wav (Language: Chinese)\n"
     ]
    },
    {
     "name": "stderr",
     "output_type": "stream",
     "text": [
      "/Users/shuyao/Code/in_class/ML_mini_proj/ML_mini_proj/.venv/lib/python3.12/site-packages/whisper/transcribe.py:126: UserWarning: FP16 is not supported on CPU; using FP32 instead\n",
      "  warnings.warn(\"FP16 is not supported on CPU; using FP32 instead\")\n",
      "Processing Audio Files:  44%|████▍     | 44/100 [03:23<04:17,  4.59s/it]"
     ]
    },
    {
     "name": "stdout",
     "output_type": "stream",
     "text": [
      "Result: 2016年我去了西藏,我在拉薩教洛,立即被那里的壮力自然警官所吸引。第一天我参观了布达拉公,供电非常熊伟,金闭灰皇,给我留下了深刻的印象。我还见到了许多深川传统服势的藏民,他们都非常友好。我在布达拉公听了导游的解说,了解了西藏的历史和宗教。下午我去了大招寺,那里有许多古老的佛象和庇化,我感到一种深深的宁静和敬畏,仿佛至深于另一个世界。第二天我去了纳木厕湖,湖水非常清澈,周围都是威俄的雪山,我在湖边散步,想受着清新的空气和宁静的环境。我还租了一搜小船,滑到了湖中心,水下的景色非常美丽,我能清洗的看到水中的鱼和植物。当天晚上我在湖边的一家小鱼馆住下,鱼馆老板告诉我,当地森人会在这里举行一些特殊的一世,我决定第二天去参加,第三天我进行了一次突步旅行,穿过了高原上大草垫和河流。高原的景色非常壮观,我看到了许多野生度舞,比如藏林阳和藏野鱼。这次旅行让我感到心晃深意,也对我个人的成长拆剩了巨大的影响,每次会想起这次旅行,我都感到非常高兴和感激。\n",
      "File saved to: data/processed/text_feature/whisper_base/00044.txt\n",
      "Processing: 00045.wav (Language: Chinese)\n"
     ]
    },
    {
     "name": "stderr",
     "output_type": "stream",
     "text": [
      "/Users/shuyao/Code/in_class/ML_mini_proj/ML_mini_proj/.venv/lib/python3.12/site-packages/whisper/transcribe.py:126: UserWarning: FP16 is not supported on CPU; using FP32 instead\n",
      "  warnings.warn(\"FP16 is not supported on CPU; using FP32 instead\")\n",
      "Processing Audio Files:  45%|████▌     | 45/100 [03:28<04:23,  4.78s/it]"
     ]
    },
    {
     "name": "stdout",
     "output_type": "stream",
     "text": [
      "Result: 去年我有机会去了杭州,拜访了我多年的朋友,这次旅行真的让我特别期待。因为杭州以西湖美景和丰富的文化主城,到了那里之后,我们首先去了特别著名的西湖景点,那里天气情冷,阳光砸在湖面上,湖水波光00,特别美丽。我们沿着湖边的步道慢慢走着,感受着轻轻的空气和优弦的氛围。湖边的柳树随风谣意,仿佛在下我们招手。周围还可以听到小养的教声,整个环境非常寗静。朋友和我在湖边聊了许多,谈起了彼此这些年的生活变化,感觉非常的亲切。接着我们还成船游览了西湖,船在湖面上还缓缓前行。远出的雷风塔,见见的印入眼脸,像一幅古代的画券般美丽动人。那一刻,我真的感到非常放松,好像所有的烦恼都消失了。有两晚细虎之后,朋友还带我去品尝了航中的特色美食,东坡肉。我们在一家老厕号的餐馆里点了这道菜。东坡肉入口即化,肥儿不逆,味道真的特别香浓。朋友还和我讲了这道菜背后的故事,据说是苏东坡当年创造的,真的非常有趣。吃完饭后,我们又去了一个茶馆,航中的龙警察特别有名,我们点了几杯,坐在茶馆里慢慢品味,看着窗外的夜景见见降灵,湖面上灯光闪烁,印出一片灵进的梅景。那种感觉很温馨,也让我对航中有了更深的喜爱。这次旅行不仅让我领略到了航中的美丽风光,也让我和朋友有了更多的交流,拉进了彼此的距离。回到家后,我一直念念不忘那段美好的时光,航中真是一个令人流连望返的地方。\n",
      "File saved to: data/processed/text_feature/whisper_base/00045.txt\n",
      "Processing: 00046.wav (Language: English)\n"
     ]
    },
    {
     "name": "stderr",
     "output_type": "stream",
     "text": [
      "/Users/shuyao/Code/in_class/ML_mini_proj/ML_mini_proj/.venv/lib/python3.12/site-packages/whisper/transcribe.py:126: UserWarning: FP16 is not supported on CPU; using FP32 instead\n",
      "  warnings.warn(\"FP16 is not supported on CPU; using FP32 instead\")\n",
      "Processing Audio Files:  46%|████▌     | 46/100 [03:31<03:47,  4.21s/it]"
     ]
    },
    {
     "name": "stdout",
     "output_type": "stream",
     "text": [
      "Result:  About when we go go, I took a trip to Ainer to see my best friend from high school. There's someone ahead and seen for a really long time. Ainer is such a wonderful place. The sun is shining brightly. The beaches are low and sunny, and the wind feels so good. Aphelian law is the big blue sea right away. My classmates and I spent a lot of time walking on the beach. The wind blown in our face made us feel like we were back in high school. Having so much fun together. We talked a lot about our past. We remembered school days, our dreams, and being young. It felt like those days were just yesterday. We also chose Ainer's special food. It was really tasty and we had a great time eating it. But this trip was more than just about seeing Ainer's beautiful places. It was also a chance to reconnect with my high school friends. We encouraged each other and make a promise to work hard for a better future. It feels so good to be with them again. Not our back home, but I always remember the trip and to great time ahead with my old friends. Thank you for listening.\n",
      "File saved to: data/processed/text_feature/whisper_base/00046.txt\n",
      "Processing: 00047.wav (Language: Chinese)\n"
     ]
    },
    {
     "name": "stderr",
     "output_type": "stream",
     "text": [
      "/Users/shuyao/Code/in_class/ML_mini_proj/ML_mini_proj/.venv/lib/python3.12/site-packages/whisper/transcribe.py:126: UserWarning: FP16 is not supported on CPU; using FP32 instead\n",
      "  warnings.warn(\"FP16 is not supported on CPU; using FP32 instead\")\n",
      "Processing Audio Files:  47%|████▋     | 47/100 [03:34<03:27,  3.92s/it]"
     ]
    },
    {
     "name": "stdout",
     "output_type": "stream",
     "text": [
      "Result: 两个星期之前我和我的朋友一起去公园熬二我们在公园里散步路边有很多不同品种而输我们一边观察他们的页子形状又成于不同因为拍照在网上查一些我们不认识的数目的品种我们正走着走着看见了很多可爱的小狗其中一直很胖的拉不拉多让我印象深刻一位老爷爷牵着他在离我们很远的地方那只狗非常兴奋地触目要尾吧当他走到我们身边的时候他一下子扑过来用他的头和身子蹭我们的腿他非常胖并且坐在了我的脚上我能感觉到他的身子很重我们还看见了一支很大的肩膀前他的舌头是滋涩的看起来很奇怪那天我们还去了学校附近了一家平喊电吃了一张非常美味的披萨我们两个都非常开心最后我们一起做公交车回学校了这一天就结束了\n",
      "File saved to: data/processed/text_feature/whisper_base/00047.txt\n",
      "Processing: 00048.wav (Language: English)\n"
     ]
    },
    {
     "name": "stderr",
     "output_type": "stream",
     "text": [
      "/Users/shuyao/Code/in_class/ML_mini_proj/ML_mini_proj/.venv/lib/python3.12/site-packages/whisper/transcribe.py:126: UserWarning: FP16 is not supported on CPU; using FP32 instead\n",
      "  warnings.warn(\"FP16 is not supported on CPU; using FP32 instead\")\n",
      "Processing Audio Files:  48%|████▊     | 48/100 [03:40<03:50,  4.44s/it]"
     ]
    },
    {
     "name": "stdout",
     "output_type": "stream",
     "text": [
      "Result:  One day, I suddenly received a message from a long lost classmates. Someone had been in the taxi for many years. In the last day, he said they had been working in another city for the past few years and had just returned to our hometown. He mentioned that he wanted to talk to me about something. It's been two years since we lost to each other. And thinking back to our high school days, I could help but feel a bit emotional. So, I decided to match up with him and catch up. We agreed to match at a quiet coffee. A place I would choose from quickly. I arrived early thinking that since it's been so long since we lost match, he probably had lots to say. After a while, I finally saw him work into the coffee. He seemed to have hardly charged. So, we are really bright and stunning smile. Once we started out, he began talking about past. From tribal silk matters to our lives now. Grandly, the topic started to take a strange turn. He chose me that he had made some investments over the years, and met some interesting people. Even imagine that he was now hardly some very completed business transactions. Listening to this, I was somehow indifferent, but didn't think much about it. However, as we looked at him speaking about his particular risks, I understood the strange sense of unreliary. Looking back, he had been the most natural and pristine background. Throughout the conversation, I noticed that he had a massive compassion and the people I know nothing about. And he had become increasingly mysterious. Just when I was out to leave, his journey just picked me to a place to show me his new project. We walked out of the coffee and right in front of the building. It looked like a burning factory, but it's confidently said that it was his coffee, his office. I was puzzled why would an investor choose such a place while offering. Even so, his parents called and told me or told me that he was still offering an empty RV. I started to feel that something was off, but when I turned around, the health drinks seemed up the medium. When I left, he said to me, you're already welcome to come back. We still have a lot to cover. I still couldn't start if the night was real or not, especially when being with office\n",
      "File saved to: data/processed/text_feature/whisper_base/00048.txt\n",
      "Processing: 00049.wav (Language: English)\n"
     ]
    },
    {
     "name": "stderr",
     "output_type": "stream",
     "text": [
      "/Users/shuyao/Code/in_class/ML_mini_proj/ML_mini_proj/.venv/lib/python3.12/site-packages/whisper/transcribe.py:126: UserWarning: FP16 is not supported on CPU; using FP32 instead\n",
      "  warnings.warn(\"FP16 is not supported on CPU; using FP32 instead\")\n",
      "Processing Audio Files:  49%|████▉     | 49/100 [03:44<03:46,  4.44s/it]"
     ]
    },
    {
     "name": "stdout",
     "output_type": "stream",
     "text": [
      "Result:  Last winter break, I made a special trip back to my hometown to visit my grandmother. As a child, going to her house was always the highlight of my ear. She would always make my favorite dish, filling the air with a familiar aroma of home and her endless love. Now as she has a get older, her mobility isn't what it is used to be, but she still insisted on cooking for me herself. I urged her to rest, but she just smiled and said, when you are here, I have the stress. Her words filled me with worms and bittersweet filling. Her care and concern for me have always been so deep and thoughtful. Even my mom, our meal, she records stories from a childhood, especially the times when I have a climb onto the mountain to find snakes, my glorious explorers. As she told them, she laughed hurtly. Her eyes filled with a facty affection and smell. In that moment, I feel like I was back in those carefree days, developed in her and junior love. We remembered, we loved together and she also shared many family stories I have never heard before, about the hardship of her younger ear and how she had raised the family. Here in this story, I came to understand not only her hearters, but also gained a new appreciation for her life. When it was time to leave, she stood at the door, watching me for a long time. She gazed filled with both attachment and worry. She slightly hinged, figure reminded me of the passage of time and made me cherish her presence even more. At the way back, my heart was full of thoughts of family, realizing that they are truly the world's least source of support. This video helped me understand that the best gift we can give our family is our presence, and are resolved to spend more time with her. Traturing every moment we have together.\n",
      "File saved to: data/processed/text_feature/whisper_base/00049.txt\n",
      "Processing: 00050.wav (Language: Chinese)\n"
     ]
    },
    {
     "name": "stderr",
     "output_type": "stream",
     "text": [
      "/Users/shuyao/Code/in_class/ML_mini_proj/ML_mini_proj/.venv/lib/python3.12/site-packages/whisper/transcribe.py:126: UserWarning: FP16 is not supported on CPU; using FP32 instead\n",
      "  warnings.warn(\"FP16 is not supported on CPU; using FP32 instead\")\n",
      "Processing Audio Files:  50%|█████     | 50/100 [03:48<03:37,  4.35s/it]"
     ]
    },
    {
     "name": "stdout",
     "output_type": "stream",
     "text": [
      "Result: 在今年的国性节我去国家道具观看了经济白色断粉丝白色断的眼粗针对之前的老居隔禁行了调整在创策和取掉上有所修改并且加入了更多现代化的东光和五美加入了更多群演群舞的环节使之间的工业工业工业本次演出的本次演出是有许多住民演员和优秀青演员参演演出现场做无需息气氛也是非常热烈演员的一招一是一唱一会都透过独特的运类和独特的美感观众们的掌声荒呼声也是刺激比赋整个机场都是羊一者欢乐的气氛但是在过程当中也出现了一点小意外在水斗的打露系中白苏真的演员可能是太紧张了除了一点小意外强调然后中长演出我还是觉得有一些遗憾就是没有听到我最喜欢的唱歌我后来去查一下因为这次演出对于唱词有所调整所以就将那一段接近这么改变并且也是非常遗憾这点足它是你手机掉了之前的一些唱词比如最后走合播我那也是希望以后能看到更全的白色段你期待下次的变成\n",
      "File saved to: data/processed/text_feature/whisper_base/00050.txt\n",
      "Processing: 00051.wav (Language: Chinese)\n"
     ]
    },
    {
     "name": "stderr",
     "output_type": "stream",
     "text": [
      "/Users/shuyao/Code/in_class/ML_mini_proj/ML_mini_proj/.venv/lib/python3.12/site-packages/whisper/transcribe.py:126: UserWarning: FP16 is not supported on CPU; using FP32 instead\n",
      "  warnings.warn(\"FP16 is not supported on CPU; using FP32 instead\")\n",
      "Processing Audio Files:  51%|█████     | 51/100 [03:57<04:30,  5.52s/it]"
     ]
    },
    {
     "name": "stdout",
     "output_type": "stream",
     "text": [
      "Result: 那是初三的一個冬天,寒風思義地在窗外怒號防護整個世界都被動成了冰冷的模樣每當我踏出教室,刺鼓的寒藝就像無情的利任刺入肌膚,讓人無法呼吸即使外面是那樣的寒冷,陽光依然玩皮的透過窗戶,撒金教室,競竟地鋪滿了可桌光線溫柔而散亂,防護是一位溫暖的朋友在寒冷冬日裡輕輕浮摸著我們的內心帶來一絲絲寧靜與安慰整上午我們埋頭在客本宇作業中,筆間在作業本上飛鎖月動防護事件也隨之敲敲流走,我們完全沒有察覺窗外那寒冷冬日正敲敲運樣的一場驚喜,在我們的世界裡,只有黑板上的知識點和緊張的呼吸而心中依然沒有了其他空間,那時我們不知道生活的美好時光總是在不經意見降臨到了下午,邪陽見解熄寫,天色主業暗淡灰蒙蒙天物,仿佛也在即將而,為即將發生的事做著浴室突然雪花四億的飛鵡,最初那些雪花如清營般的羽毛,緩緩下落似乎是天空中最溫柔的祝福,經濟的雪花預見密集仿佛無數的小精靈在天空中歡快的舞蹈,隨著風旋律,旗舞旋轉清清飄落到地面每一片雪花,都是大自然的師行師行,都是冬日的一模柔情我不由自主的放下手中的筆,你往窗外的雪景那一刻我的心突然變得一場靈靜,所有的學習壓力和作業的煩惱都在這一刻煙消暈散,隔著玻璃我似乎能聞到雪花的清香,那是一種徹底淨化心靈的清香雪花,敲無聲氣的復甲了一切,敲敲的血,我內心的服藏讓我悠感到一人久違的輕鬆與愈隨著雪月下月大,笑園內的樹木操場甚至污染都被蓋上一層薄薄的白雪整個世界仿佛披上了一層截白的沙衣,柔和而安靜空氣充迷慢著雪的氣息,一切都變得格外清晰,格外靈靜那一刻我忍不住開始壞想下課後,我將在草地上四一連奔跑腳踩著鬆軟的基雪上發出,隔著隔著雷聲響那種無憂無力的快樂,像陽光一樣,屈散了心中所有的陰霾我們向一群失去激烈的孩子,曾經在這雪白的世界裡直到天色暗淡下來回憶其那些飄雲的雪花,我依舊能感受到那份放下所有的煩惱的輕鬆離許願那一天,像是為我吸泥內心的沉淡帶來了無盡的歡樂和溫暖生活中美好,往往就在我們不經意間,敲敲降明\n",
      "File saved to: data/processed/text_feature/whisper_base/00051.txt\n",
      "Processing: 00052.wav (Language: English)\n"
     ]
    },
    {
     "name": "stderr",
     "output_type": "stream",
     "text": [
      "/Users/shuyao/Code/in_class/ML_mini_proj/ML_mini_proj/.venv/lib/python3.12/site-packages/whisper/transcribe.py:126: UserWarning: FP16 is not supported on CPU; using FP32 instead\n",
      "  warnings.warn(\"FP16 is not supported on CPU; using FP32 instead\")\n",
      "Processing Audio Files:  52%|█████▏    | 52/100 [04:00<03:59,  4.98s/it]"
     ]
    },
    {
     "name": "stdout",
     "output_type": "stream",
     "text": [
      "Result:  It was an autumn afternoon. I returned to my childhood town to Sima Grand Lala, whom I had been in for years. The town was lively and the same yet it felt both familiar and night. The streets, the cooler cafe and the row of houses along the main road were all still over there, but quite a handless lower than my memories. Following the pass about, I saw rich nightwear manless house. I paused before knocking and with the door opened, there was my well-mannered, were hopped tightly. I'm hand-aged wrinkles in your face and sprinkled a breeze through her hair. But her world seemed a long, remind unchained. Inside the living room's mount, all of her cooking, a door with family photos and my child had to talk. Everything seemed really unhatched by time, though the room seemed smaller. I threw it together and tried it about reason life after eight. But as hand-housed, our conversation turned into a heavier. My grandmother studied talking about the friends she had lost and the good times from the past. I could feel deep sadness because I realised how much time had taken away from us. Even though we tried to stay positive, there was a denying of all sense of loss hanging in the air. The way it was time for me to leave, I had mixed all the emotions for the past and uncertainty about the future. I held my grandmother's head tightly and promised her I would come back to visit more often that day and learn that even though time takes so much from us, love and memories are forever.\n",
      "File saved to: data/processed/text_feature/whisper_base/00052.txt\n",
      "Processing: 00053.wav (Language: English)\n"
     ]
    },
    {
     "name": "stderr",
     "output_type": "stream",
     "text": [
      "/Users/shuyao/Code/in_class/ML_mini_proj/ML_mini_proj/.venv/lib/python3.12/site-packages/whisper/transcribe.py:126: UserWarning: FP16 is not supported on CPU; using FP32 instead\n",
      "  warnings.warn(\"FP16 is not supported on CPU; using FP32 instead\")\n",
      "Processing Audio Files:  53%|█████▎    | 53/100 [04:02<03:05,  3.95s/it]"
     ]
    },
    {
     "name": "stdout",
     "output_type": "stream",
     "text": [
      "Result:  A week ago I went on a hiking trip to the mountain with my friends. We just decided that last night we packed our bags with all the essentials like clothes and shoes and something we need to eat and drink. The hike was so challenging but rewarding. We paid a lot of effort to go to on the peak. However we enjoyed the breathtaking views and valley below. At the top we also watched the sunset, finesseons of accomplishment. Next day we explored the surrounding, surrounding moss. And enjoy meals with my friends.\n",
      "File saved to: data/processed/text_feature/whisper_base/00053.txt\n",
      "Processing: 00054.wav (Language: Chinese)\n"
     ]
    },
    {
     "name": "stderr",
     "output_type": "stream",
     "text": [
      "/Users/shuyao/Code/in_class/ML_mini_proj/ML_mini_proj/.venv/lib/python3.12/site-packages/whisper/transcribe.py:126: UserWarning: FP16 is not supported on CPU; using FP32 instead\n",
      "  warnings.warn(\"FP16 is not supported on CPU; using FP32 instead\")\n",
      "Processing Audio Files:  54%|█████▍    | 54/100 [04:07<03:14,  4.22s/it]"
     ]
    },
    {
     "name": "stdout",
     "output_type": "stream",
     "text": [
      "Result: 2021年的時候去了陳多這次旅行真的是特別難忘因為陳多是一座非常有火力又有光花地一名的城市然後它整體的風味分為是非常優勢我一下子就外上最讓我印象深刻的時候當地露就是特別的油好然後讓整個旅程都非常圓快原來他們看都預助人當然陳多的話都變成長焯四川美食像我們到處就去了很多的小餐廣告互扁攤印象最深刻的肯定是火鍋外長外長的肉麻婆豆花單單麵都特別好吃但是太辣了有時候回來了的獨自這次旅行中最難忘的一站是那個陳多的大熊貓反而裡面就是一粒雞筋那些大飯大熊貓肯煮在晚上真的是很可愛都手不得離開出四隻外娃我們還去了那個很寬來相子有很多的老實建築然後還長了一些傳統小吃麻的點特色的進品我覺得最讓我印象深刻的也是讓我最喜歡的成都的地方就是它優先的生活節奏雖然是一個大城市但是沒有那種充亡的感覺像上海背景不像這種一線城市一樣在它也很繁華然後它一些沒有事一些豐富的文化讓這些這次旅行特別有意義我真的希望有很能夠再去一次成都而且我認為成都是一個非常一居的城市表可能可以考慮一下在成都羊貓吧反正也有悄悄的體驗\n",
      "File saved to: data/processed/text_feature/whisper_base/00054.txt\n",
      "Processing: 00055.wav (Language: Chinese)\n"
     ]
    },
    {
     "name": "stderr",
     "output_type": "stream",
     "text": [
      "/Users/shuyao/Code/in_class/ML_mini_proj/ML_mini_proj/.venv/lib/python3.12/site-packages/whisper/transcribe.py:126: UserWarning: FP16 is not supported on CPU; using FP32 instead\n",
      "  warnings.warn(\"FP16 is not supported on CPU; using FP32 instead\")\n",
      "Processing Audio Files:  55%|█████▌    | 55/100 [04:12<03:30,  4.69s/it]"
     ]
    },
    {
     "name": "stdout",
     "output_type": "stream",
     "text": [
      "Result: 在2018年的首加,我剛剛從初中畢業,於是我和母親一同踏上了相亡已久的英國之女。在出發前,我通過唐敦莊園皇官維多利亞女王等音劇,對英國的歷史和文化有了初步的了解和濃厚的興趣。這些聚集讓我對英國的規則生活往事歷史和為多利亞時代的徽皇有了直觀的感受。我們那裡從從倫敦開始,這座城市一些豐富的歷史以及和文化分為而文明。儘管我們到達時,大本中正在維修未能一堵其全貿,但這並沒有減少我們對這座城市的熱愛。我們在倫敦的街頭漫步,感受著這座城市獨特的魅力,重做游輪在太武士河上皇上前行。倫敦的天氣,秦天很難一見,大多數都是會慢慢地陰天。偶爾還會下雨,但這並沒有影響我們的遊覽性質,反而增添了一份英倫風情。與中和倫敦有著別樣浪漫和失意,我們稱之散,穿梭在古老街道上,仿佛自己也成為了那些允許中的意願。在倫敦的行程節出後,我們又前往了蘇蘭的首富艾丁堡。這座城市一起古老的城堡,咋起來的街道和豐富的文化活動而文明。在艾丁堡,我們仿佛穿越回了朱世傑,感受到了蘇格蘭的歷史和文化。我們參觀了艾丁堡城堡,了解了蘇格蘭的往事歷史,還慢不在皇家陰里大道上,感受著這座城市的火力與魅力。這次英國之旅不僅讓我親身體驗了英國的歷史和文化,也讓我對這個世界有了更深的理解和認識。沒做城市,沒做建築,沒要街道都存在著故事,講述著歷史,這些經歷如同寶貴的財富,會永遠真堂在我的記憶中。\n",
      "File saved to: data/processed/text_feature/whisper_base/00055.txt\n",
      "Processing: 00056.wav (Language: English)\n"
     ]
    },
    {
     "name": "stderr",
     "output_type": "stream",
     "text": [
      "/Users/shuyao/Code/in_class/ML_mini_proj/ML_mini_proj/.venv/lib/python3.12/site-packages/whisper/transcribe.py:126: UserWarning: FP16 is not supported on CPU; using FP32 instead\n",
      "  warnings.warn(\"FP16 is not supported on CPU; using FP32 instead\")\n",
      "Processing Audio Files:  56%|█████▌    | 56/100 [04:17<03:23,  4.63s/it]"
     ]
    },
    {
     "name": "stdout",
     "output_type": "stream",
     "text": [
      "Result:  Few years ago, I visited London with a group of friends. While exploring the city, we stumbled up in a narrow alley lined with all brick walls and I've recovered artists. At the very end of the alley was a small, almost-hidden bookstore. It's wooden sign, barely legible, from where. Read the silent page. Curiously got the better of me and I stepped it inside. The store was dimly lit, with shelves that stretched to the ceiling, penned with books of every size and age. The scent of aged paper and wood polish filled the air. As I posted the Aesles, my eyes were drawn to the killer book, like flat-town high shelf. Unlike the others, they had no title or markings, just a plain, weathered, leather cover. I carefully put it down and opened it. Inside, I found pages filled with handwritten notes in an elegant cursive script. The writing seemed to describe a journey through extraordinary places, the city of eternal highlight, and the valley of visbers. This description was vivid, as though the writer had truly been there. As I stood there reading, an elderly woman emerged from behind the computer. Her silver hair was tied back neatly and her pink blue eyes seemed to see right through me. She approached with a warm smile and said, that book has been waiting for you. Her words startled me and I laughed normally, but seeing when she was joking, but she continued. It's just a reader, you must take it. I hesitated when I asked how much the book cost. She simply waved her hand and said, it's righty yours. Be well-dored, but intrigued. I liked the store, with the book in hands. Later, I tried to find information about the places mentioned in the text, but my searchers map empty, even now, the book sees on my shelf, it's this untold. Sometimes I wonder if that bookstore and the mysterious woman were even real.\n",
      "File saved to: data/processed/text_feature/whisper_base/00056.txt\n",
      "Processing: 00057.wav (Language: English)\n"
     ]
    },
    {
     "name": "stderr",
     "output_type": "stream",
     "text": [
      "/Users/shuyao/Code/in_class/ML_mini_proj/ML_mini_proj/.venv/lib/python3.12/site-packages/whisper/transcribe.py:126: UserWarning: FP16 is not supported on CPU; using FP32 instead\n",
      "  warnings.warn(\"FP16 is not supported on CPU; using FP32 instead\")\n",
      "Processing Audio Files:  57%|█████▋    | 57/100 [04:22<03:25,  4.77s/it]"
     ]
    },
    {
     "name": "stdout",
     "output_type": "stream",
     "text": [
      "Result:  Looking back at my childhood travel, I came to Tibet in the early 12th, where I was in force with this old son. As well as the most magical experience, it was my first time traveling to such a unique state. And even now almost a year later, the memory reminded me my mind. I remember how my dad came running me to a slow, because of the altitude. So of course, the energetic fast-quick. I barely listen until I actually felt the same, making me sad, easy. Mom was constantly making me drink water and watching me like a funk. To all the audiences of altitude 6 minutes. Somehow, the death's personalized made other things feel more adventure. Luckily, for its flaw on a special mission, the local food was accompanied with a relation to my young past thoughts. I can still remember my first date of age. It was nothing like a fact. At first, I went to my north to the unique facility, Sattas Tets. But by the end of our trip, I was actually asking for more. The island barely was everywhere, in bridge, lakes, and even things. Now, altitude is more possible initially, because it is a place that enough loving to keep so much. That we both got real pockets home. The last date was three weeks with taking even some of my last year of self. The most beautiful weather, colorful, clear, black, late in the winter. And the snow-covered mountains, dancing to treasure clothes. So this is also like stepping into a distance world. I remember sitting with my parents, watching the special times of mountains, in cities of gold and purple. We were like, we were on top of the world. This makes this memory particularly special now, is how it shifts my understanding of culture that was the essential young age. It's amazing how the parents from our childhood continued to express our positive as they grow older.\n",
      "File saved to: data/processed/text_feature/whisper_base/00057.txt\n",
      "Processing: 00058.wav (Language: Chinese)\n"
     ]
    },
    {
     "name": "stderr",
     "output_type": "stream",
     "text": [
      "/Users/shuyao/Code/in_class/ML_mini_proj/ML_mini_proj/.venv/lib/python3.12/site-packages/whisper/transcribe.py:126: UserWarning: FP16 is not supported on CPU; using FP32 instead\n",
      "  warnings.warn(\"FP16 is not supported on CPU; using FP32 instead\")\n",
      "Processing Audio Files:  58%|█████▊    | 58/100 [04:27<03:19,  4.75s/it]"
     ]
    },
    {
     "name": "stdout",
     "output_type": "stream",
     "text": [
      "Result: 去年冬天我有一次机会去办房我一直想见但是从来没有见过的祖父当时我就是完成了一场重要的考试然后心情非常非常愉悦所以我的爸决定就是带我回到他们的家乡就是在一个云南大山深浦到达村庄的时候就是已经很晚了但是空中就是一股很好闻的机会但是村里没有灯光但是当我抬头的时候夜空中的清醒就是非常亮爷爷在门口等待我们他是一个非常合爱的人他的穿着非常的浮素然后脸上带着笑容他是第一次见到我他是非常仔细的看着我说我小时候长得和爸爸长得一模一样可能第二天早上爷爷带我去了村子后面的小山坡他指着一颗树树是他年轻的时候重下的这颗树现在已经非常高我摸着这个出干粗糙的外皮听爷爷想出他年轻的时候故事那时候他就在田间牢座还有和我的奶奶认识到美好回忆以及他们是如何把我的父亲养大的这些故事就是把我带回了那个遥远的时候虽然我的村子里面只带了三天但这些日子给我留下了深刻的印象我觉得我就是更加的了解了爷爷也总更加了解父母成长的背景离开的时候也把他的一块真藏的表送给我说这是我们家族的传承物希望我能好好保管\n",
      "File saved to: data/processed/text_feature/whisper_base/00058.txt\n",
      "Processing: 00059.wav (Language: Chinese)\n"
     ]
    },
    {
     "name": "stderr",
     "output_type": "stream",
     "text": [
      "/Users/shuyao/Code/in_class/ML_mini_proj/ML_mini_proj/.venv/lib/python3.12/site-packages/whisper/transcribe.py:126: UserWarning: FP16 is not supported on CPU; using FP32 instead\n",
      "  warnings.warn(\"FP16 is not supported on CPU; using FP32 instead\")\n",
      "Processing Audio Files:  59%|█████▉    | 59/100 [04:33<03:36,  5.27s/it]"
     ]
    },
    {
     "name": "stdout",
     "output_type": "stream",
     "text": [
      "Result: 在初三的属價我終於實現了自己的心願,去了日本旅行這四旅行讓我真實到了一個旗線帶用充滿傳統文化,旗席的國家每一天都讓我感到興奮和滿足第一天我來到800的環程的時候這個地方總是在我的計劃心甘中當我進入延遲的哈克里波特訓室,整個人都激動得快跳起來另一種紅衛撞翻的過德國自尋寶,此刻真真實實的處理在我眼前那種感覺僅僅是難以置信我走在小路上,彷彿真的進入了我把世界連周圍的空氣都好像變得有磨力接著我去了小黃人池,這裡有一個非常有趣的VR體驗項目在遊玩過程中,我覺得自己好像在天上分享穿梭與各種場景之中,實際上我只是坐在原地這個項目讓我充分感受到了科技的美影,激惕顯又好玩晚上我非常幸運地感受了一場花古大會音花在夜空中站訪,古光時色但隨著打燒花火,這首音樂整個夜晚的房子都被抵量了音花的美麗讓我歌聲感慨,這一刻的景色將永遠因刻載我的記憶中第二天我帶到了那兩公園,這是一個助理的景點人池裡有許多小路,他們完全不怕人的城市古力主中靠近你我買了一些路線被圍他們這些可愛的小家路為重要,溫柔地看著手中的食物我為了這些動物,凝聚一尖手讓我感受到人力自然的核心,別讓我這一天充滿了溫柔之後我去路復時山,在通往山角的路上我們經過了著名的永樂公路車輪念國路面時,竟然真的走向一手美鳥的玄瑞這種奇妙的設計讓我大開眼界在復時山角下,我拍了一張羅森麵麗店與復時山橫框的照片這是這趟旅行中特別有紀念意義的一刻第三天我採管了大阪城公園,感受到了歷史的厚重感還去了一趟天皇居住的空點最後一天我來到橫冰中華城看到中國的傳統文化,在日本也受到熱點翻譯心中滿是自豪和感動這趟日本之餘讓我受過了十多美好的回憶也讓我更加期待,下一次的微信我希望有機會再次一次繼續探索美麗的活動\n",
      "File saved to: data/processed/text_feature/whisper_base/00059.txt\n",
      "Processing: 00060.wav (Language: English)\n"
     ]
    },
    {
     "name": "stderr",
     "output_type": "stream",
     "text": [
      "/Users/shuyao/Code/in_class/ML_mini_proj/ML_mini_proj/.venv/lib/python3.12/site-packages/whisper/transcribe.py:126: UserWarning: FP16 is not supported on CPU; using FP32 instead\n",
      "  warnings.warn(\"FP16 is not supported on CPU; using FP32 instead\")\n",
      "Processing Audio Files:  60%|██████    | 60/100 [04:38<03:21,  5.03s/it]"
     ]
    },
    {
     "name": "stdout",
     "output_type": "stream",
     "text": [
      "Result:  In 2022, I met him at Grigrand Father for the first time. He lived in a small, quiet village, surrounded by green hills and fields. Despite being over an IT-year-old, he was still remarkably sharp and full of energy. I had heard many stories about him from my family, but meeting him in person felt like a connection to a new chapter of my heritage. As we said, he has living room. Drinking tea he had prepared. I asked him about my grandfather's childhood. His face lit up with a wolf's mouth as he began to recall the past. Your grandfather was a naughty boy, he said. Drinking tea. But he had a heart of gold. I remember one time when he was about seven years old. He tried to help me plunge rice in the field. Instead of planting the seedlings in the right place, he scattered them all over the place. When I asked him what he was doing, he told me he wanted the rice plants to be free to grow wherever they liked. We both laughed at the photo of my young grandfather running around the field. Completely unaware of the chores he was causing. My grief grandfather then told me about the time when my grandfather sipped a small dog. He found a share of a ring in the ring one day and brought it home, hiding it in his room because he thought I wouldn't let him keep it. When I discovered it, he begged me to let a dog stay, promising he would take care of it. I couldn't say no to his determination. During these stories, I killed as though I was meeting a different person of my grandfather. One boy who was playful, can't and full of dream. My great grandfather's eyes sparked as he spoke, his voice carrying the weight of love and pride. That day, I learned so much more than just a few stories. I gained a different understanding of my family's values and history. It was a video that left lasting impression on my heart. And I promised myself to cherish the story and wisdom passed down through generations.\n",
      "File saved to: data/processed/text_feature/whisper_base/00060.txt\n",
      "Processing: 00061.wav (Language: English)\n"
     ]
    },
    {
     "name": "stderr",
     "output_type": "stream",
     "text": [
      "/Users/shuyao/Code/in_class/ML_mini_proj/ML_mini_proj/.venv/lib/python3.12/site-packages/whisper/transcribe.py:126: UserWarning: FP16 is not supported on CPU; using FP32 instead\n",
      "  warnings.warn(\"FP16 is not supported on CPU; using FP32 instead\")\n",
      "Processing Audio Files:  61%|██████    | 61/100 [04:42<03:09,  4.86s/it]"
     ]
    },
    {
     "name": "stdout",
     "output_type": "stream",
     "text": [
      "Result:  I have to visit my childhood home for the last time before it was so. The house which has always been a place of comfort and memories. Now empty. As I walked through the room, it seems to be too equal with the laughter and the events that had shaped my life. I stood in the living, remembering the family dinners and gardens that once felt it with warmth. The familiar stimuli of old furniture and the creaking of the floor, every scene rushing back. The hardest part was going into my old bedroom. It looks too different now. And the of all the things I had felt it was over the years. I walked through the wooden floor where I had covered my name with the small knife. I hadn't thought about it in years. And as I run my finger over the grooves, I felt a deep dance of no skill. It was like a thing put by the heart of myself. After work, I went out to the garden. It was there I spent countless hours playing as a child. And I couldn't live without taking something with me. I picked up a small rock from the ground, a sink or a chair. But it felt like taking a piece of the place with me. I split it into my pockets, knowing it would remind me of the house when I got no longer written. It was a deeply emotional day as I locked the door behind me for the last time. I realized it was closing the chapter on an important part of my life. The house had shared two hours, and leaving it felt like leaving behind a piece of my childhood. It wasn't just a house, but it was the memory. The people and the mountains that had made it home. I think it was better that I had imagined, but I know it was time to let go.\n",
      "File saved to: data/processed/text_feature/whisper_base/00061.txt\n",
      "Processing: 00062.wav (Language: Chinese)\n"
     ]
    },
    {
     "name": "stderr",
     "output_type": "stream",
     "text": [
      "/Users/shuyao/Code/in_class/ML_mini_proj/ML_mini_proj/.venv/lib/python3.12/site-packages/whisper/transcribe.py:126: UserWarning: FP16 is not supported on CPU; using FP32 instead\n",
      "  warnings.warn(\"FP16 is not supported on CPU; using FP32 instead\")\n",
      "Processing Audio Files:  62%|██████▏   | 62/100 [04:46<02:56,  4.63s/it]"
     ]
    },
    {
     "name": "stdout",
     "output_type": "stream",
     "text": [
      "Result: 在去年10月的時候,我接到了公司的一個要求,讓我去行舟出差這次出差非常的順利,所以我的工作提前完成了讓我有了一個自由支配的下午所以我零視決定自己一個人去西湖一邊走走欣賞一下行舟,著名的經典,和秋季的風光在那裡,我碰到一位正在拍照的老爺爺舉著一個很大的單反相機,對著西湖拍來拍去後面,他似乎有點體力不知於是,請問我,他是否能夠阻擋我的幫助所以我幫助他完成了最後一組照片的拍攝我們聊了一混天,得知他是本地退休的王修復專家所以他主動帶我去參觀了一些有課不常去的角落給我講解這些不知名的角落,所以隱藏的歷史的痕跡隱藏的歷史的故事他跟我分享了非常非常多關於西湖的點故在段桥邊,我們一起看到了最美的日落最後,我們一起去接避的小攤上和一杯經典的龍警察最後,大家交換的聯繫方式經過這次旅行,我了解了杭州一些過去的不為人知的故事從另一個角度,見證了杭州這樣一個古老而美麗的城市也算是與杭州與西湖,一次驚喜不氣而語但又美好的令人懷孕的戒後吧\n",
      "File saved to: data/processed/text_feature/whisper_base/00062.txt\n",
      "Processing: 00063.wav (Language: Chinese)\n"
     ]
    },
    {
     "name": "stderr",
     "output_type": "stream",
     "text": [
      "/Users/shuyao/Code/in_class/ML_mini_proj/ML_mini_proj/.venv/lib/python3.12/site-packages/whisper/transcribe.py:126: UserWarning: FP16 is not supported on CPU; using FP32 instead\n",
      "  warnings.warn(\"FP16 is not supported on CPU; using FP32 instead\")\n",
      "Processing Audio Files:  63%|██████▎   | 63/100 [04:52<03:03,  4.95s/it]"
     ]
    },
    {
     "name": "stdout",
     "output_type": "stream",
     "text": [
      "Result: 小学四年级的时候我和我的妈妈还有她的一个好朋友一起去排了泰山当时我很小但是因为我不知道泰山有多高以及路上会遇到什么样的困难所以我还是跟着去了但是如果放到森栽的话我大概就不会选择去排山了因为泰山对我来说真的有点太累了反正那个时候我演着观演到山路前行我真的是累得器船续续续的但是他们所有人都一直在说在排一条段就到点了反正就一直被骗着就爬了上去然后爬这的时候路边那些卖眼料卖烤肠其实我记不清还有没有烤肠了反正就是卖一些吃的都很贵所以我们当时好像还是自己背了一些水这就更累了不过排泰山比较有意思的是路上的那些风景还不错从高处往下看一大片全都是旅游游的真的会让人心情变得很好不过还有一点就是从高处往下看的时候我印象特别深的是有一小段它那个台阶实在是有点太抖了我当时还挺害怕的反正我约得是直接坐在了那个台阶上我是往后靠着坐着的因为我很害怕掉下去不过总体来说我们当时爬到顶的时候已经是晚上了我们还买了很厚的那种免衣不过我觉得它很脏当时好像还稍微住了一晚上吧准备转天早上起来看日出我就记得那个时候特别特别冷而且日出其实好像也没有看到印象里好像全都是被云给挡住了不过总体来说还是挺有意思的撒山的时候就没有那么累了但是撒山会有一点害怕真的很害怕掉下去反正一路说说笑笑的最后台阵也是全都爬下来了\n",
      "File saved to: data/processed/text_feature/whisper_base/00063.txt\n",
      "Processing: 00064.wav (Language: English)\n"
     ]
    },
    {
     "name": "stderr",
     "output_type": "stream",
     "text": [
      "/Users/shuyao/Code/in_class/ML_mini_proj/ML_mini_proj/.venv/lib/python3.12/site-packages/whisper/transcribe.py:126: UserWarning: FP16 is not supported on CPU; using FP32 instead\n",
      "  warnings.warn(\"FP16 is not supported on CPU; using FP32 instead\")\n",
      "Processing Audio Files:  64%|██████▍   | 64/100 [04:56<02:48,  4.68s/it]"
     ]
    },
    {
     "name": "stdout",
     "output_type": "stream",
     "text": [
      "Result:  In the summer of early mid-June, I had the operational to visit San Francisco, a city known from its culture and the Sonny National Building. It was my first time in California and I was eager to explore everything the city had to offer. I arrived in San Francisco on a sunny morning and the first thing that struck me was an unearthly, clouded gate bird, touring over the bed with an orange color. I decided to start my trip by taking a walk across the bridge. The wind has a breeze, but the view was breathtaking. As I worked, I could see the view of the crossing against the plain of the bridge and the city-scale, sky-skidline, sketching all behind me. After crossing the bridge, I made my way to free-fishing my work from one of the most popular tourist spots in the city. The air was flushing with activity, building with streets, performers, visitors, building fresh seafood and tourists from all over the world. I spotted an entire restaurant called Flo Long. The moon was full of traditional dishes and I decided to try the homemade pizza with a side of garlic bread. The food was delicious and the warm, inviting an automoscow of the restaurant made me feel right at home. Wang Wuze. The journey to Stunfro City is not only along me to express the city rich history and diverse culture, but also give me a deeper impression from the beauty and the warmth of the people I made along the way. Despite the spot during my visit, it left an inside-blank mark on my heart and I look forward to the day when I can return and explore more of the city.\n",
      "File saved to: data/processed/text_feature/whisper_base/00064.txt\n",
      "Processing: 00065.wav (Language: English)\n"
     ]
    },
    {
     "name": "stderr",
     "output_type": "stream",
     "text": [
      "/Users/shuyao/Code/in_class/ML_mini_proj/ML_mini_proj/.venv/lib/python3.12/site-packages/whisper/transcribe.py:126: UserWarning: FP16 is not supported on CPU; using FP32 instead\n",
      "  warnings.warn(\"FP16 is not supported on CPU; using FP32 instead\")\n",
      "Processing Audio Files:  65%|██████▌   | 65/100 [05:00<02:40,  4.59s/it]"
     ]
    },
    {
     "name": "stdout",
     "output_type": "stream",
     "text": [
      "Result:  Last summer, I visited a small island with my friends and it turned out to be one of the most exciting trips I've ever had. The island was known for its crystal clear waters and vibrant coral reefs. But what exactly called our attention was the cliff jumping spots and locals recommended and always be a little free of highs. But my friends, in this city, it will be an unforgettable experience. We arrived, this place was even more stunning than I had imagined. The cliff rose high above the tour water. I could even see those small boats up in the distance. The air was warm and the sound of waves crashing against rocks added to the excitement. A group of locals were already there, you know. Cheery and diving gracefully into the sea below. At first, I had it. Standing at the age of the cliff, I felt my legs forsaken, you know. The high looked much greater than I had imagined. And the sound of jumping was terrifying. But my friends encouraged me, telling me that I'd regret if I didn't try. One of them even went first, yelling with joy as they splashed into the water. Their excitement was so crazy, you know. And I finally decided to go for it. I closed my eyes and took a deep risk that I jumped. The moment I felt at age, my fear turned to pure sighting. The wind rushed across me and for few seconds, it felt like I was flying. When it watered, it was cold and refreshing. And I surfaced to the sound of cheers from my friends. I couldn't stop laughing. I feel so alive, so free. And after that first job, I couldn't get enough. We spent the rest of the time taking turns diving into a water and exploring the nearby local roofs. By the time the sun began to shine, the cliffs were better in golden light. And we all agreed. It was one of the most best days of our lives ever.\n",
      "File saved to: data/processed/text_feature/whisper_base/00065.txt\n",
      "Processing: 00066.wav (Language: Chinese)\n"
     ]
    },
    {
     "name": "stderr",
     "output_type": "stream",
     "text": [
      "/Users/shuyao/Code/in_class/ML_mini_proj/ML_mini_proj/.venv/lib/python3.12/site-packages/whisper/transcribe.py:126: UserWarning: FP16 is not supported on CPU; using FP32 instead\n",
      "  warnings.warn(\"FP16 is not supported on CPU; using FP32 instead\")\n",
      "Processing Audio Files:  66%|██████▌   | 66/100 [05:07<02:56,  5.18s/it]"
     ]
    },
    {
     "name": "stdout",
     "output_type": "stream",
     "text": [
      "Result: 上个架期我去了塞班导旅游那确实是一个让人流联网反的地方为了这次塞班导之前我们提前做了不少功课在塞班导的活动非常丰富最新我的就是潜水和聪明探险第一天我们来到了军舰导我报名参加了一个浮浅之旅首先我们做快艇抵达到岛上换上了浮浅设备跟着潜水教练一起潜入了水中水下的世界真是让人暂摊不已各种塞班导的雨在山湖寵中穿梭导游还特地带我们去了一个海规级的地方看到海规在水中优雅的游动这些都是我从来没见过的场景接下来的一天我去了聪明探险塞班导的热带雨林充满了神秘感我和领头人选择了一条蓝洞的路线这条路线穿过冒灭的森林一路上能看到许多当地特有的植物和鳥类在这条路线前进的时候我们站在先亚边浮看能看到海水冲击掩饰特形成的天然动学蓝色的海水在阳光下闪着迷人的光芒熟失让人惊态在塞班导不能错过的还有他的美食导上有许多融合了当地的美国风位的料理我特别喜欢当地的椰子线餐厅的老板还叫我们如何正确的吃这种大型的螃蟹螃蟹泄肉鲜嫩多纸配上当地特色的占料味道别有一番风味在最后一天我还体验了塞班导著名的日落来到导上的最高点扭倒观景台等待着太阳细神坐在旋亚边看着太阳慢慢落入海平线心中充满了寧静和满足这次塞班导势力让我领略到了大自然的规律和丰富的文化体验我离开它时真有些不舍希望我还有机会再次来到这个美丽的导语\n",
      "File saved to: data/processed/text_feature/whisper_base/00066.txt\n",
      "Processing: 00067.wav (Language: Chinese)\n"
     ]
    },
    {
     "name": "stderr",
     "output_type": "stream",
     "text": [
      "/Users/shuyao/Code/in_class/ML_mini_proj/ML_mini_proj/.venv/lib/python3.12/site-packages/whisper/transcribe.py:126: UserWarning: FP16 is not supported on CPU; using FP32 instead\n",
      "  warnings.warn(\"FP16 is not supported on CPU; using FP32 instead\")\n",
      "Processing Audio Files:  67%|██████▋   | 67/100 [05:13<03:01,  5.50s/it]"
     ]
    },
    {
     "name": "stdout",
     "output_type": "stream",
     "text": [
      "Result: 那是一个阳光明媚的周步我决定去白坊我的好朋友李明他住在城社另一段是一个我很少去的地方我们已经有好几个月没有见面了所以这次白坊对我来说意义重大我提前一天就规划好了路线却我不会做过任何重要的交通信息清晨我创伤了最喜欢的狼色称山戴上了一些自治的饼干作为礼物这都是李明最喜欢的出门前我还特意检查的天气铭却把不会遇到突出起来的暴雨乘坐地铁我窗搜在城社卖裸种而便是车箱里人们的低雨和列车的轰明声我的心情激行更有景章前面着我们重分的场景地铁穿过随道阳光透过窗户撒在我的脸上我懦舌是终于我倒的目击地我走过地铁站以前是一条彎延的小路两盘中满了雨匆匆的树木我沿着小路走去感受着微风浮过脸旁带来了远处花朵的香气我的心情也随日放松了下来李明呢加是一座温馨的小别墅门前有一个小小花园里面重担它精心照亮花朵我按下了明明零不久我们就开了李明呢小时候应有一眼脸我们用忘了一下它接过我手中饼干延伸感谢我们坐在客厅的沙发上了起了各自的进矿李明告诉我他最近开始学习愿意还有我展示了他心中的几株植物我都分享了工作室和学习上的一些趋势和调整我们的话题条约从过去的回忆到未来的规划时间反复在这一刻停止五消时我们平常呢李明亲手做了一面条搭配我带了饼干我为了出乎一点的好五后我们一起在花园林桑步讨论着各种植物的生长习性习下午告别的李明踏上了回家的路虽然身体有些匹白但心里却是慢慢地温暖和满足这次办法不禁让我成功了就是了有请也让我体验了一次与怪的城市谈现再回到地铁上我已经开始期待下次的相遇\n",
      "File saved to: data/processed/text_feature/whisper_base/00067.txt\n",
      "Processing: 00068.wav (Language: Chinese)\n"
     ]
    },
    {
     "name": "stderr",
     "output_type": "stream",
     "text": [
      "/Users/shuyao/Code/in_class/ML_mini_proj/ML_mini_proj/.venv/lib/python3.12/site-packages/whisper/transcribe.py:126: UserWarning: FP16 is not supported on CPU; using FP32 instead\n",
      "  warnings.warn(\"FP16 is not supported on CPU; using FP32 instead\")\n",
      "Processing Audio Files:  68%|██████▊   | 68/100 [05:20<03:08,  5.89s/it]"
     ]
    },
    {
     "name": "stdout",
     "output_type": "stream",
     "text": [
      "Result: 上学期我们学校就是北京山大学举办了校长卑足学比赛这是一个怨对之间的比赛我作为北京涌电大学国际学院的怨对对长我带领球队一路国官展讲获得了冠军其中最让我印象深刻的一场比赛是绝散比赛刚刚开始我们就由于防柔失务我先被对面进了一个后来又因为对面有一个感觉他是传球但是他失务了一角就掉向球门那个球是直上直下然后门降也就判断失务然后没有判断青球的距离也就落到球门里面就开场二分钟我们就对我两颗球大家就试弃不较低沉我作为队长我就大喊着鼓励队友让他们计辑一些就告诉他们这没有什么事咱们实力比他们强不用害怕所以在上半场快结束的时候然后我们获得了一个脚球我发出的脚球直接转向的球虽然也有一些运气原因但是转向球门然后我们上半场以二比一的结束二比一的比一分结束上半场然后到了下半场我们就越占越勇因为我们整体实力更强然后加上我们追回来一颗球就像当日吹起了反击的号角我们下半场先是对面的一次犯规我们获得点球点球打进然后之后又在一次混战中我们的传终然后造了对面一个乌龙球加上最后我又在边路连过两人然后内切设门打入私角就是肺肥非常非常激动虽然已经过去了半年但是我想起来现在想起来依然发生在昨天地上在抹最终我们是四比二的比分战胜的对手然后获得了校长辈的冠军这也是我除了高中班塞冠军一般的第二冠军然后同样的也是那个对长的身份我感觉我非常非常开心然后这次全程参与到了比赛并且被球队做出了非常非常大的贡献然后我们国院也展现出了非常团结的一面我们就战胜了其他对一路批击经战机过关战价然后没有输一场比赛以全胜的战机获得了冠军\n",
      "File saved to: data/processed/text_feature/whisper_base/00068.txt\n",
      "Processing: 00069.wav (Language: English)\n"
     ]
    },
    {
     "name": "stderr",
     "output_type": "stream",
     "text": [
      "/Users/shuyao/Code/in_class/ML_mini_proj/ML_mini_proj/.venv/lib/python3.12/site-packages/whisper/transcribe.py:126: UserWarning: FP16 is not supported on CPU; using FP32 instead\n",
      "  warnings.warn(\"FP16 is not supported on CPU; using FP32 instead\")\n",
      "Processing Audio Files:  69%|██████▉   | 69/100 [05:24<02:45,  5.33s/it]"
     ]
    },
    {
     "name": "stdout",
     "output_type": "stream",
     "text": [
      "Result:  As I stepped into the old bookshop, the scent of age paper and leather beauty, enveloped me like a wormhug. I have visited this place countless times as a child, often dragging my mother alone, lost in the world of stories. That I was returning alone, searching for a piece of my past. The shopkeeper, Mr. Wong, was still there. His silver hair and gentle smile unchanged. He looked up from behind the counter. His eyes lighting up. Ah, I remember you. He used to come here with her mother, always looking for the ventures stories. I knelted, a wave just floating over me. I'm looking for something special today, I said. My voice trembled slightly, something to remind me about her. Mr. Wong's expression softened. He guided me to the corner filled with forgotten tales, as we browsed. He shared stories about each book's journey. I felt with joy, remembering my mother's laughter, as he reaped to me in his very shop. Finally, I found it, worn and copy of the adventure of Tom Sawyer. It was the last book she reaped to me before she passed away. Here's Bream, dear my eyes, as I held it to close, as I held it close. Thank you, Mr. Wong, I whispered. His mild no-way, books have a way of keeping memories alive. As I left, the weight of sadness lives it slightly, replaced by the worms of cherished memories. I knew I would return carrying part of her with me.\n",
      "File saved to: data/processed/text_feature/whisper_base/00069.txt\n",
      "Processing: 00070.wav (Language: English)\n"
     ]
    },
    {
     "name": "stderr",
     "output_type": "stream",
     "text": [
      "/Users/shuyao/Code/in_class/ML_mini_proj/ML_mini_proj/.venv/lib/python3.12/site-packages/whisper/transcribe.py:126: UserWarning: FP16 is not supported on CPU; using FP32 instead\n",
      "  warnings.warn(\"FP16 is not supported on CPU; using FP32 instead\")\n",
      "Processing Audio Files:  70%|███████   | 70/100 [05:27<02:23,  4.77s/it]"
     ]
    },
    {
     "name": "stdout",
     "output_type": "stream",
     "text": [
      "Result:  Back in 2021, my family and I went to San Yang. As soon as I arrived at the hotel, I couldn't wait to rush to the seaside. Because our hotel was beside the beach, so I can quickly run to the seaside in my swimming tracks. Looking at the spalking sea, I couldn't help shouting. I'm coming. With excitement, I jumped into the water, feeling the cool sea water and basing in the sunshad. My stress was reduced instantly. After swimming in the sea for a while, I saw someone playing sea motor near me, watching them drive me one by one on the sea. And it drives my interest. With the nervous and excited feeling, I caught on the jet. On the gardens of the stars, after several attempts, I quietly went from the red sun and skills. Then I started to light myself up and drove at full speed on the sea. When I was having a good time, I accidentally turned the motor and fell into the sea. The cold water woke me up. And on the gardens of my coach, I drove slowly back to the shore. But this later accident didn't affect my happy mood at all. I was really happy during this trip to Sanya. And I want to back to Sanya more often.\n",
      "File saved to: data/processed/text_feature/whisper_base/00070.txt\n",
      "Processing: 00071.wav (Language: English)\n"
     ]
    },
    {
     "name": "stderr",
     "output_type": "stream",
     "text": [
      "/Users/shuyao/Code/in_class/ML_mini_proj/ML_mini_proj/.venv/lib/python3.12/site-packages/whisper/transcribe.py:126: UserWarning: FP16 is not supported on CPU; using FP32 instead\n",
      "  warnings.warn(\"FP16 is not supported on CPU; using FP32 instead\")\n",
      "Processing Audio Files:  71%|███████   | 71/100 [05:32<02:14,  4.64s/it]"
     ]
    },
    {
     "name": "stdout",
     "output_type": "stream",
     "text": [
      "Result:  In 2017, I visited Paris. It was a city I always wanted to see. I arrived earlier in the morning and the airport. And when I went straight to my hometown near Péphétal, I was so excited that I decided to start exploring right away. The first place I went to was the airport. It was still morning. So there were not too many people. I took my time to look at the sun. From the ground before taking the elevator up, where I reached the top. The view was amazing. I could see the hosé with the scenery and all the busy streets. I stayed here for a long time throughout the lunar night. I was feeling so happy to be in Paris. The sun was shining and it felt like a dream come true. After visiting the address I walked to the Duan Museum. The museum is huge and I knew I would not be able to see everything in one day. So I chose a few famous pieces to see. The Mona Lisa was much smaller than I expected. But I was still so special to see it in real life. I also loved the winter victory and other things. Walking through the museum felt like I was traveling back in time. Sounded by so many people from all over the scene.\n",
      "File saved to: data/processed/text_feature/whisper_base/00071.txt\n",
      "Processing: 00072.wav (Language: English)\n"
     ]
    },
    {
     "name": "stderr",
     "output_type": "stream",
     "text": [
      "/Users/shuyao/Code/in_class/ML_mini_proj/ML_mini_proj/.venv/lib/python3.12/site-packages/whisper/transcribe.py:126: UserWarning: FP16 is not supported on CPU; using FP32 instead\n",
      "  warnings.warn(\"FP16 is not supported on CPU; using FP32 instead\")\n",
      "Processing Audio Files:  72%|███████▏  | 72/100 [05:36<02:06,  4.51s/it]"
     ]
    },
    {
     "name": "stdout",
     "output_type": "stream",
     "text": [
      "Result:  It was a time back to 2014. It has been years since we came together with my family. We go to a reunion as to Lakeside Cabin. And then I remember the lake was surrounded by towering pines. We have been years to reunions together. I fell and made sure of joy and anxiety in the air. But we still connected as we once did. As the sun dipped by the horizon, casting the golden hue of the lake, we share stories and memories around the fire. My cousin Sarah, always the joke teller, had everyone in the sitch with her impressions. I felt the worms of the lowing wash over me, laughter echoing into the night. Yet I missed the drawer and noticed my uncle sitting quietly on the edge of the dark, staring into the water. He had lost his wife a year ago. Though she smiled at times, the sadness in his eyes was palpable. I felt a pound of sorrow for him, knowing how difficult it was to navigate leaves of grief. Gathering my courage, I walked over and said behind him, hey Uncle Tom, want to talk? I asked gently, he looked at me, surprised, flicking in his eyes. We spoke about Sunday May, sharing stories that made us smile and cry. In that moment I felt a connection deeper, the annual laughter shared around life. Loving loss. As a reminder, the family bounce, cahill if the most profound want.\n",
      "File saved to: data/processed/text_feature/whisper_base/00072.txt\n",
      "Processing: 00073.wav (Language: English)\n"
     ]
    },
    {
     "name": "stderr",
     "output_type": "stream",
     "text": [
      "/Users/shuyao/Code/in_class/ML_mini_proj/ML_mini_proj/.venv/lib/python3.12/site-packages/whisper/transcribe.py:126: UserWarning: FP16 is not supported on CPU; using FP32 instead\n",
      "  warnings.warn(\"FP16 is not supported on CPU; using FP32 instead\")\n",
      "Processing Audio Files:  73%|███████▎  | 73/100 [05:43<02:21,  5.24s/it]"
     ]
    },
    {
     "name": "stdout",
     "output_type": "stream",
     "text": [
      "Result:  As the autumn leaves began to turn golden and crisp, I found myself filled with a sudden urge to revisit my past. It has been years since I had graduated from elementary school, but the memories of my teacher and classmates still linered warmly in my heart. On them, Mrs. Don, my first great teacher, held a special place. She was not just a teacher, she was a monitor, a guide and a friend. Her patience and kindness had natured my love for learning and shaped my character. With each passing day in college, I realized more and more how much she had influenced me. And sunny afternoon, I decided to take a trip back to my old elementary school. The familiar gaze and playground greeted me with a sense of noise clear. Walking down the corridor, I could almost hear the echoes of my childhood laughter and the sound of me stones. Gentle voice guiding us through lessons. When I reached her classroom, I hesitated for a moment, wondering if she would remember me, taking a deep breath and knocked on the door. To my delight, Mrs. Don's face leaped up with recognition and warmth as she opened it. Oh, as you, she exclaimed, her eyes twinkling with strife. How have you been? Come in, come in. We sat down in a classroom surrounded by the same desk and chairs that had once held our young four dreams. Mrs. Don asked me about my college life, my major and my future plans. I shared with her of my experience, my achievements and even my struggles. She listened intently, offering words of wisdom and encouragement as always. As we talked, I noticed how little she had had changed. Her smile was still as bright, her eyes still as kind, and her passion for teaching still as brownie. It was as if time has stood still in her classroom, persevering the warmth and love that she had always gave us. Before I left, Mrs. Don handed me a small book filled with notes and messages she had written for me. This is for you, she said softly. Remember, no matter where you are, or where you are, always stay true to yourself and keep pushing your dreams. Well, it really impressed me a lot, and that's my story.\n",
      "File saved to: data/processed/text_feature/whisper_base/00073.txt\n",
      "Processing: 00074.wav (Language: English)\n"
     ]
    },
    {
     "name": "stderr",
     "output_type": "stream",
     "text": [
      "/Users/shuyao/Code/in_class/ML_mini_proj/ML_mini_proj/.venv/lib/python3.12/site-packages/whisper/transcribe.py:126: UserWarning: FP16 is not supported on CPU; using FP32 instead\n",
      "  warnings.warn(\"FP16 is not supported on CPU; using FP32 instead\")\n",
      "Processing Audio Files:  74%|███████▍  | 74/100 [05:48<02:11,  5.06s/it]"
     ]
    },
    {
     "name": "stdout",
     "output_type": "stream",
     "text": [
      "Result:  Not a summer, I visited in my cousin who left near the beach. It was well of the best locations I have ever had. My cousin's horse is in a small town by the sea. Very great and peaceful. When I arrived, the first scene I noticed was the fresh sea and the sounds of the waves. My cousin was waiting for me and this plans afternoon, catching up. The horse was cosy. We used lots of plants and big windows. Very well could see the ocean every morning. We woke up early and woke up and walked along the beach as I said. The beach was almost empty and it feels like it was stressful for us. The sand was cool under our feet and the waves touched our tons as we walked. Sometimes we would pick up seashells and allow the scene to see different colors and shapes. It was such a simple thing to do but it made me feel really happy and relaxed one day. We returned to small boat and went out to see my cousin, new hull to sail and I just enjoyed sitting here, watching the water and feeling the wind. Sadly the salt of this there were a few of them swimming north far from our boat. They jumped out of the water and I had never seen dolphins in real life before and it was amazing to see them up close. It feels like something you only see on TV but it was happening right in front of us.\n",
      "File saved to: data/processed/text_feature/whisper_base/00074.txt\n",
      "Processing: 00075.wav (Language: Chinese)\n"
     ]
    },
    {
     "name": "stderr",
     "output_type": "stream",
     "text": [
      "/Users/shuyao/Code/in_class/ML_mini_proj/ML_mini_proj/.venv/lib/python3.12/site-packages/whisper/transcribe.py:126: UserWarning: FP16 is not supported on CPU; using FP32 instead\n",
      "  warnings.warn(\"FP16 is not supported on CPU; using FP32 instead\")\n",
      "Processing Audio Files:  75%|███████▌  | 75/100 [05:54<02:15,  5.42s/it]"
     ]
    },
    {
     "name": "stdout",
     "output_type": "stream",
     "text": [
      "Result: 我回了趟老家在第一天我去了一个老爷家里做课在交团中都是老爷的毛米字写的特别好我一听听到这个消息我便宜产生了几大的兴趣老爷见我如此感兴趣便兴趣不过的领着我去他的书房里面参观我一进去便看到墙上有很多漂亮且灰火的自计挂在上面我被驾到张大的嘴并且不仅发出了感慨我也想写出这么好看的字老爷随即便拿出一张宣执写得起来指尖他气舒如虎下笔十分果断千无任务在哈哈大笑自存之后便写出了几个字了我仔细一看发现有张没写着学乌指尽四个大字这是老爷便与公新长的对我说到孩子人生路上学乌指尽你应该在生活的各个方面包括对于知识的获取个人希望的提升等等等等都应该始终保持着迁讯后学的态度不能交自满应该持续的去追求更多的知识和更高的境界就像我写毛笔字一样我每天多写一幅画都会对我带来多一种的感觉永远都会有新的东西等待你去学习会发现我现在如今能写成这么优秀的字体离不开我一天天的学习直到现在我人在不断学习不断进步说吧老爷便把那幅字送给了我这件事也让我感触十分深刻也让我下定了决心好好学习天天向上\n",
      "File saved to: data/processed/text_feature/whisper_base/00075.txt\n",
      "Processing: 00076.wav (Language: English)\n"
     ]
    },
    {
     "name": "stderr",
     "output_type": "stream",
     "text": [
      "/Users/shuyao/Code/in_class/ML_mini_proj/ML_mini_proj/.venv/lib/python3.12/site-packages/whisper/transcribe.py:126: UserWarning: FP16 is not supported on CPU; using FP32 instead\n",
      "  warnings.warn(\"FP16 is not supported on CPU; using FP32 instead\")\n",
      "Processing Audio Files:  76%|███████▌  | 76/100 [05:59<02:05,  5.23s/it]"
     ]
    },
    {
     "name": "stdout",
     "output_type": "stream",
     "text": [
      "Result:  to Iceland with a few fans. It was a trip. We had been planning since the beginning of the school year. We were also excited to finally experience the nature beauty of the UNIX country. We landed in... We landed earlier in the morning and even front plane. I could already see the incurable landscapes, mountains and other nice fields of rocks covered in most... On our second day, we drove off to a place called National Park. The trail was visiting here to a stretch of empty roads, means nothing but natural roads. We even stopped it as the fuel place took pictures of the waterfalls and the mountains in the distance. As we reached here, it was struck by a hallways and open walls. The park is near the Prince of North America and the western meet. It felt a special understanding between two councils. We spent the day hiking along the trails, talking in the beauty views of the lakes and rivers at one point. We had a small-pass, flat-bed, heated waterfalls. The water was crystal clear and it was a cool field. It was so peaceful. There was nowhere else around. It was a sound of water, water and the original tripping of birds. My friends and I sat here for a while, trusting joy in the pleasant beauty of the place. I remember singing a song where it was to find such a perfect sport. Your arms just seemed untouchable at times.\n",
      "File saved to: data/processed/text_feature/whisper_base/00076.txt\n",
      "Processing: 00077.wav (Language: English)\n"
     ]
    },
    {
     "name": "stderr",
     "output_type": "stream",
     "text": [
      "/Users/shuyao/Code/in_class/ML_mini_proj/ML_mini_proj/.venv/lib/python3.12/site-packages/whisper/transcribe.py:126: UserWarning: FP16 is not supported on CPU; using FP32 instead\n",
      "  warnings.warn(\"FP16 is not supported on CPU; using FP32 instead\")\n",
      "Processing Audio Files:  77%|███████▋  | 77/100 [06:03<01:51,  4.85s/it]"
     ]
    },
    {
     "name": "stdout",
     "output_type": "stream",
     "text": [
      "Result:  In May of this year, I went to a concert on my favorite idol. It was the first time I traveled alone to a foreign country just for a long awaited appointment. The decision was made in a hurry. I made up my mind only a month also before the concert and I had to prepare all the things for going abroad by myself. It was a stressful and anxiety-ridden process, but happiness I had been waiting for the staying me through it all. At concert, I met my idol, who I've loved for a long time, shining brightly on the stage, and fans who loved them as much as I do, waving their sports sticks and singing along with them. At this concert, I heard one of my favorite songs, which inspired me when I was lost. For the smile that browned with tears, the moment is the face again. Let's go now. When I was at concert, the vivid vitality of my favorite idols standing on the stage was contagious to me. I came running across the obstacles and the moment I saw them, all the hard work during the preparation dissipated, living only happiness. I don't regret this trip brought a lot because the brave enjoyed the world first. The music is a song that I've been singing for a long time. I've been singing for a long time. I've been singing for a long time. I've been singing for a long time. I've been singing for a long time. I've been singing for a long time. I've been singing for a long time. I've been singing for a long time.\n",
      "File saved to: data/processed/text_feature/whisper_base/00077.txt\n",
      "Processing: 00078.wav (Language: Chinese)\n"
     ]
    },
    {
     "name": "stderr",
     "output_type": "stream",
     "text": [
      "/Users/shuyao/Code/in_class/ML_mini_proj/ML_mini_proj/.venv/lib/python3.12/site-packages/whisper/transcribe.py:126: UserWarning: FP16 is not supported on CPU; using FP32 instead\n",
      "  warnings.warn(\"FP16 is not supported on CPU; using FP32 instead\")\n",
      "Processing Audio Files:  78%|███████▊  | 78/100 [06:10<02:06,  5.73s/it]"
     ]
    },
    {
     "name": "stdout",
     "output_type": "stream",
     "text": [
      "Result: 去年秋天在国星加级期间我去了航州埃房了一个多年位的朋友这次旅程对我来说非常特别因为航州是我一学想去还没有去的地方而这位航州而这位朋友是我的高中同学我们自动上大学我就各自忙碌在没有见面那天我一早坐上去航州的高铁车中乱停车从房话的城市如今变成清站地水一路上我充满期待到航州后朋友在车站接我我们见面的那一刻彼此都笑了房伏回到了高中时光他带我去了他推荐的条楼那是一条非常安静的步行街两旁是老舅的房屋和小商部他说这里保留了他在大学172年级是他最喜欢的地方之一我们在街边想先坐下和立法热乎的规划无分但有单单的铁每个规划相信然后感受到一种加分度我们慢慢坐在那里接着看着那些卖手工一边的小汤朋友给我讲述了他在这里两年在于自己发生的故事他说他没当难过时或有什么开心的事情都会来指摇不应接三星就完我看着那小龙房负也看到了他当时在这条街的样子想的时候我们去了西湖后边的流暑已经继续烦恶呼吹在阳光下的山说是监测的光芒我们除了一只小船蔓延为了滑到湖星我们也让风很轻但是单单的良益朋友还不了了很多过连他大学生活很幸运还好还有他对为了打算我们也了解了高中时停联地地那就要密集我又被有一处理由完整日从时间过很快夕阳进行吸神后面上被人让一片成熊色那天晚上我们的后边的小饭玩适这一份晚餐希望只能加上菜带我们一个老朋友的陪伴请能够来每一位饭后我们三不在后边看着远处的灯火当然在后面上像是无数的星星草都在水中我身心一口气肯定这一刻的应应还没好就要应该留在我记忆中\n",
      "File saved to: data/processed/text_feature/whisper_base/00078.txt\n",
      "Processing: 00079.wav (Language: English)\n"
     ]
    },
    {
     "name": "stderr",
     "output_type": "stream",
     "text": [
      "/Users/shuyao/Code/in_class/ML_mini_proj/ML_mini_proj/.venv/lib/python3.12/site-packages/whisper/transcribe.py:126: UserWarning: FP16 is not supported on CPU; using FP32 instead\n",
      "  warnings.warn(\"FP16 is not supported on CPU; using FP32 instead\")\n",
      "Processing Audio Files:  79%|███████▉  | 79/100 [06:13<01:42,  4.89s/it]"
     ]
    },
    {
     "name": "stdout",
     "output_type": "stream",
     "text": [
      "Result:  I traveled to Europe with my family this summer, living behind many hard-worn mysteries in the process. One night in Munich, my family and I had drinks at a royal court beer house. Because of the brewery reputation guests from all over the world, enjoyed drinking at the tables. It was the first time I drank a liter of beer in one night. And because I was spending time with my family, I dressed felt warm and happy. We enjoyed the local specialties of Munich, such as poor footnacos and white sausages. There were not only guests but also two local musicians and the atmosphere was very happy. I was chatting with my family about family matters but suddenly a familiar music came to my ears and that is the classic Chinese song, the one-rebular represents my heart. I was so excited to hear the so-called hometown sound in the foreign country. After my family and I quietly enjoyed the song, we will know that it was ordered by some colleagues who were having a party and another table. We raised our glasses in the air and offered each other good wishes. It was warm and a helmet moment that I will never forget.\n",
      "File saved to: data/processed/text_feature/whisper_base/00079.txt\n",
      "Processing: 00080.wav (Language: Chinese)\n"
     ]
    },
    {
     "name": "stderr",
     "output_type": "stream",
     "text": [
      "/Users/shuyao/Code/in_class/ML_mini_proj/ML_mini_proj/.venv/lib/python3.12/site-packages/whisper/transcribe.py:126: UserWarning: FP16 is not supported on CPU; using FP32 instead\n",
      "  warnings.warn(\"FP16 is not supported on CPU; using FP32 instead\")\n",
      "Processing Audio Files:  80%|████████  | 80/100 [06:19<01:41,  5.06s/it]"
     ]
    },
    {
     "name": "stdout",
     "output_type": "stream",
     "text": [
      "Result: 去年我听说了四川一个隐秘的村庄这个地方提供很少有诱惑到房完全被全山怀扰着在号机医区时下我下的决心和朋友一起去太所意凡当我们抵拿村庄的时候已经是半晚十分了这个村庄做了一篇莫迷的处理申处房屋都是用木材和清砖建成的看起来像是从古代保存下来一区村子里很少用电加下糊涂主要还是靠油灯来照明村里面对外来的游客就想改到十分好奇但他们都十分有善有几位村民一张情况到他们家用餐休息饭后老人开始讲述一个村庄的传说传说这个村庄层是一个隐世的气息力它有一种神积的能力可以用主帝召唤山间的动物据说这种迪生不停可以引来入河鸟还能够持续受伤的动物我对此感到是非常好奇没有人请求去看安安为隐身的处理老人带我到村后的一个小屋里面的确摆放着一只古老主理我小年一一的拿起筋尸摔了一下然而意想不到的事情发生了外面竟然传来的鸟儿和路的声音老人微笑着点点头说这就是这只体制的神积之数虽然我无法完全相信传说了真实性但那个夜晚的经历让我至今来一万怀但这体制放肤运藏着某种神秘的力量也成为我心中永远的你\n",
      "File saved to: data/processed/text_feature/whisper_base/00080.txt\n",
      "Processing: 00081.wav (Language: English)\n"
     ]
    },
    {
     "name": "stderr",
     "output_type": "stream",
     "text": [
      "/Users/shuyao/Code/in_class/ML_mini_proj/ML_mini_proj/.venv/lib/python3.12/site-packages/whisper/transcribe.py:126: UserWarning: FP16 is not supported on CPU; using FP32 instead\n",
      "  warnings.warn(\"FP16 is not supported on CPU; using FP32 instead\")\n",
      "Processing Audio Files:  81%|████████  | 81/100 [06:23<01:32,  4.85s/it]"
     ]
    },
    {
     "name": "stdout",
     "output_type": "stream",
     "text": [
      "Result:  in counting worms. It was a freezing winter day. The wind was blowing like a knife across my face. I had just experienced the major setback at work and my mood was extremely low. Working on the deserted street, I didn't know where I should go. When I passed by a coffee shop, the warm light there seemed to have an ease, an ease, an ease, a pleasant cable attraction and I couldn't help but working. The shop was filled with a rich aroma of coffee and smoothly music was flowing in the air. I found a corner and sat down ordering a cup of coffee trying to calm myself down. Just then a girl came over. She had long black hair and bright eyes with a warm smile on her face. Hello, may I sit here? She pointed to the seat opposite me. I was a bit surprised but still noted. After the girl sat down, we started chatting. Her voice was pretty gentle and her words were full of love of life and a positive attitude. She shared with me her travel experiences, the good books she had read and the interesting people she had met. In her narration, I seem to see a cultural world, a world without troubles and setbacks, only endless beauty and hope. Before I knew it, my mood had gradually improved. When we were about to leave, the girl handed me a piece of paper with a sentence written on it. There will always be tough times in life but please believe that something one for is all about to happen. I watched her working away and my heart was full of emotion. Since then, whenever I encountered difficulties and setbacks, I always think of that girl and her words. She is like a warm ray of sunlight in the past and ahead of me in my darkest moments. This chance encounter has become an unforgettable experience in my life. It has made me understand that even in the coldest winter, there will be warmth as long as we feel and discover our hearts. There is beauty everywhere in life.\n",
      "File saved to: data/processed/text_feature/whisper_base/00081.txt\n",
      "Processing: 00082.wav (Language: Chinese)\n"
     ]
    },
    {
     "name": "stderr",
     "output_type": "stream",
     "text": [
      "/Users/shuyao/Code/in_class/ML_mini_proj/ML_mini_proj/.venv/lib/python3.12/site-packages/whisper/transcribe.py:126: UserWarning: FP16 is not supported on CPU; using FP32 instead\n",
      "  warnings.warn(\"FP16 is not supported on CPU; using FP32 instead\")\n",
      "Processing Audio Files:  82%|████████▏ | 82/100 [06:29<01:32,  5.12s/it]"
     ]
    },
    {
     "name": "stdout",
     "output_type": "stream",
     "text": [
      "Result: 大二下半学期我去闪西西安拜访了我的高中同学,他就讀于长安大学,他学土木的,在中国,土木系统学是经常受条砍的,他也不例外,我经常条砍他的专业,他计划带我的工作习案,但后来我们的计划改变了,我们去了闪西省的另一个是保际室,因为我们考虑到了西安人太多,你们结家人太多了,所以我们就去了其他室,并且他已经是逛逆了,所以我们就一直军区一个新地方,保际室,我们从西安到保际来回买了赞票,主要是已经做卖光了,保际不会是18线小城市,同样规格的酒店在北京得贵好几倍,到然后应用眼脸的是荒凉,看到了正在建设中的马路和高楼,果然,这边的网页车十分不方便,特别难约,但是出租车又太贵了,于是我们做公交出去玩,公交车同样也是泼泼蓝蓝的,那时还是大大夏天天气非常烟热,车内连空调都不舍得开,维持的确的地方就是青统博物馆了,我们到青统博物馆的时候已经很累了,尽管青统博物馆看起来特别的红尾,但是我们已经没有经历去逛了,于是我们就找了个座位休息了一会儿,残关的心情都没了,最后我们走马光画的看来一遍,印象最深的只有他的那个像一个顶一样的外观,我们就回酒店了,我们一到酒店,根本就不想出去了,而且好久没有见面了,于是我们俩就在酒店里待两天,玩两天游戏,白天睡不觉睡到中午点个外卖,然后待了洗到心液,接他我们就去了个青统博物馆,最后离开的时候我们就去了一下热闹的夜市,想吃一些小吃米不一下遗憾,结果这边小吃同志画过于颜种,没有什么特色,拍了很久的烤猪体,结果味道很一般,只能用索然无味来形容,我们等了很久的米性也是,不加辣椒什么味道都没有,但是加辣后,辣椒后却只剩一点辣味了,这几内有完只能用一些许愿来形容,不过我也是为了拜访我的老朋友,总之还可以接受\n",
      "File saved to: data/processed/text_feature/whisper_base/00082.txt\n",
      "Processing: 00083.wav (Language: English)\n"
     ]
    },
    {
     "name": "stderr",
     "output_type": "stream",
     "text": [
      "/Users/shuyao/Code/in_class/ML_mini_proj/ML_mini_proj/.venv/lib/python3.12/site-packages/whisper/transcribe.py:126: UserWarning: FP16 is not supported on CPU; using FP32 instead\n",
      "  warnings.warn(\"FP16 is not supported on CPU; using FP32 instead\")\n",
      "Processing Audio Files:  83%|████████▎ | 83/100 [06:35<01:31,  5.41s/it]"
     ]
    },
    {
     "name": "stdout",
     "output_type": "stream",
     "text": [
      "Result:  When I went to the school, I went on a trip to Innan. It was supposed to be a very happy holiday. But after revisiting Shangri-La and returning to Kuming, my young brother suddenly developed an air infection. I really love the beautiful scenery of Innan, especially Shangri-La. We spent the first two days in there, and we visited the National Park, admired the clean water of lake, and even tried the local special food, Zempa. My brother and I both especially enjoyed the horseback riding, and the instructor carefully selected gentle horses for us. However, when we finished our stay in Shangri-La, and returned to Kuming, my brother began to feel severe pain in his air. At first, we thought it was just a common air discomfort, but soon he developed a favor and was insurping that he held his air even while sleeping night. We quickly took him to the nearest hospital. We were the doctor diagnosed him with acute, atatitis media, requiring immediate treatment. Our parents were very worried, and after observing my brother's condition for the day, without any significant improvement, we had to make a top decision to end the trip early and return home as soon as possible. Under the doctors' guidance, after applying several courses of ultimate, his condition gradually improved, though the trip didn't end as perfectly as we hoped. It made me realize that the health and happiness of my family are the most important thing. The doctor was very worried, and he was very worried. The doctor was very worried, and he was very worried, and he was very worried. The doctor was very worried, and he was very worried, and he was very worried, and he was very worried.\n",
      "File saved to: data/processed/text_feature/whisper_base/00083.txt\n",
      "Processing: 00084.wav (Language: English)\n"
     ]
    },
    {
     "name": "stderr",
     "output_type": "stream",
     "text": [
      "/Users/shuyao/Code/in_class/ML_mini_proj/ML_mini_proj/.venv/lib/python3.12/site-packages/whisper/transcribe.py:126: UserWarning: FP16 is not supported on CPU; using FP32 instead\n",
      "  warnings.warn(\"FP16 is not supported on CPU; using FP32 instead\")\n",
      "Processing Audio Files:  84%|████████▍ | 84/100 [06:40<01:25,  5.37s/it]"
     ]
    },
    {
     "name": "stdout",
     "output_type": "stream",
     "text": [
      "Result:  A story is an adventure at the old bookstore. On the leaves of sunny afternoon, I was wandering endlessly on the street. By accident, I turned into a rather out of the way alley. The alley was filled with an old smile and as if time had slowed down there. Suddenly, an old basketball came, an old bookstore came to me. The bookstore was simple and messy, with several yellow boats placed randomly. During my E is a plink boat, a direction. I worked closer to the bookstore and started rummaging through the boats. Worn out old books with a damaged cover caught my attention. As I picked up this book to examine it carefully, an old voice came from beside me. Young man, you like this book too? I looked up and saw an old man with great hair smelling at me. The old man was sitting on a small stool beside, with a lung in his eyes that was both profound and wise. We started chatting about this book, and the old man told a story behind it, which was a legend about courage, perseverance and dreams. I was completely captivated as if I hadn't been taken into another world. As a chat went deeper, I discovered that the old man had a rich life experience. They used to be a brave adventure, having traveled to many places where few people had been. He was also a scholar who loved reading and had profound insights into various kinds of knowledge. His stories gave me a new understanding and perception of life. Before I knew it, it was already getting dark. I sat good-bye to the old man and left early with that old book and heart of harvest. This chance in contact was like a bright star. Emeluting illuminating my ordinary life. Since then, whenever I see this old book, I always think of that afternoon. The other book store, Fall of Stories and the admirable old man. It has made me understand there are surprises and miracles everywhere in life, as long as we have a heart that is good at discovery.\n",
      "File saved to: data/processed/text_feature/whisper_base/00084.txt\n",
      "Processing: 00085.wav (Language: Chinese)\n"
     ]
    },
    {
     "name": "stderr",
     "output_type": "stream",
     "text": [
      "/Users/shuyao/Code/in_class/ML_mini_proj/ML_mini_proj/.venv/lib/python3.12/site-packages/whisper/transcribe.py:126: UserWarning: FP16 is not supported on CPU; using FP32 instead\n",
      "  warnings.warn(\"FP16 is not supported on CPU; using FP32 instead\")\n",
      "Processing Audio Files:  85%|████████▌ | 85/100 [06:47<01:26,  5.74s/it]"
     ]
    },
    {
     "name": "stdout",
     "output_type": "stream",
     "text": [
      "Result: 去年属家我去了杭州,专门为了西湖的美景这是我第一次去杭州,之前只在书上和电影上看到过他的模样到达那天天灰灰吓着小雨,整个西湖笼招在一层宝物中,请得更加神秘而适宜走在苏地上,研究弯夜的小路,偶尔能看到岸边的流速被微风轻轻浮动随便上到样起了震震连翼,访过在向我招手后来我做了一首手滑小船,慢慢滑向湖中心传乎是一位年过六星老爷爷,他满脸笑容,心事波波的给我讲起了白色专的故事说到许仙和白娘子在断脚相遇时,他还指着远出的掉脚,甘愷道哎,就在那里,传说真的让人相信爱情那一刻我仿佛穿越到了千百年前的江南中午,我去了楼外楼,尝试几道地道的杭州菜,点了西湖处于和龙景下人扶原端上来的时候,我看到续肉仙的,蒜田时中向人择待这一副轻香的茶香味,真是让我食欲打开用餐时,穿爱正好看见西湖,连吃饭的心情都变得特别美好下午我决定登雷风塔,从塔定福坎,整个西湖进首眼底那种正汗的感觉无法用颜域形容远出的群山连绵起伏,进出的湖光,波光里林这位的游人仿佛成了画中的点罪晚上我在河坊街闲逛,那里小吃太二领利热闹飞烦,我唱了集中小吃特别是一种叫做定盛高的传统典型软落香田,让人回味无穷走,走,走,走,我还碰到了一家手工一瓶铺子店主热情的介绍起了杭州的丝丑文化我买了一条手工赐秀的丝精作为尽眼觉得这次旅行更加的完美了今天我登了雷峰塔,也去了楼外楼的杭州菜唱了一场当地的杭州菜也去了小时机成各种各样的点心尤其是定盛高端南几天的杭州之星然后体会到了江南的温柔运位虽然离开时心里有些不舍但我知道这段机会永远留在我的心底\n",
      "File saved to: data/processed/text_feature/whisper_base/00085.txt\n",
      "Processing: 00086.wav (Language: English)\n"
     ]
    },
    {
     "name": "stderr",
     "output_type": "stream",
     "text": [
      "/Users/shuyao/Code/in_class/ML_mini_proj/ML_mini_proj/.venv/lib/python3.12/site-packages/whisper/transcribe.py:126: UserWarning: FP16 is not supported on CPU; using FP32 instead\n",
      "  warnings.warn(\"FP16 is not supported on CPU; using FP32 instead\")\n",
      "Processing Audio Files:  86%|████████▌ | 86/100 [06:50<01:10,  5.03s/it]"
     ]
    },
    {
     "name": "stdout",
     "output_type": "stream",
     "text": [
      "Result:  Last summer, I visited Boston for a short getaway. It was my first time in this city, and I was excited to explore history and culture. I started my trip by walking the Freedom Trail, a path that takes me to a few songs of most historic sites in the city. Along the way, I saw a famous pro-reverevirus, HALFs and Old North Church, and I learned a lot about American revolution. I also stuff as Fenera Holt, where I heard street performers playing jazz music. The south of their instrument mixed with the chatter of stories created a lively atmosphere. The next day, I visited Harvard University in the nearby Cambridge, walking through the campus. I felt a sense of inspiration. It was like stepping into a world-well ideas and innovations through three. I spent some time in the Harvard's Museum of Natural History, looking at the habits of Poso and dinosaur skeletons. The museum was quiet, and the air inside smelled like old wood and dust, which made it feel even more like a place of discovery. In the evening, I had dinner as a small seafood restaurant by the harbor. I joined a place of fresh laughter while watching the sunset all over the water. The city had a vibrant, red-clown, calm energy, and it made me realize how much there is to learn, and experience in places with such deep history.\n",
      "File saved to: data/processed/text_feature/whisper_base/00086.txt\n",
      "Processing: 00087.wav (Language: Chinese)\n"
     ]
    },
    {
     "name": "stderr",
     "output_type": "stream",
     "text": [
      "/Users/shuyao/Code/in_class/ML_mini_proj/ML_mini_proj/.venv/lib/python3.12/site-packages/whisper/transcribe.py:126: UserWarning: FP16 is not supported on CPU; using FP32 instead\n",
      "  warnings.warn(\"FP16 is not supported on CPU; using FP32 instead\")\n",
      "Processing Audio Files:  87%|████████▋ | 87/100 [06:59<01:19,  6.09s/it]"
     ]
    },
    {
     "name": "stdout",
     "output_type": "stream",
     "text": [
      "Result: 小时候我是一个极其内向的孩子在班级里我总是默默地坐在角落里看着同学们吸效完爽自己却不敢加入其中我害怕被拒绝 害怕出丑这种恐惧如影随行失落错过了许多美好的时光记得有一次班级里组织了一场演讲比赛看着同学们一个个自信满满走上奖台生情并冒的演讲我心中充满了羡慕我多么希望自己也能像他们一样勇敢的站在众人面前表达自己的想法然而当老师问到我是否愿意参加时末学低下头不敢回答我害怕自己会紧张的说不出话来害怕同学们会嘲笑我的胆切这次经历让我对自己更加失望我觉得自己是一个失败者但是命运的转折往往在不经意见出现那是一个阳光明媚的下午我在图书馆偶然看到一本关于勇气和成长的书书中的主人公从一个胆小怕事的人逐渐成长为一个勇敢坚强的人他的故事深深地打动了我我开始反思自己为什么我不能像他一样勇敢地面对自己的恐惧呢我决定改变自己从那之后我开始主动于同学们交流虽然意还是很紧张但我强迫自己坚持下去我参加了学校的社团活动尝试着在众人面前发表自己的意见慢慢地我发现自己不在那么害怕的人交往了我的自信心也逐渐增强然而成长的道路逼非一番疯准在我上高中的时候家庭遭遇了一场重大的变股父亲的生意失败家里陷入了经济困难看着父母为了生活登播牢类我心中出满了愧疚和不安我学的自己应该为家庭承担一些责任于是我开始利用客与时间打工赚钱那段日子虽然很辛苦但也让我学会了坚强和独立我明白了生活的不易也更加珍惜每一个学习的机会我努力学习希望能通过自己的努力改变家庭的命运高考结束后我考上了一所理想的大学在大学里我继续努力分抖积极增加各种社会实践活动不断提升自己的能力我还加入了志愿者团队去贫困地区支教帮助那些需要帮助的孩子这段经历让我深刻地体会到了帮助他人的快乐和意义如今我已经大学毕业走上了工作岗位回首过去我赶开万千那些曾经的困难和措者如今都成了我人生中保贵的财富我不再是那个胆小怕失的孩子而是一个勇敢堅强自信的人\n",
      "File saved to: data/processed/text_feature/whisper_base/00087.txt\n",
      "Processing: 00088.wav (Language: English)\n"
     ]
    },
    {
     "name": "stderr",
     "output_type": "stream",
     "text": [
      "/Users/shuyao/Code/in_class/ML_mini_proj/ML_mini_proj/.venv/lib/python3.12/site-packages/whisper/transcribe.py:126: UserWarning: FP16 is not supported on CPU; using FP32 instead\n",
      "  warnings.warn(\"FP16 is not supported on CPU; using FP32 instead\")\n",
      "Processing Audio Files:  88%|████████▊ | 88/100 [07:03<01:06,  5.50s/it]"
     ]
    },
    {
     "name": "stdout",
     "output_type": "stream",
     "text": [
      "Result:  I've never caught COVID-19, which seems pretty lucky into this world. Back in early 2020, when the pandemic first started spreading globally, I was still in high school. Suddenly, the news was all about the virus, and our school announced a shutdown, switching or classes to online learning. We all felt pretty uneasy and scared at that time. At the pandemic, our city went into lockdown. My family set up a strict preventive measures, such as washing hands frequently, and we were very nervous. During this period, I started learning how to cook and try out all sorts of recipes. The kitchen became a lab, and every day I come up with new dishes. During the second wave of the pandemic, I decided to join volunteer groups to help the elderly and vulnerable in our community. We delivered essential supplies and helped them with daily tasks. Even though it was a small act, saying zero smiles made me feel that my efforts were worth it. However, the pandemic didn't end as quickly as we hoped. Because restriction is the end of life, starting again back to normal, many of my relatives and friends got COVID-19. Some even more than once. Despite this, I never get infected or felt any symptoms. I could often look back on the unique period during the pandemic, reflecting on how unperioded\n",
      "File saved to: data/processed/text_feature/whisper_base/00088.txt\n",
      "Processing: 00089.wav (Language: Chinese)\n"
     ]
    },
    {
     "name": "stderr",
     "output_type": "stream",
     "text": [
      "/Users/shuyao/Code/in_class/ML_mini_proj/ML_mini_proj/.venv/lib/python3.12/site-packages/whisper/transcribe.py:126: UserWarning: FP16 is not supported on CPU; using FP32 instead\n",
      "  warnings.warn(\"FP16 is not supported on CPU; using FP32 instead\")\n",
      "Processing Audio Files:  89%|████████▉ | 89/100 [07:10<01:06,  6.02s/it]"
     ]
    },
    {
     "name": "stdout",
     "output_type": "stream",
     "text": [
      "Result: 前几年我在驾骑里闲着无事,正好看到一些关于爬山的短视频。我想着反正闲着也是闲着,不如去爬爬山专联一下身体,正好能轻身体会一下古代文人莫克爬到山林时的能骨,会当令决定,一览中山小的感受,于是我收拾收拾的心理,直到山东太山,到了太山的所在地,山东太安后,我先去孔子庙,转了转。所以孔子的了解更生意愁了。随后我也是唱了长当地的一些美食,绝大部分的菜品味道都还不错,就是有条语作得非常差,让我有点反味。由于我想看看日出破小的太山山顶,于是我吃完晚饭后,直接在酒店睡到晚上12点,准备凌晨进行爬太山。我在山角,起来提前过买了一次性的羽衣,手蝶筒和低根灯山帐,从最底下爬到麦票树的话,我快十分钟,就让我在带我眼中爬在山的难度,再次升级。虽然爬太山的时候是凌晨,但是一路上碰到的游客还是不少的。日出了太山,确实能激励着游客们。一路上打着手蝶筒不断前行,各种辛苦资不言说,不过我定了个不做太休息的目标,也可能是让我爬太山让我十分的激动。我确实完成了这个目标,等爬到南天门的时候,听功下起来小雨。附近休息的游客和商家们分分躲了起来。我也正轻轻地提前做好了买羽衣的准备。虽然羽衣很薄,但是我爬山早已浑身出汗,雨水的降温让我依然自得,成功经过快四五个小时,我成功地爬到了山顶。不过可惜的是当天起来国务,日出了状观,我难以见证。在山顶有利一番后,我也正好坐上开放的软车下到办山腰。随后变成大巴回到山角。在做大巴的途中,我也因为过于疲愈,而不知不觉的睡着。\n",
      "File saved to: data/processed/text_feature/whisper_base/00089.txt\n",
      "Processing: 00090.wav (Language: English)\n"
     ]
    },
    {
     "name": "stderr",
     "output_type": "stream",
     "text": [
      "/Users/shuyao/Code/in_class/ML_mini_proj/ML_mini_proj/.venv/lib/python3.12/site-packages/whisper/transcribe.py:126: UserWarning: FP16 is not supported on CPU; using FP32 instead\n",
      "  warnings.warn(\"FP16 is not supported on CPU; using FP32 instead\")\n",
      "Processing Audio Files:  90%|█████████ | 90/100 [07:15<00:58,  5.83s/it]"
     ]
    },
    {
     "name": "stdout",
     "output_type": "stream",
     "text": [
      "Result:  Since I was a kid, I've always had deep interest in sketching and drawing. I went somewhere in high school, I signed up for the sketching trip organized by my school. The destination was a farmhouse, deep in the mountains of Guizhou Province. Our group included professional instructors and a bunch of like-minded friends. The instructor was recently required a college professor who not only had wealth of experience, but also the passion for art. He told us he wanted us to capture the signs that move sadmost and emphasize that the essence of art is choose, goodness and beauty. On the second day, something dramatic happened. I accidentally twist my ankle and the flat ground at the base, which meant I couldn't go out with the others to sketch. I felt like I was missing out on the vulnerable learning opportunity, but the instructor didn't to look over me. He suggested that I focus on sketching and the base and capture the beauty around me. So I started to combine the composition techniques that I had learned from studying. And carefully observed the every plounds and trees around me. Even though I couldn't go out, I still found plenty of beauty scenes to draw at the base. Such as a depot, a cell light for literary, through the leaves and a peaceful life in the farmhouse with chickens and dogs. And even the busy features of my friends all become subjects for my sketches. The sixth day of learning quick, came to the end and everyone showcased their work. To my surprise, in the instructor mentioned me specially in his summary, he said the student who can most from the trip is one who got injured. I realized that the true essence of art might be to fill every detail of life with my heart and capture those moments that move me with my pen.\n",
      "File saved to: data/processed/text_feature/whisper_base/00090.txt\n",
      "Processing: 00091.wav (Language: Chinese)\n"
     ]
    },
    {
     "name": "stderr",
     "output_type": "stream",
     "text": [
      "/Users/shuyao/Code/in_class/ML_mini_proj/ML_mini_proj/.venv/lib/python3.12/site-packages/whisper/transcribe.py:126: UserWarning: FP16 is not supported on CPU; using FP32 instead\n",
      "  warnings.warn(\"FP16 is not supported on CPU; using FP32 instead\")\n",
      "Processing Audio Files:  91%|█████████ | 91/100 [07:20<00:50,  5.58s/it]"
     ]
    },
    {
     "name": "stdout",
     "output_type": "stream",
     "text": [
      "Result: 前两天我和女朋友去了环境影城然后那个是一个非常好玩的地方我们在那儿玩玩所有的项目然后我们还吃到了很好吃的猪类牌我们特别喜欢哈利波特的展区我们去了我们去了用马飞行我们去了近期之旅我们还还玩了很多很奇妙很好玩的项目我们甚至在那里拍了照片这些项目给我们离开的非常深刻的回忆并且我们在一天之内体验了所有的项目这是非常难得的我们同时还玩了很多小孩玩的项目比如说就是关于小荒人的有关于关于公布兽毛的我们认为这些项目都非常好玩我们还抽空去吃了很好吃的饭它在三把骚肉和漂浓者销管都有但是我们选择了漂浓者销管因为三把骚肉人真是太多了我们真的很开心因为那天是我们的三周年纪念日我们在一天之内包着非常顺利然后我们还跟小荒人喝了饮我们还做了很多很好玩的事所以我觉得感觉特别棒最后我们在初环境形成之前在门口丢了手机我们当时很激动很难过很难过吧然后我们找到了工作人员工作人员告诉我们说我们的手机被他们包管了然后这种事务负责让我们非常开心所以对\n",
      "File saved to: data/processed/text_feature/whisper_base/00091.txt\n",
      "Processing: 00092.wav (Language: Chinese)\n"
     ]
    },
    {
     "name": "stderr",
     "output_type": "stream",
     "text": [
      "/Users/shuyao/Code/in_class/ML_mini_proj/ML_mini_proj/.venv/lib/python3.12/site-packages/whisper/transcribe.py:126: UserWarning: FP16 is not supported on CPU; using FP32 instead\n",
      "  warnings.warn(\"FP16 is not supported on CPU; using FP32 instead\")\n",
      "Processing Audio Files:  92%|█████████▏| 92/100 [07:27<00:47,  5.94s/it]"
     ]
    },
    {
     "name": "stdout",
     "output_type": "stream",
     "text": [
      "Result: 去年,我有興趣德克薩斯州的奧斯廳是度過了幾天這次旅行的主要目的時去看望一些老朋友而奧斯廳本身也應其被預為世界現場音樂制度而吸引了我到達之後,我迫不及待地想要提升體驗這個城市獨特魅力在第一天的晚上,我跟朋友們出了著名的第六節這條街被稱為奧斯廳的音樂心臟地來走得街上,四週迷瞞的各種各樣的音樂聲幾乎每家酒吧和咖啡館都有樂隊和歌手在演出不同風格的音樂融合在一起有絕世、藍調、搖滾、甚至還有名搖每個角落就充滿了活力街頭有一些街頭藝人他們在表演時吸引了不少觀眾我們也聽下了腳步坐在一旁的餐館之中平常的本地的美食看著這些音樂家們的表演感受那種充滿激情和創意的氛圍晚上街道上的人群越來越多大家都隨著音樂的節奏和跳舞、歡笑上伏整個城市都在為生活慶祝最有趣的是我也被拉進了50和一群莫承仁一起跳起來舞雖然我並不上上跳舞但那種自由和快樂的感覺讓我完全沉靜其中之後我們去了奧斯廳一個著名的美食車公園這裡的餐車提供了各種各樣的美食包括墨西哥塔克收烤和漢堡我嘗試當地非常有名的塔克它的味道真是美妙及塔克的外皮脆脆的裡面填滿了鮮嫩的牛肉、蔬菜香料和一些其他我不認識的東西口感豐富,讓我大快躲音吃完後我們還喝了幾杯冰鎮啤酒坐在公園的長椅上看著周圍的人們聊天聚會感受到一部輕鬆愉快的氛圍奧斯廳的美食和音樂一樣都充滿的創意和多樣性跟人一種無窮的驚喜\n",
      "File saved to: data/processed/text_feature/whisper_base/00092.txt\n",
      "Processing: 00093.wav (Language: Chinese)\n"
     ]
    },
    {
     "name": "stderr",
     "output_type": "stream",
     "text": [
      "/Users/shuyao/Code/in_class/ML_mini_proj/ML_mini_proj/.venv/lib/python3.12/site-packages/whisper/transcribe.py:126: UserWarning: FP16 is not supported on CPU; using FP32 instead\n",
      "  warnings.warn(\"FP16 is not supported on CPU; using FP32 instead\")\n",
      "Processing Audio Files:  93%|█████████▎| 93/100 [07:34<00:42,  6.12s/it]"
     ]
    },
    {
     "name": "stdout",
     "output_type": "stream",
     "text": [
      "Result: 去年秋天,我去天津拜訪了一位高中同學,他現在在天津大學讀書,我們已經有好幾年沒見了,這次相聚讓我非常期待。他住在天津大學宿舍裡,下源內綠樹成陰,充滿了青春和活力的學術氛圍。到了天津之後,我的同學熱情地帶我參觀他的校園,天津大學既有現良化的教學樓,還有許多歷史運輸建築。下個月的湖泊和點營道位感到非常舒適,我們散歸了他常去突入館,但還進安靜而充滿知識的氣息。他告訴我,很多時候他會在這裡度過整天,滿頭學習。古飯時間,我們去了學校附近的亞小世界,品嘗地道天津美食,比如隔壁包子、見冰果子。這些美食讓我大飽口。我的同學還特別推薦了天津麻花。下午,我們去了天津的烏達道,這裡有許多優酒,也讓樓的建築,萬物在烏達道街道上,我仿佛川也回了上世紀,感受到那種古老魚現在結合的獨特氛圍。接著我們去了進園,這是墨帶黃地埔伊,成林居住的地方。進園的綠樹成陰,建築風格中夕和壁,非常優雅寧靜。在這裡,我們坐在花兒的長椅上,了解烏達的棋花夢想,仿佛時間回到了我們還是高榮生的日子。半晚十分,我們學了天津之野,這是天津著名的魔天輪。學著魔天輪的黃碗身高,整個城市的美景進受眼底,遠處的海河在陽光假山人發光。城市的高度大沙與過了建築焦陽會議,那一刻讓我對這城市充滿了喜愛。這的天津之行不僅讓我提,這做城市的美麗文化,更重要的是我和老朋友重新建立的生活聯繫。天津的風景人情和美食讓我對聯望法。\n",
      "File saved to: data/processed/text_feature/whisper_base/00093.txt\n",
      "Processing: 00094.wav (Language: Chinese)\n"
     ]
    },
    {
     "name": "stderr",
     "output_type": "stream",
     "text": [
      "/Users/shuyao/Code/in_class/ML_mini_proj/ML_mini_proj/.venv/lib/python3.12/site-packages/whisper/transcribe.py:126: UserWarning: FP16 is not supported on CPU; using FP32 instead\n",
      "  warnings.warn(\"FP16 is not supported on CPU; using FP32 instead\")\n",
      "Processing Audio Files:  94%|█████████▍| 94/100 [07:58<01:08, 11.41s/it]"
     ]
    },
    {
     "name": "stdout",
     "output_type": "stream",
     "text": [
      "Result: 1 day MAG Gracial friend to be racism and we is French entrepreneur and we feel very sad because french guy is very he tastes not very good and we eat someToday brunch brunch is much better than Chinese breakfast我們來 The Side Tiny Law in London usando Explorerator 內也有涼聲要在 chinese dot section把它幫我收太久 一人會發現而我們分開去一次我在一次四字 opera accents我和小伙子很简单最主要的就是我和小伙子我和小伙子很简单我和小伙子很简单很简单我和小伙子很简单我和小伙子很简单我和小伙子很简单我和小伙子很简单我和小伙子很简单我和小伙子很简单我和小伙子很简单我和小伙子很简单我和小伙子很简单我和小伙子很简单我和小伙子很简单我和小伙子很简单我很宙座薛薛薛薛的薛薛薛的薛薛的薛薛的薛薛的薛薛的薛薛的薛薛的薛薛的薛薛的薛薛的薛薛的薛薛的薛薛的薛薛的薛薛的薛薛的薛薛的薛薛的薛薛的薛薛薛 chinese薛薛的薛薛的薛薛的薛薛的薛薛的薛薛薛薛薛薛薛薛薛\n",
      "File saved to: data/processed/text_feature/whisper_base/00094.txt\n",
      "Processing: 00095.wav (Language: Chinese)\n"
     ]
    },
    {
     "name": "stderr",
     "output_type": "stream",
     "text": [
      "/Users/shuyao/Code/in_class/ML_mini_proj/ML_mini_proj/.venv/lib/python3.12/site-packages/whisper/transcribe.py:126: UserWarning: FP16 is not supported on CPU; using FP32 instead\n",
      "  warnings.warn(\"FP16 is not supported on CPU; using FP32 instead\")\n",
      "Processing Audio Files:  95%|█████████▌| 95/100 [08:05<00:51, 10.36s/it]"
     ]
    },
    {
     "name": "stdout",
     "output_type": "stream",
     "text": [
      "Result: 幾天前我看完一家羊老人去看完我的高中貴老师这位老人是我最近的人之一他不仅交问了我物理支持还让我明白了科学的一语言声态度听说他去修友干大我们羊老院我一直强行翻外访他终于在一个中日下午我带着满新的敬意踏上的这次一城进入羊老院的院子我一眼就看到了熟悉的生意往就是我们坐在院子里的长椅上只让披着一条谈题手里拿着一本书他带着老花镜乱着看书一眼羊光撒在他微微溝冷的身曲上显得格外安静站在他面前我轻轻喊了一声王老师他拍一通冷美向后认出笑容慢慢在他里上站放他声音一如祭王温柔他起身拍了拍了我的肩膀成当年一压思想又轻轻最后他带我见他的方便虽然简单但不是十分整理王家时候给我到了一位热场我们在框面坐下他是了起了这些年的生活王家时候生活依然过的十分通时他每天见识愿还常日写出文章把自己一十年的教学经验证明下来他拿出一碗笔记给我看上面你妈妈寂寞的公式和思考自己轻轻轻的公正虽然腿脚不如一千但脑子还得用血泥是一辈子的事情说话时显得里偷着光那种最支持的热爱然后十分感动我刚开万千我们聊了许久从晚现状个人生的选择他是中文和鼓励物分享他的经验时间过得昏非快我不得不疑他到底他送我走的门口站在西洋下还得拍我肩膀好努力呀未来属于你们年轻人走出院网院时西洋一灰撒在路上我的心里满事感动与力量王教授的一生就像一门打开出他用心动告诉我成长不仅是追求怪在成功更是保有内心的堅持与渴望那一刻我更加坚定了自己的方向\n",
      "File saved to: data/processed/text_feature/whisper_base/00095.txt\n",
      "Processing: 00096.wav (Language: English)\n"
     ]
    },
    {
     "name": "stderr",
     "output_type": "stream",
     "text": [
      "/Users/shuyao/Code/in_class/ML_mini_proj/ML_mini_proj/.venv/lib/python3.12/site-packages/whisper/transcribe.py:126: UserWarning: FP16 is not supported on CPU; using FP32 instead\n",
      "  warnings.warn(\"FP16 is not supported on CPU; using FP32 instead\")\n",
      "Processing Audio Files:  96%|█████████▌| 96/100 [08:09<00:33,  8.34s/it]"
     ]
    },
    {
     "name": "stdout",
     "output_type": "stream",
     "text": [
      "Result:  One day my friends and I decided to go hiking on a life night trip. We left earlier and the weather was sunny. The wave of mountains were beautiful. Half we are resettled here, a faint cry. So I first thought it was just a wind but it got louder and sound like someone needed help. So we followed the sound and found a smile coat trapped in some rocks. It seems like it just lost its way and couldn't escape. So we quickly decided to help it and I used a rope from my backpack to put the girls out. We looked at us and we ran back to the region. I realized that we didn't just see the animal but we saw that Timur can courage in a tough situation. So we continued to the tough and the wave there was even better. So we feel very good. So I learned that even a smell active helps a big difference and I became more respectful of nature and life. It's a really wonderful day so we can do something very meaningful.\n",
      "File saved to: data/processed/text_feature/whisper_base/00096.txt\n",
      "Processing: 00097.wav (Language: Chinese)\n"
     ]
    },
    {
     "name": "stderr",
     "output_type": "stream",
     "text": [
      "/Users/shuyao/Code/in_class/ML_mini_proj/ML_mini_proj/.venv/lib/python3.12/site-packages/whisper/transcribe.py:126: UserWarning: FP16 is not supported on CPU; using FP32 instead\n",
      "  warnings.warn(\"FP16 is not supported on CPU; using FP32 instead\")\n",
      "Processing Audio Files:  97%|█████████▋| 97/100 [08:19<00:26,  8.85s/it]"
     ]
    },
    {
     "name": "stdout",
     "output_type": "stream",
     "text": [
      "Result: 上周我前往一家骨尔院去看我大学时期去院服务时院士的小男孩好好那是一个安静冬日不厚阳光温柔的撒度空气中夹达着淡淡很易当我软件那件熟悉的物院子时好好正坐在秋仙上抵头专注的白弄着一个机幕网络我喊了一声他的名字他才几头认了一下随机露出了大大的笑容放下玩具飞翼奔过来爆出了我安哥好的声音你爱着熟悉的帮快我摸了摸了他的头还点他比我机就展高了不少但那双亮眼睛依旧充满了还特有纯真我们坐在院子的一角六天他告诉我他最近喜欢上画画还兴奋的跑回房间拿出一把画策给我看翻开画策里面是一些日嫩却深嫩的画作画的是古味院的生活认诚了来毛泥小伙伴还有一副画了一个人传着知人者的马甲振拉着他手他只能得不画一点点说这是安哥是你我的心头一阵酸似有温暖我告诉他他画得很棒应该坚持下去好好用力点了点头给你一马是期待林走使他给你拉着我手说安哥你还会再来吧我蹲下来看他正重回到一定会到时我爱为戴上你的王叔叔一起来看你离开过而远我忍不住回头看你好站在门口向我回回手阳光撒在他小小身上现在是和外温暖这一刻我明白了陪外已关爱也许就是我能基于他最重要的意义然后好的纯真和勇敢也让我对生活有了更多的感悟\n",
      "File saved to: data/processed/text_feature/whisper_base/00097.txt\n",
      "Processing: 00098.wav (Language: Chinese)\n"
     ]
    },
    {
     "name": "stderr",
     "output_type": "stream",
     "text": [
      "/Users/shuyao/Code/in_class/ML_mini_proj/ML_mini_proj/.venv/lib/python3.12/site-packages/whisper/transcribe.py:126: UserWarning: FP16 is not supported on CPU; using FP32 instead\n",
      "  warnings.warn(\"FP16 is not supported on CPU; using FP32 instead\")\n",
      "Processing Audio Files:  98%|█████████▊| 98/100 [08:24<00:15,  7.77s/it]"
     ]
    },
    {
     "name": "stdout",
     "output_type": "stream",
     "text": [
      "Result: 上个周末我和我的朋友们主播去参加一场突不旅行然后目标是一片彻零那天的天气比较阴晨比起的夏日小雨不面比较滑我们走起来都是挺飞进的但是我们并没有因此而就是想产生放弃的想法反而是性质不过的继续前进然而走着走着我们就发现好像离路了旁边的路不认识然后就是比较陌生脚下泥河越来越多然后也起雾了然后施浅越来越迷糊然后我们不停地找路但是时中无法确定是不是走队了就在我们有些决望的时候突然发现前面有一条小锡我们知道沿着水流应该能找到正确出去了路于是大家小心翼翼的顺着吸水前进终于在几个小时之后找到了回到表点的路径虽然大家都很疲惫都很近屁力见但是这种在挑战极限后取得成功返回到我们的感觉让我们不必马着回到家之后我们都感觉非常充实也学会了许多关于如何在扩警中冷静思考和解决问题的技巧所以这次旅行让我身客体会到不管前方有多少位置的困难重要的是不放弃皆知前行就一定能迫开苹果找到回家的道路对 就是这样\n",
      "File saved to: data/processed/text_feature/whisper_base/00098.txt\n",
      "Processing: 00099.wav (Language: Chinese)\n"
     ]
    },
    {
     "name": "stderr",
     "output_type": "stream",
     "text": [
      "/Users/shuyao/Code/in_class/ML_mini_proj/ML_mini_proj/.venv/lib/python3.12/site-packages/whisper/transcribe.py:126: UserWarning: FP16 is not supported on CPU; using FP32 instead\n",
      "  warnings.warn(\"FP16 is not supported on CPU; using FP32 instead\")\n",
      "Processing Audio Files:  99%|█████████▉| 99/100 [08:30<00:07,  7.09s/it]"
     ]
    },
    {
     "name": "stdout",
     "output_type": "stream",
     "text": [
      "Result: 一次,我和我的几个朋友去参加一个周末的艺术展览我们都挺喜欢艺术的,所以就提前计划好这次参观当天的展览的作品非常精彩,有许多不同风格的艺术品其中有一些挺独特的让我印象深刻就是我特别喜欢一幅色彩丰富的抽象画这幅画的每一笔每画都充满了那种强烈的情感让我不是觉得沉浸在其中正在我专心心常的说话的时候一个陌生人突然走到我的旁边开始和我聊起这幅画的创作背景来告诉我这幅画是他自己是特放作的我一下子就崩溜了就完全没有想到以前这位人很可能是艺术家本人吃惊过后我们聊了很多他向我解释了这幅画的每个细节包括颜色的选择画笔的运用还有创作过程中这个灵感的来源他还跟我们分享的许多关于艺术创作的心得和挑战最后也是非常热情的邀请我参加他的个人画展我感到非常的惊讶和幸运因为这次我不仅让我更加了解艺术还让我意书创意书作品背后往往隐藏这艺术家付出的巨大努力以及情感投入所以这次经历让我觉得我对艺术有了更深的理解也让我更加尊重的一些幕幕创作的艺术家他们\n",
      "File saved to: data/processed/text_feature/whisper_base/00099.txt\n",
      "Processing: 00100.wav (Language: Chinese)\n"
     ]
    },
    {
     "name": "stderr",
     "output_type": "stream",
     "text": [
      "/Users/shuyao/Code/in_class/ML_mini_proj/ML_mini_proj/.venv/lib/python3.12/site-packages/whisper/transcribe.py:126: UserWarning: FP16 is not supported on CPU; using FP32 instead\n",
      "  warnings.warn(\"FP16 is not supported on CPU; using FP32 instead\")\n",
      "Processing Audio Files: 100%|██████████| 100/100 [08:39<00:00,  5.20s/it]"
     ]
    },
    {
     "name": "stdout",
     "output_type": "stream",
     "text": [
      "Result: 2021年我去了一套農村拜訪我很久沒見的表哥表哥一家住在偏遠的鄉下那裡風景優美四周都是幾乎的山秋和廣闊的田野我已經很久沒去那裡了所以這次拜訪讓我感到季興婚又懷念到達孫子那天表哥拆著他的小頭垃圾來接我孫子的路不寬但顏骨兩邊的景色非常美麗尤其是那大片的油菜花田金黃色的花海一望無際保佛為大地撲上了一層溫暖的鏟子表哥一路上性質播播的給我介紹村裡的每一處變化比如星秀的橋樑林季家剛建好的新房還有村裡最近新快的農村品所作社雖然村子沒有城市的高樓大廈和繁忙的街道但這種寧靜簡單的生活氛圍讓我感到非常放鬆到家後表哥的父母非常熱情給我剛來了新鮮的水果和自家做的米酒表哥的母親很快就開始準備晚飯我看到他從小院裡再來了新鮮的蔬菜那些蔬菜顏色脆綠充滿了升機晚餐非常風正有煮的鮮嫩的雞湯自家煙製的鹹菜還有剛從地裡挖出來的土豆特別香甜這都分讓我想起了小時候和家人們一起吃飯的情景那種簡單而充滿愛的感覺似乎讓我的心一下子回到了過去吃完飯後表哥一帶我去村裡和和邊釣村裡的和邊釣魚我們拿上煮乾和秋椅走了十幾分鐘的前年小路來到了村外的那條小和邊和水非常清澈水面上倒硬著藍天和周圍的樹木微風浮過水面換起層層連儀我找了一塊大石頭坐下來魚耳拋進河中然後進進的等帶著魚耳上溝河面非常安靜只能聽到樹葉被從吹動的煞煞生和幾隻稀帥的名叫聲我和表哥有一句沒句的聊著盡況聊到小臭我們一起玩著密藏的日子那時候我們還小無憂無慮整個世界都像是我們的遊樂場表哥回憶期那些年我們偷吃零劇家葡萄的趨勢他說著變大笑起來我也不僅笑出了聲反覆那段美好的時光就在眼前夜間點聲了我們沒有吊到很多魚但這並不重要我們坐在星空降看著天上的新鮮藝山藝閃聽著遠處傳來的幾聲八名心裡充滿了零件表哥告訴我他雖然生活在農村但他對這樣的生活很滿意他喜歡填野裡的自由喜歡牢座的踏式感也喜歡與家人和林里之間的溫暖互動我能感覺到他的話以中帶著對生活的熱愛和對家鄉的申請那一晚我和表哥躺了很多也想了很多雖然我們生活在不同的環境中但彼此之間那份血濃於水的心情始終沒有改變我深深感受到相存生活雖然沒有繁華的孤子攻擊卻有一種重視難以找到的寧靜與溫情就是拜訪讓我增加珍惜這段難得的心情也讓我重新認識到真正的快樂往往來源於簡單而真實的生活\n",
      "File saved to: data/processed/text_feature/whisper_base/00100.txt\n"
     ]
    },
    {
     "name": "stderr",
     "output_type": "stream",
     "text": [
      "\n"
     ]
    }
   ],
   "execution_count": 2
  },
  {
   "cell_type": "markdown",
   "source": "## 4.2 Model stage\n\nDescribe the ML model(s) that you will build. Explain why you have chosen them.",
   "metadata": {
    "id": "0F5_kI95LuZ2"
   }
  },
  {
   "cell_type": "markdown",
   "source": "## 4.3 Ensemble stage\n\nDescribe any ensemble approach you might have included. Explain why you have chosen them.",
   "metadata": {}
  },
  {
   "cell_type": "markdown",
   "source": "# 5 Dataset\n\nDescribe the datasets that you will create to build and evaluate your models. Your datasets need to be based on our MLEnd Deception Dataset. After describing the datasets, build them here. You can explore and visualise the datasets here as well. \n\nIf you are building separate training and validatio datasets, do it here. Explain clearly how you are building such datasets, how you are ensuring that they serve their purpose (i.e. they are independent and consist of IID samples) and any limitations you might think of. It is always important to identify any limitations as early as possible. The scope and validity of your conclusions will depend on your ability to understand the limitations of your approach.\n\nIf you are exploring different datasets, create different subsections for each dataset and give them a name (e.g. 5.1 Dataset A, 5.2 Dataset B, 5.3 Dataset 5.3) .\n\n",
   "metadata": {
    "id": "HZQPxztuL9AW"
   }
  },
  {
   "cell_type": "markdown",
   "source": "# 6 Experiments and results\n\nCarry out your experiments here. Analyse and explain your results. Unexplained results are worthless.",
   "metadata": {
    "id": "2qf7GN1aeXJI"
   }
  },
  {
   "cell_type": "markdown",
   "source": "# 7 Conclusions\n\nYour conclusions, suggestions for improvements, etc should go here.",
   "metadata": {
    "id": "fSrJCR_cekPO"
   }
  },
  {
   "cell_type": "markdown",
   "source": "# 8 References\n\nAcknowledge others here (books, papers, repositories, libraries, tools) ",
   "metadata": {}
  }
 ]
}
