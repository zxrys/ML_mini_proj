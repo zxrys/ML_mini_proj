{
 "metadata": {
  "kernelspec": {
   "name": "python3",
   "display_name": "Python 3 (ipykernel)",
   "language": "python"
  },
  "language_info": {
   "codemirror_mode": {
    "name": "python",
    "version": 3
   },
   "file_extension": ".py",
   "mimetype": "text/x-python",
   "name": "python",
   "nbconvert_exporter": "python",
   "pygments_lexer": "ipython3",
   "version": "3.8"
  },
  "colab": {
   "provenance": []
  }
 },
 "nbformat_minor": 4,
 "nbformat": 4,
 "cells": [
  {
   "cell_type": "markdown",
   "source": "# CBU5201 mini-project submission\n\n\n## What is the problem?\n\nThis year's mini-project considers the problem of predicting whether a narrated story is true or not. Specifically, you will build a machine learning model that takes as an input an audio recording of **3-5 minutes** of duration and predicts whether the story being narrated is **true or not**. \n\n\n## Which dataset will I use?\n\nA total of 100 samples consisting of a complete audio recording, a *Language* attribute and a *Story Type* attribute have been made available for you to build your machine learning model. The audio recordings can be downloaded from:\n\nhttps://github.com/CBU5201Datasets/Deception\n\nA CSV file recording the *Language* attribute and *Story Type* of each audio file can be downloaded from:\n\nhttps://github.com/CBU5201Datasets/Deception/blob/main/CBU0521DD_stories_attributes.csv\n\n\n\n\n## What will I submit?\n\nYour submission will consist of **one single Jupyter notebook** that should include:\n\n*   **Text cells**, describing in your own words, rigorously and concisely your approach, each implemented step and the results that you obtain,\n*   **Code cells**, implementing each step,\n*   **Output cells**, i.e. the output from each code cell,\n\nYour notebook **should have the structure** outlined below. Please make sure that you **run all the cells** and that the **output cells are saved** before submission. \n\nPlease save your notebook as:\n\n* CBU5201_miniproject.ipynb\n\n\n## How will my submission be evaluated?\n\nThis submission is worth 16 marks. We will value:\n\n*   Conciseness in your writing.\n*   Correctness in your methodology.\n*   Correctness in your analysis and conclusions.\n*   Completeness.\n*   Originality and efforts to try something new.\n\n(4 marks are given based on your audio submission from stage 1.)\n\n**The final performance of your solutions will not influence your grade**. We will grade your understanding. If you have an good understanding, you will be using the right methodology, selecting the right approaches, assessing correctly the quality of your solutions, sometimes acknowledging that despite your attempts your solutions are not good enough, and critically reflecting on your work to suggest what you could have done differently. \n\nNote that **the problem that we are intending to solve is very difficult**. Do not despair if you do not get good results, **difficulty is precisely what makes it interesting** and **worth trying**. \n\n## Show the world what you can do \n\nWhy don't you use **GitHub** to manage your project? GitHub can be used as a presentation card that showcases what you have done and gives evidence of your data science skills, knowledge and experience. **Potential employers are always looking for this kind of evidence**. \n\n\n\n",
   "metadata": {
    "id": "91MsGMTna_P9"
   }
  },
  {
   "cell_type": "markdown",
   "source": "-------------------------------------- PLEASE USE THE STRUCTURE BELOW THIS LINE --------------------------------------------",
   "metadata": {}
  },
  {
   "cell_type": "markdown",
   "source": "# [Your title goes here]",
   "metadata": {}
  },
  {
   "cell_type": "markdown",
   "source": [
    "# 1 Author\n",
    "\n",
    "**Student Name**: Yao Shu \n",
    "**Student ID**:   2022213525\n",
    "\n"
   ],
   "metadata": {
    "id": "ZaGn4ICrfqXZ"
   }
  },
  {
   "cell_type": "markdown",
   "source": [
    "# 2 Problem formulation\n",
    "\n",
    "Describe the machine learning problem that you want to solve and explain what's interesting about it.\n",
    "\n",
    "### Machine Learning Problem\n",
    "\n",
    "The objective of this project is to develop a machine learning model capable of predicting the veracity of a narrated story based on its audio recording. Specifically, the model will classify each story as either **true** or **false** using audio data with a duration of **3-5 minutes**. This binary classification task involves processing and analyzing both the linguistic content and the acoustic features of the narration to discern patterns indicative of deception or authenticity.\n",
    "\n",
    "### Why This Problem is Interesting\n",
    "\n",
    "Deception detection in spoken narratives is a challenging and multifaceted problem that intersects fields such as natural language processing (NLP), speech processing, psychology, and behavioral analysis. Understanding whether a story is true or fabricated based solely on its audio recording has significant real-world applications, including:\n",
    "\n",
    "- **Security and Forensics**: Enhancing the capabilities of law enforcement agencies to assess the credibility of eyewitness accounts and testimonies.\n",
    "- **Media and Journalism**: Assisting in the verification of information disseminated through oral storytelling platforms.\n",
    "- **Social Media Monitoring**: Detecting misinformation and fake news propagated through audio formats like podcasts and voice messages.\n",
    "- **Human-Computer Interaction**: Improving the reliability of voice-based virtual assistants and customer service bots by identifying deceptive user inputs.\n",
    "\n",
    "The inherent complexity of this problem lies in the subtle cues that differentiate truthful narratives from deceptive ones, which may be embedded in both the content of the speech and the way it is delivered. This requires a sophisticated approach that leverages multiple modalities of data to capture a comprehensive set of features relevant to deception detection."
   ],
   "metadata": {
    "id": "o38VQkcdKd6k"
   }
  },
  {
   "cell_type": "markdown",
   "source": [
    "# 3 Methodology\n",
    "\n",
    "Describe your methodology. Specifically, describe your training task and validation task, and how model performance is defined (i.e. accuracy, confusion matrix, etc). Any other tasks that might help you build your model should also be described here.\n",
    "\n",
    "### Overview\n",
    "\n",
    "To address the problem of predicting the truthfulness of narrated stories, a **multimodal machine learning approach** will be employed. This approach integrates both **textual** and **audio** features extracted from the recordings to enhance the model's ability to detect deception. The methodology encompasses data preprocessing, feature extraction, feature fusion, model training, and evaluation.\n",
    "\n",
    "### Training Task and Validation Task\n",
    "\n",
    "- **Training Task**: The model will be trained to classify each audio recording into one of two categories: **True** or **False**. The training process involves learning patterns and features from both the transcribed text and the audio signal that correlate with the veracity of the story.\n",
    "  \n",
    "- **Validation Task**: The model's performance will be evaluated on a separate validation set to assess its generalization capability. Cross-validation techniques, such as k-fold cross-validation, will be employed to ensure robust performance metrics and to mitigate overfitting, especially given the limited dataset size.\n",
    "\n",
    "### Feature Extraction\n",
    "\n",
    "#### 1. Audio Feature Extraction\n",
    "\n",
    "To capture the acoustic characteristics of the narration, the following audio features will be extracted:\n",
    "\n",
    "- **MFCC (Mel-Frequency Cepstral Coefficients)**: These coefficients effectively represent the short-term power spectrum of the audio signal and are widely used in speech and speaker recognition tasks.\n",
    "  \n",
    "- **Prosodic Features**: Including pitch (fundamental frequency), energy (intensity), and speech rate (tempo), which can provide insights into the speaker's emotional state and stress levels, potentially indicative of deception.\n",
    "  \n",
    "- **Spectral Features**: Such as spectral centroid, bandwidth, and roll-off, which describe the distribution of energy across different frequency bands.\n",
    "  \n",
    "- **Pre-trained Audio Embeddings**: Utilizing models like **Wav2Vec 2.0** or **VGGish** to extract high-level, contextual audio features that capture complex patterns beyond traditional acoustic features.\n",
    "\n",
    "#### 2. Text Feature Extraction\n",
    "\n",
    "The audio recordings will first be transcribed into text using a reliable speech-to-text system. Subsequently, the following textual features will be extracted:\n",
    "\n",
    "- **BERT-based Embeddings**: Leveraging pre-trained language models like **BERT**, **RoBERTa**, or **ALBERT** to obtain rich, contextualized embeddings that encapsulate the semantic and syntactic nuances of the narrated story.\n",
    "  \n",
    "- **Linguistic Features**: Such as sentiment scores, keyword frequencies, and syntactic complexity, which may correlate with the truthfulness of the narrative.\n",
    "\n",
    "### Feature Fusion\n",
    "\n",
    "After extracting both audio and textual features, the next step is to **fuse** these multimodal features to create a comprehensive representation for each audio sample. The fusion process can be approached in the following ways:\n",
    "\n",
    "- **Feature Concatenation**: Simply concatenating the audio and text feature vectors to form a single combined feature vector, which is then fed into the classification model.\n",
    "  \n",
    "- **Attention Mechanisms**: Implementing attention layers that learn to weigh the importance of different features from each modality, allowing the model to focus on the most relevant aspects for deception detection.\n",
    "  \n",
    "- **Multimodal Transformers**: Utilizing transformer-based architectures designed to handle multiple data modalities, enabling the model to learn intricate interactions between audio and text features.\n",
    "\n",
    "### Model Training\n",
    "\n",
    "The fused features will be input into a classification model to perform the binary classification task. Potential models include:\n",
    "\n",
    "- **Fully Connected Neural Networks**: Simple architectures with dense layers to process the combined feature vector.\n",
    "  \n",
    "- **Ensemble Methods**: Combining predictions from separate audio and text classifiers to improve overall performance.\n",
    "  \n",
    "- **Multimodal Deep Learning Models**: Architectures specifically designed to handle and integrate multiple data types, potentially enhancing the model's ability to capture complex patterns indicative of deception.\n",
    "\n",
    "### Model Performance Definition\n",
    "\n",
    "The performance of the model will be assessed using the following evaluation metrics:\n",
    "\n",
    "- **Accuracy**: The proportion of correctly classified instances out of the total number of samples.\n",
    "  \n",
    "- **Confusion Matrix**: A detailed breakdown of true positives, true negatives, false positives, and false negatives to understand the types of errors the model makes.\n",
    "  \n",
    "- **Precision, Recall, and F1-Score**: To evaluate the model's ability to correctly identify true positives and minimize false positives and false negatives, especially important if there is class imbalance.\n",
    "  \n",
    "- **ROC-AUC (Receiver Operating Characteristic - Area Under Curve)**: To measure the model's ability to distinguish between the two classes across different threshold settings.\n",
    "\n",
    "### Additional Tasks\n",
    "\n",
    "- **Data Augmentation**: Implementing techniques such as adding background noise, varying speech speed, or performing synthetic transcription perturbations to artificially increase the size of the training dataset and improve model robustness.\n",
    "  \n",
    "- **Hyperparameter Tuning**: Optimizing model hyperparameters using techniques like grid search or Bayesian optimization to enhance performance.\n",
    "  \n",
    "- **Cross-Validation**: Employing k-fold cross-validation to ensure that the model's performance is consistent across different subsets of the data and to provide a more reliable estimate of its generalization ability.\n",
    "  \n",
    "- **Error Analysis**: Investigating misclassified samples to identify patterns or specific characteristics that the model struggles with, providing insights for further improvement.\n",
    "\n",
    "### Summary\n",
    "\n",
    "By integrating both audio and textual features through a multimodal approach, the methodology aims to leverage the complementary strengths of each data modality to enhance the model's ability to accurately predict the truthfulness of narrated stories. This comprehensive approach, combined with rigorous evaluation and validation techniques, is designed to address the complexities inherent in deception detection and to maximize the model's performance given the constraints of a limited dataset."
   ],
   "metadata": {
    "id": "bPTSuaB9L2jU"
   }
  },
  {
   "cell_type": "markdown",
   "source": [
    "# 4 Implemented ML prediction pipelines\n",
    "\n",
    "Describe the ML prediction pipelines that you will explore. Clearly identify their input and output, stages and format of the intermediate data structures moving from one stage to the next. It's up to you to decide which stages to include in your pipeline. After providing an overview, describe in more detail each one of the stages that you have included in their corresponding subsections (i.e. 4.1 Transformation stage, 4.2 Model stage, 4.3 Ensemble stage).\n",
    "\n",
    "## 4.1.1 Audio feature extraction"
   ],
   "metadata": {
    "id": "N3BwrtEdLDit"
   }
  },
  {
   "metadata": {
    "ExecuteTime": {
     "end_time": "2024-12-18T07:04:25.331719Z",
     "start_time": "2024-12-18T07:04:22.153682Z"
    }
   },
   "cell_type": "code",
   "source": [
    "from transformation.audio_feature import audio_feature_extract\n",
    "import utils\n",
    "import os\n",
    "\n",
    "csv_path = 'data/raw/CBU0521DD_stories_attributes.csv'\n",
    "audio_directory = 'data/raw/CBU0521DD_stories'\n",
    "feature_path = 'data/processed/audio_feature/feature_matrix.joblib'\n",
    "label_path = 'data/processed/audio_feature/labels.joblib'\n",
    "\n",
    "if os.path.exists(feature_path) and os.path.exists(label_path):\n",
    "    feature_matrix, labels = utils.load_features(feature_path, label_path)\n",
    "else:\n",
    "    # If not, process and save features\n",
    "    os.makedirs(\"data/processed/audio_feature/\", exist_ok=True)\n",
    "    audio_feature_extract.process_and_save_features(audio_directory, feature_path, label_path, csv_path)\n",
    "    feature_matrix, labels = utils.load_features(feature_path, label_path)\n",
    "\n",
    "print(f\"Feature matrix shape: {feature_matrix.shape}\")\n",
    "print(f\"Labels shape: {labels.shape}\")"
   ],
   "outputs": [
    {
     "name": "stdout",
     "output_type": "stream",
     "text": [
      "Using device: cuda\n"
     ]
    },
    {
     "name": "stderr",
     "output_type": "stream",
     "text": [
      "The tokenizer class you load from this checkpoint is not the same type as the class this function is called from. It may result in unexpected tokenization. \n",
      "The tokenizer class you load from this checkpoint is 'Wav2Vec2CTCTokenizer'. \n",
      "The class this function is called from is 'Wav2Vec2Tokenizer'.\n",
      "/home/jeeves/.conda/envs/ys_ml_mini_proj/lib/python3.11/site-packages/transformers/models/wav2vec2/tokenization_wav2vec2.py:720: FutureWarning: The class `Wav2Vec2Tokenizer` is deprecated and will be removed in version 5 of Transformers. Please use `Wav2Vec2Processor` or `Wav2Vec2CTCTokenizer` instead.\n",
      "  warnings.warn(\n",
      "Some weights of Wav2Vec2Model were not initialized from the model checkpoint at facebook/wav2vec2-base-960h and are newly initialized: ['wav2vec2.masked_spec_embed']\n",
      "You should probably TRAIN this model on a down-stream task to be able to use it for predictions and inference.\n"
     ]
    },
    {
     "name": "stdout",
     "output_type": "stream",
     "text": [
      "Features loaded from data/processed/audio_feature/feature_matrix.joblib\n",
      "Labels loaded from data/processed/audio_feature/labels.joblib\n",
      "Feature matrix shape: (100, 831)\n",
      "Labels shape: (100,)\n"
     ]
    }
   ],
   "execution_count": 2
  },
  {
   "cell_type": "markdown",
   "source": [
    "\n",
    "\n",
    "### 4.1.2 Text feature extraction"
   ],
   "metadata": {
    "id": "j1nDXnzYLLH6"
   }
  },
  {
   "metadata": {
    "ExecuteTime": {
     "end_time": "2024-12-18T07:05:06.460467Z",
     "start_time": "2024-12-18T07:04:35.963767Z"
    }
   },
   "cell_type": "code",
   "source": [
    "from transformation.text_feature import speech_to_text, text_feature_extract\n",
    "\n",
    "text_paths = speech_to_text.convert_speech_to_text(\n",
    "    \"data/raw/CBU0521DD_stories\",\n",
    "    \"data/processed/text_feature\",\n",
    "    \"data/raw/CBU0521DD_stories_attributes.csv\",\n",
    "    model_type=\"whisper\",\n",
    "    whisper_model_size=\"large\"\n",
    ")\n",
    "\n",
    "csv_path = 'data/raw/CBU0521DD_stories_attributes.csv'\n",
    "feature_path = 'data/processed/text_feature/feature_matrix.joblib'\n",
    "label_path = 'data/processed/text_feature/labels.joblib'\n",
    "\n",
    "text_feature_extract.process_and_save_features(\n",
    "    csv_path, \n",
    "    text_paths, \n",
    "    feature_path,\n",
    "    label_path\n",
    ")"
   ],
   "outputs": [
    {
     "name": "stderr",
     "output_type": "stream",
     "text": [
      "/home/jeeves/.conda/envs/ys_ml_mini_proj/lib/python3.11/site-packages/whisper/__init__.py:150: FutureWarning: You are using `torch.load` with `weights_only=False` (the current default value), which uses the default pickle module implicitly. It is possible to construct malicious pickle data which will execute arbitrary code during unpickling (See https://github.com/pytorch/pytorch/blob/main/SECURITY.md#untrusted-models for more details). In a future release, the default value for `weights_only` will be flipped to `True`. This limits the functions that could be executed during unpickling. Arbitrary objects will no longer be allowed to be loaded via this mode unless they are explicitly allowlisted by the user via `torch.serialization.add_safe_globals`. We recommend you start setting `weights_only=True` for any use case where you don't have full control of the loaded file. Please open an issue on GitHub for any issues related to this experimental feature.\n",
      "  checkpoint = torch.load(fp, map_location=device)\n",
      "Processing Audio Files: 100%|██████████| 100/100 [00:00<00:00, 519.03it/s]\n"
     ]
    },
    {
     "name": "stdout",
     "output_type": "stream",
     "text": [
      "Processed file data/processed/text_feature/whisper_large/00001.txt already exists, skip preprocessing\n",
      "Processed file data/processed/text_feature/whisper_large/00002.txt already exists, skip preprocessing\n",
      "Processed file data/processed/text_feature/whisper_large/00003.txt already exists, skip preprocessing\n",
      "Processed file data/processed/text_feature/whisper_large/00004.txt already exists, skip preprocessing\n",
      "Processed file data/processed/text_feature/whisper_large/00005.txt already exists, skip preprocessing\n",
      "Processed file data/processed/text_feature/whisper_large/00006.txt already exists, skip preprocessing\n",
      "Processed file data/processed/text_feature/whisper_large/00007.txt already exists, skip preprocessing\n",
      "Processed file data/processed/text_feature/whisper_large/00008.txt already exists, skip preprocessing\n",
      "Processed file data/processed/text_feature/whisper_large/00009.txt already exists, skip preprocessing\n",
      "Processed file data/processed/text_feature/whisper_large/00010.txt already exists, skip preprocessing\n",
      "Processed file data/processed/text_feature/whisper_large/00011.txt already exists, skip preprocessing\n",
      "Processed file data/processed/text_feature/whisper_large/00012.txt already exists, skip preprocessing\n",
      "Processed file data/processed/text_feature/whisper_large/00013.txt already exists, skip preprocessing\n",
      "Processed file data/processed/text_feature/whisper_large/00014.txt already exists, skip preprocessing\n",
      "Processed file data/processed/text_feature/whisper_large/00015.txt already exists, skip preprocessing\n",
      "Processed file data/processed/text_feature/whisper_large/00016.txt already exists, skip preprocessing\n",
      "Processed file data/processed/text_feature/whisper_large/00017.txt already exists, skip preprocessing\n",
      "Processed file data/processed/text_feature/whisper_large/00018.txt already exists, skip preprocessing\n",
      "Processed file data/processed/text_feature/whisper_large/00019.txt already exists, skip preprocessing\n",
      "Processed file data/processed/text_feature/whisper_large/00020.txt already exists, skip preprocessing\n",
      "Processed file data/processed/text_feature/whisper_large/00021.txt already exists, skip preprocessing\n",
      "Processed file data/processed/text_feature/whisper_large/00022.txt already exists, skip preprocessing\n",
      "Processed file data/processed/text_feature/whisper_large/00023.txt already exists, skip preprocessing\n",
      "Processed file data/processed/text_feature/whisper_large/00024.txt already exists, skip preprocessing\n",
      "Processed file data/processed/text_feature/whisper_large/00025.txt already exists, skip preprocessing\n",
      "Processed file data/processed/text_feature/whisper_large/00026.txt already exists, skip preprocessing\n",
      "Processed file data/processed/text_feature/whisper_large/00027.txt already exists, skip preprocessing\n",
      "Processed file data/processed/text_feature/whisper_large/00028.txt already exists, skip preprocessing\n",
      "Processed file data/processed/text_feature/whisper_large/00029.txt already exists, skip preprocessing\n",
      "Processed file data/processed/text_feature/whisper_large/00030.txt already exists, skip preprocessing\n",
      "Processed file data/processed/text_feature/whisper_large/00031.txt already exists, skip preprocessing\n",
      "Processed file data/processed/text_feature/whisper_large/00032.txt already exists, skip preprocessing\n",
      "Processed file data/processed/text_feature/whisper_large/00033.txt already exists, skip preprocessing\n",
      "Processed file data/processed/text_feature/whisper_large/00034.txt already exists, skip preprocessing\n",
      "Processed file data/processed/text_feature/whisper_large/00035.txt already exists, skip preprocessing\n",
      "Processed file data/processed/text_feature/whisper_large/00036.txt already exists, skip preprocessing\n",
      "Processed file data/processed/text_feature/whisper_large/00037.txt already exists, skip preprocessing\n",
      "Processed file data/processed/text_feature/whisper_large/00038.txt already exists, skip preprocessing\n",
      "Processed file data/processed/text_feature/whisper_large/00039.txt already exists, skip preprocessing\n",
      "Processed file data/processed/text_feature/whisper_large/00040.txt already exists, skip preprocessing\n",
      "Processed file data/processed/text_feature/whisper_large/00041.txt already exists, skip preprocessing\n",
      "Processed file data/processed/text_feature/whisper_large/00042.txt already exists, skip preprocessing\n",
      "Processed file data/processed/text_feature/whisper_large/00043.txt already exists, skip preprocessing\n",
      "Processed file data/processed/text_feature/whisper_large/00044.txt already exists, skip preprocessing\n",
      "Processed file data/processed/text_feature/whisper_large/00045.txt already exists, skip preprocessing\n",
      "Processed file data/processed/text_feature/whisper_large/00046.txt already exists, skip preprocessing\n",
      "Processed file data/processed/text_feature/whisper_large/00047.txt already exists, skip preprocessing\n",
      "Processed file data/processed/text_feature/whisper_large/00048.txt already exists, skip preprocessing\n",
      "Processed file data/processed/text_feature/whisper_large/00049.txt already exists, skip preprocessing\n",
      "Processed file data/processed/text_feature/whisper_large/00050.txt already exists, skip preprocessing\n",
      "Processed file data/processed/text_feature/whisper_large/00051.txt already exists, skip preprocessing\n",
      "Processed file data/processed/text_feature/whisper_large/00052.txt already exists, skip preprocessing\n",
      "Processed file data/processed/text_feature/whisper_large/00053.txt already exists, skip preprocessing\n",
      "Processed file data/processed/text_feature/whisper_large/00054.txt already exists, skip preprocessing\n",
      "Processed file data/processed/text_feature/whisper_large/00055.txt already exists, skip preprocessing\n",
      "Processed file data/processed/text_feature/whisper_large/00056.txt already exists, skip preprocessing\n",
      "Processed file data/processed/text_feature/whisper_large/00057.txt already exists, skip preprocessing\n",
      "Processed file data/processed/text_feature/whisper_large/00058.txt already exists, skip preprocessing\n",
      "Processed file data/processed/text_feature/whisper_large/00059.txt already exists, skip preprocessing\n",
      "Processed file data/processed/text_feature/whisper_large/00060.txt already exists, skip preprocessing\n",
      "Processed file data/processed/text_feature/whisper_large/00061.txt already exists, skip preprocessing\n",
      "Processed file data/processed/text_feature/whisper_large/00062.txt already exists, skip preprocessing\n",
      "Processed file data/processed/text_feature/whisper_large/00063.txt already exists, skip preprocessing\n",
      "Processed file data/processed/text_feature/whisper_large/00064.txt already exists, skip preprocessing\n",
      "Processed file data/processed/text_feature/whisper_large/00065.txt already exists, skip preprocessing\n",
      "Processed file data/processed/text_feature/whisper_large/00066.txt already exists, skip preprocessing\n",
      "Processed file data/processed/text_feature/whisper_large/00067.txt already exists, skip preprocessing\n",
      "Processed file data/processed/text_feature/whisper_large/00068.txt already exists, skip preprocessing\n",
      "Processed file data/processed/text_feature/whisper_large/00069.txt already exists, skip preprocessing\n",
      "Processed file data/processed/text_feature/whisper_large/00070.txt already exists, skip preprocessing\n",
      "Processed file data/processed/text_feature/whisper_large/00071.txt already exists, skip preprocessing\n",
      "Processed file data/processed/text_feature/whisper_large/00072.txt already exists, skip preprocessing\n",
      "Processed file data/processed/text_feature/whisper_large/00073.txt already exists, skip preprocessing\n",
      "Processed file data/processed/text_feature/whisper_large/00074.txt already exists, skip preprocessing\n",
      "Processed file data/processed/text_feature/whisper_large/00075.txt already exists, skip preprocessing\n",
      "Processed file data/processed/text_feature/whisper_large/00076.txt already exists, skip preprocessing\n",
      "Processed file data/processed/text_feature/whisper_large/00077.txt already exists, skip preprocessing\n",
      "Processed file data/processed/text_feature/whisper_large/00078.txt already exists, skip preprocessing\n",
      "Processed file data/processed/text_feature/whisper_large/00079.txt already exists, skip preprocessing\n",
      "Processed file data/processed/text_feature/whisper_large/00080.txt already exists, skip preprocessing\n",
      "Processed file data/processed/text_feature/whisper_large/00081.txt already exists, skip preprocessing\n",
      "Processed file data/processed/text_feature/whisper_large/00082.txt already exists, skip preprocessing\n",
      "Processed file data/processed/text_feature/whisper_large/00083.txt already exists, skip preprocessing\n",
      "Processed file data/processed/text_feature/whisper_large/00084.txt already exists, skip preprocessing\n",
      "Processed file data/processed/text_feature/whisper_large/00085.txt already exists, skip preprocessing\n",
      "Processed file data/processed/text_feature/whisper_large/00086.txt already exists, skip preprocessing\n",
      "Processed file data/processed/text_feature/whisper_large/00087.txt already exists, skip preprocessing\n",
      "Processed file data/processed/text_feature/whisper_large/00088.txt already exists, skip preprocessing\n",
      "Processed file data/processed/text_feature/whisper_large/00089.txt already exists, skip preprocessing\n",
      "Processed file data/processed/text_feature/whisper_large/00090.txt already exists, skip preprocessing\n",
      "Processed file data/processed/text_feature/whisper_large/00091.txt already exists, skip preprocessing\n",
      "Processed file data/processed/text_feature/whisper_large/00092.txt already exists, skip preprocessing\n",
      "Processed file data/processed/text_feature/whisper_large/00093.txt already exists, skip preprocessing\n",
      "Processed file data/processed/text_feature/whisper_large/00094.txt already exists, skip preprocessing\n",
      "Processed file data/processed/text_feature/whisper_large/00095.txt already exists, skip preprocessing\n",
      "Processed file data/processed/text_feature/whisper_large/00096.txt already exists, skip preprocessing\n",
      "Processed file data/processed/text_feature/whisper_large/00097.txt already exists, skip preprocessing\n",
      "Processed file data/processed/text_feature/whisper_large/00098.txt already exists, skip preprocessing\n",
      "Processed file data/processed/text_feature/whisper_large/00099.txt already exists, skip preprocessing\n",
      "Processed file data/processed/text_feature/whisper_large/00100.txt already exists, skip preprocessing\n",
      "Loaded labels for 100 files from data/raw/CBU0521DD_stories_attributes.csv.\n",
      "Got 100 data to process\n"
     ]
    },
    {
     "name": "stderr",
     "output_type": "stream",
     "text": [
      "Extract features:   0%|          | 0/100 [00:00<?, ?it/s]Building prefix dict from the default dictionary ...\n",
      "Loading model from cache /tmp/jieba.cache\n",
      "Loading model cost 0.661 seconds.\n",
      "Prefix dict has been built successfully.\n",
      "Extract features: 100%|██████████| 100/100 [00:10<00:00,  9.83it/s]\n"
     ]
    },
    {
     "name": "stdout",
     "output_type": "stream",
     "text": [
      "Feature matrix shape: (100, 770)\n",
      "Labels shape: (100,)\n",
      "Features saved to data/processed/text_feature/feature_matrix.joblib\n",
      "Labels saved to data/processed/text_feature/labels.joblib\n"
     ]
    }
   ],
   "execution_count": 4
  },
  {
   "cell_type": "markdown",
   "source": "## 4.2 Model stage\n\nDescribe the ML model(s) that you will build. Explain why you have chosen them.",
   "metadata": {
    "id": "0F5_kI95LuZ2"
   }
  },
  {
   "metadata": {
    "ExecuteTime": {
     "end_time": "2024-12-18T07:07:56.438432Z",
     "start_time": "2024-12-18T07:07:54.832684Z"
    }
   },
   "cell_type": "code",
   "source": [
    "from model.single_mode import voice_only_model\n",
    "from model.utils import ploter\n",
    "\n",
    "feature_path = 'data/processed/audio_feature/feature_matrix.joblib'\n",
    "label_path = 'data/processed/audio_feature/labels.joblib'\n",
    "accuracy, cm = voice_only_model.train_and_test(feature_path, label_path)\n",
    "\n",
    "ploter.plot_res(accuracy, cm)"
   ],
   "outputs": [
    {
     "name": "stdout",
     "output_type": "stream",
     "text": [
      "Features loaded from data/processed/audio_feature/feature_matrix.joblib\n",
      "Labels loaded from data/processed/audio_feature/labels.joblib\n",
      "Feature matrix shape: (100, 831)\n",
      "Labels shape: (100,)\n",
      "Training set shape after PCA: (70, 3)\n",
      "Test set shape after PCA: (30, 3)\n",
      "Training set shape after feature selection: (70, 3)\n",
      "Test set shape after feature selection: (30, 3)\n",
      "Preprocessing objects saved.\n",
      "Model saved to models/audio_only/random_forest.joblib\n",
      "Model loaded from models/audio_only/random_forest.joblib\n",
      "Classification Report:\n",
      "              precision    recall  f1-score   support\n",
      "\n",
      "           0       0.42      0.33      0.37        15\n",
      "           1       0.44      0.53      0.48        15\n",
      "\n",
      "    accuracy                           0.43        30\n",
      "   macro avg       0.43      0.43      0.43        30\n",
      "weighted avg       0.43      0.43      0.43        30\n",
      "\n",
      "Test Accuracy: 0.4333\n"
     ]
    },
    {
     "data": {
      "text/plain": [
       "<Figure size 800x600 with 2 Axes>"
      ],
      "image/png": "[encoded data removed]"
     },
     "metadata": {},
     "output_type": "display_data"
    }
   ],
   "execution_count": 1
  },
  {
   "metadata": {
    "ExecuteTime": {
     "end_time": "2024-12-18T07:08:00.115852Z",
     "start_time": "2024-12-18T07:07:59.763915Z"
    }
   },
   "cell_type": "code",
   "source": [
    "from model.single_mode import text_only_model\n",
    "from model.utils import ploter\n",
    "\n",
    "feature_path = 'data/processed/text_feature/feature_matrix.joblib'\n",
    "label_path = 'data/processed/text_feature/labels.joblib'\n",
    "\n",
    "accuracy, cm = text_only_model.train_and_test(feature_path, label_path)\n",
    "\n",
    "ploter.plot_res(accuracy, cm)"
   ],
   "outputs": [
    {
     "name": "stdout",
     "output_type": "stream",
     "text": [
      "Features loaded from data/processed/text_feature/feature_matrix.joblib\n",
      "Labels loaded from data/processed/text_feature/labels.joblib\n",
      "Feature matrix shape: (100, 770)\n",
      "Labels shape: (100,)\n",
      "Training set shape after PCA: (70, 1)\n",
      "Test set shape after PCA: (30, 1)\n",
      "Training set shape after feature selection: (70, 1)\n",
      "Test set shape after feature selection: (30, 1)\n",
      "Preprocessing objects saved.\n"
     ]
    },
    {
     "name": "stderr",
     "output_type": "stream",
     "text": [
      "/home/jeeves/.conda/envs/ys_ml_mini_proj/lib/python3.11/site-packages/sklearn/feature_selection/_univariate_selection.py:779: UserWarning: k=3 is greater than n_features=1. All the features will be returned.\n",
      "  warnings.warn(\n"
     ]
    },
    {
     "name": "stdout",
     "output_type": "stream",
     "text": [
      "Model saved to models/text_only/random_forest.joblib\n",
      "Model loaded from models/text_only/random_forest.joblib\n",
      "Classification Report:\n",
      "              precision    recall  f1-score   support\n",
      "\n",
      "           0       0.43      0.40      0.41        15\n",
      "           1       0.44      0.47      0.45        15\n",
      "\n",
      "    accuracy                           0.43        30\n",
      "   macro avg       0.43      0.43      0.43        30\n",
      "weighted avg       0.43      0.43      0.43        30\n",
      "\n",
      "Test Accuracy: 0.4333\n"
     ]
    },
    {
     "data": {
      "text/plain": [
       "<Figure size 800x600 with 2 Axes>"
      ],
      "image/png": "[encoded data removed]"
     },
     "metadata": {},
     "output_type": "display_data"
    }
   ],
   "execution_count": 2
  },
  {
   "cell_type": "markdown",
   "source": "## 4.3 Ensemble stage\n\nDescribe any ensemble approach you might have included. Explain why you have chosen them.",
   "metadata": {}
  },
  {
   "cell_type": "markdown",
   "source": "# 5 Dataset\n\nDescribe the datasets that you will create to build and evaluate your models. Your datasets need to be based on our MLEnd Deception Dataset. After describing the datasets, build them here. You can explore and visualise the datasets here as well. \n\nIf you are building separate training and validatio datasets, do it here. Explain clearly how you are building such datasets, how you are ensuring that they serve their purpose (i.e. they are independent and consist of IID samples) and any limitations you might think of. It is always important to identify any limitations as early as possible. The scope and validity of your conclusions will depend on your ability to understand the limitations of your approach.\n\nIf you are exploring different datasets, create different subsections for each dataset and give them a name (e.g. 5.1 Dataset A, 5.2 Dataset B, 5.3 Dataset 5.3) .\n\n",
   "metadata": {
    "id": "HZQPxztuL9AW"
   }
  },
  {
   "cell_type": "markdown",
   "source": "# 6 Experiments and results\n\nCarry out your experiments here. Analyse and explain your results. Unexplained results are worthless.",
   "metadata": {
    "id": "2qf7GN1aeXJI"
   }
  },
  {
   "cell_type": "markdown",
   "source": "# 7 Conclusions\n\nYour conclusions, suggestions for improvements, etc should go here.",
   "metadata": {
    "id": "fSrJCR_cekPO"
   }
  },
  {
   "cell_type": "markdown",
   "source": "# 8 References\n\nAcknowledge others here (books, papers, repositories, libraries, tools) ",
   "metadata": {}
  }
 ]
}
